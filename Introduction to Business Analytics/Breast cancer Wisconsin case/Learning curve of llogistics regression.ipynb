{
 "cells": [
  {
   "cell_type": "markdown",
   "metadata": {
    "id": "fux0iU-lgHxb"
   },
   "source": [
    "## Build Decision Tree Model&"
   ]
  },
  {
   "cell_type": "code",
   "execution_count": 43,
   "metadata": {
    "id": "eVG_ngtyhAnu"
   },
   "outputs": [],
   "source": [
    "# Basic pacakges are imported for fundamental process.\n",
    "\n",
    "import pandas as pd\n",
    "import numpy as np\n",
    "import scipy as sp\n",
    "import sklearn\n",
    "\n",
    "%matplotlib inline\n",
    "import matplotlib\n",
    "import matplotlib.pyplot as plt\n",
    "\n",
    "from sklearn.metrics import confusion_matrix\n",
    "import itertools\n",
    "from sklearn.model_selection import train_test_split\n",
    "\n",
    "from sklearn.tree import export_graphviz\n",
    "from IPython.display import Image\n",
    "from sklearn import tree\n",
    "import graphviz\n",
    "\n",
    "from sklearn.metrics import accuracy_score,precision_score, recall_score\n",
    "\n",
    "from matplotlib.colors import ListedColormap\n",
    "\n",
    "from sklearn import neighbors, datasets\n",
    "import itertools\n",
    "from sklearn.model_selection import GridSearchCV, KFold\n",
    "\n",
    "from sklearn.metrics import roc_curve\n",
    "from sklearn.metrics import auc\n",
    "from sklearn.model_selection import cross_val_score"
   ]
  },
  {
   "cell_type": "code",
   "execution_count": 44,
   "metadata": {
    "colab": {
     "base_uri": "https://localhost:8080/"
    },
    "id": "FILpxF3MhBjE",
    "outputId": "bfd1fcc5-ed33-48b0-c472-76f9c090b95f"
   },
   "outputs": [
    {
     "name": "stdout",
     "output_type": "stream",
     "text": [
      "The size of training set is  (426, 30) (426,)\n",
      "The size of testing set is  (143, 30) (143,)\n"
     ]
    }
   ],
   "source": [
    "url = r'http://archive.ics.uci.edu/ml/machine-learning-databases/breast-cancer-wisconsin/wdbc.data'\n",
    "df = pd.read_csv(url, header = None, \n",
    "                 names=[\"id\",\"diagnosis\",\"radius_mean\",\n",
    "                        \"texture_mean\",\"perimeter_mean\",\"area_mean\",\n",
    "                        \"smoothness_mean\",\"compactness_mean\",\"concavity_mean\",\n",
    "                        \"concave_points_mean\",\"symmetry_mean\",\"fractal_dimension_mean\",\n",
    "                        \"radius_se\",\"texture_se\",\"perimeter_se\",\n",
    "                        \"area_se\",\"smoothness_se\",\"compactness_se\",\n",
    "                        \"concavity_se\",\"concave points_se\",\"symmetry_se\",\n",
    "                        \"fractal_dimension_se\",\"radius_worst\",\"texture_worst\",\n",
    "                        \"perimeter_worst\",\"area_worst\",\"smoothness_worst\",\n",
    "                        \"compactness_worst\",\"concavity_worst\",\"concave_points_worst\",\n",
    "                        \"symmetry_worst\",\"fractal_dimension_worst\"]\n",
    "                )\n",
    "\n",
    "df['id'] = df['id'].apply(str)\n",
    "\n",
    "# Retrieving Attributes\n",
    "X = df.iloc[:, 2:33] # keep specific attributes \n",
    "\n",
    "# Retriving Target Variable\n",
    "y = df.loc[:, \"diagnosis\"].replace({'B':0, 'M':1})\n",
    "\n",
    "X_train, X_test, y_train, y_test = train_test_split(X, y, \n",
    "                                                    test_size = 0.25, \n",
    "                                                    random_state = 42,\n",
    "                                                    stratify = y)\n",
    "print('The size of training set is ',X_train.shape,y_train.shape)  \n",
    "print('The size of testing set is ',X_test.shape,y_test.shape) "
   ]
  },
  {
   "cell_type": "code",
   "execution_count": 73,
   "metadata": {
    "colab": {
     "base_uri": "https://localhost:8080/"
    },
    "id": "QXwZqHPFgEN3",
    "outputId": "c5e08ff5-19ef-42e2-8caa-80bbdecb92eb"
   },
   "outputs": [
    {
     "name": "stdout",
     "output_type": "stream",
     "text": [
      "Parameter Tuning #1\n",
      "Non-nested CV f1:  0.9470621244218462\n",
      "Optimal Parameter:  {'criterion': 'entropy', 'max_depth': 4, 'min_samples_leaf': 9, 'min_samples_split': 2}\n",
      "Optimal Estimator:  DecisionTreeClassifier(ccp_alpha=0.0, class_weight=None, criterion='entropy',\n",
      "                       max_depth=4, max_features=None, max_leaf_nodes=None,\n",
      "                       min_impurity_decrease=0.0, min_impurity_split=None,\n",
      "                       min_samples_leaf=9, min_samples_split=2,\n",
      "                       min_weight_fraction_leaf=0.0, presort='deprecated',\n",
      "                       random_state=42, splitter='best')\n",
      "Nested CV f1:  0.9276020088529762  +/-  0.029231815601976897\n"
     ]
    }
   ],
   "source": [
    "from sklearn import neighbors, datasets\n",
    "from sklearn.metrics import confusion_matrix\n",
    "import itertools\n",
    "from sklearn.model_selection import train_test_split\n",
    "import matplotlib.pyplot as plt\n",
    "from sklearn.model_selection import GridSearchCV, KFold\n",
    "\n",
    "inner_cv = KFold(n_splits = 5, shuffle=True)\n",
    "outer_cv = KFold(n_splits = 5, shuffle=True)\n",
    "\n",
    "from sklearn.tree import DecisionTreeClassifier\n",
    "# Choosing depth of the tree AND splitting criterion AND min_samples_leaf AND min_samples_split\n",
    "\n",
    "gs_DT = GridSearchCV(estimator = DecisionTreeClassifier(random_state=42),\n",
    "                  param_grid = [{'criterion' : ['gini', 'entropy'],\n",
    "                               'max_depth' : range(2,15,1),\n",
    "                               'min_samples_leaf' : [1,2,3,4,5,6,7,8,9,10],\n",
    "                               'min_samples_split' : [2,3,4,5,6,7,8,9,10]\n",
    "                                }],\n",
    "                  scoring = 'f1_weighted', \n",
    "                  cv = inner_cv)\n",
    "\n",
    "gs_DT = gs_DT.fit(X,y)\n",
    "print(\"Non-nested CV f1: \", gs_DT.best_score_)\n",
    "# Parameter setting that gave the best results on the hold out data.\n",
    "print(\"Optimal Parameter: \", gs_DT.best_params_)    \n",
    "# Estimator that was chosen by the search, i.e. estimator which gave highest score\n",
    "print(\"Optimal Estimator: \", gs_DT.best_estimator_) \n",
    "nested_score_gs = cross_val_score(gs_DT, X = X, y = y, cv = outer_cv)\n",
    "print(\"Nested CV f1: \",nested_score_gs.mean(), \" +/- \", nested_score_gs.std())"
   ]
  },
  {
   "cell_type": "markdown",
   "metadata": {
    "id": "6daf5b2e"
   },
   "source": [
    "\n",
    "\n",
    "```\n",
    "## This is formatted as code\n",
    "```\n",
    "\n",
    "## The original logistic model"
   ]
  },
  {
   "cell_type": "code",
   "execution_count": null,
   "metadata": {
    "id": "59050d1d"
   },
   "outputs": [],
   "source": [
    "#read data\n",
    "from urllib.request import urlopen\n",
    "import pandas as pd\n",
    "from sklearn.model_selection import train_test_split\n",
    "from sklearn.metrics import accuracy_score, f1_score, classification_report\n",
    "from sklearn import linear_model      \n",
    "import warnings\n",
    "warnings.filterwarnings('ignore')\n",
    "\n",
    "link = \"http://archive.ics.uci.edu/ml/machine-learning-databases/breast-cancer-wisconsin/wdbc.data\"\n",
    "data = urlopen(link)\n",
    "data = pd.read_csv(data, sep=',', \n",
    "                  names = [\"ID_number\",\"Diagnosis\",\"radius_mean\",\"texture_mean\",\"perimeter_mean\",\n",
    "                           \"area_mean\",\"smoothness_mean\",\"compactness_mean\",\"concavity_mean\",\n",
    "                           \"concave_points_mean\",\"symmetry_mean\",\"fractal_dimension_mean\",\"radius_se\",\n",
    "                           \"texture_se\",\"perimeter_se\",\"area_se\",\"smoothness_se\",\"compactness_se\",\n",
    "                           \"concavity_se\",\"concave_points_se\",\"symmetry_se\",\"fractal_dimension_se\",\n",
    "                           \"radius_worst\",\"texture_worst\",\"perimeter_worst\",\"area_worst\",\"smoothness_worst\",\n",
    "                           \"compactness_worst\",\"concavity_worst\", \"concave_points_worst\",\n",
    "                           \"symmetry_worst\",\"fractal_dimension_worst\"])\n",
    "#data.describe()\n"
   ]
  },
  {
   "cell_type": "code",
   "execution_count": null,
   "metadata": {
    "id": "bfbec113"
   },
   "outputs": [],
   "source": [
    "#load packages \n",
    "from __future__ import division, print_function, unicode_literals\n",
    "%matplotlib inline\n",
    "import numpy as np\n",
    "import matplotlib.pyplot as plt\n",
    "from matplotlib.colors import ListedColormap\n",
    "from sklearn import neighbors, datasets\n",
    "\n",
    "#simple cleaning checking for null values\n",
    "data.isnull().sum()\n",
    "\n",
    "#define X and y\n",
    "X =data.iloc[:,2:]  \n",
    "y =data.iloc[:,1]\n",
    "y = data.loc[:, \"Diagnosis\"].replace({'B':0, 'M':1})"
   ]
  },
  {
   "cell_type": "code",
   "execution_count": null,
   "metadata": {
    "colab": {
     "base_uri": "https://localhost:8080/"
    },
    "id": "1c6e9680",
    "outputId": "60b253ce-8a73-4d1f-c6d4-b8e68da7352a"
   },
   "outputs": [
    {
     "name": "stdout",
     "output_type": "stream",
     "text": [
      "The weights of the attributes are: [[-1.0018158  -0.70715932 -0.49600065  0.03052418  0.03916066  0.16561983\n",
      "   0.23994725  0.10483052  0.0420845   0.00910645 -0.03816304 -0.51059228\n",
      "  -0.0216142   0.15336676  0.00366424  0.03042537  0.04690306  0.01406377\n",
      "   0.01207006  0.00274208 -0.98703502  0.79417259  0.39025278  0.00307908\n",
      "   0.06633636  0.4843702   0.62298876  0.19437206  0.17392859  0.04547919]]\n",
      "1 [0.19470803 0.80529197] 1.0\n"
     ]
    }
   ],
   "source": [
    "np.random.seed(42)\n",
    "# Split data \n",
    "X_train, X_test, y_train, y_test = train_test_split(\n",
    "    X, y, test_size=0.25, random_state=42, stratify=y)\n",
    "\n",
    "#Create a classifier-logistic \n",
    "clf = linear_model.LogisticRegression(multi_class='auto',C=1e5) #some parameters can modify here later \n",
    "\n",
    "#Train the model\n",
    "#Take a look at estimated coefficients \n",
    "clf = clf.fit(X_train, y_train)\n",
    "print('The weights of the attributes are:', clf.coef_)\n",
    "\n",
    "#Apply the Logistics Regression Model \n",
    "y_pred = clf.predict(X_test)\n",
    "#y_pred give either 0 or 1 \n",
    "y_pred_prob = clf.predict_proba(X_test)\n",
    "#y_pred_prob \n",
    "print(y_pred[1],y_pred_prob[1],np.sum(y_pred_prob[1]))\n",
    "#y_pred[0] return 0\n",
    "#y_pred_prob[0] return[0.22684822 0.77315178] B is 0, M is 1, probability of return 0 and 1 "
   ]
  },
  {
   "cell_type": "code",
   "execution_count": null,
   "metadata": {
    "colab": {
     "base_uri": "https://localhost:8080/"
    },
    "id": "5562bd8b",
    "outputId": "4e11a1b7-9e02-4419-a39e-8c569912a2e3"
   },
   "outputs": [
    {
     "name": "stdout",
     "output_type": "stream",
     "text": [
      "              precision    recall  f1-score   support\n",
      "\n",
      "           0      0.915     0.979     0.946       143\n",
      "           1      0.960     0.847     0.900        85\n",
      "\n",
      "    accuracy                          0.930       228\n",
      "   macro avg      0.938     0.913     0.923       228\n",
      "weighted avg      0.932     0.930     0.929       228\n",
      "\n"
     ]
    }
   ],
   "source": [
    "#Evaluate the regression model \n",
    "print(classification_report(y_test, y_pred,digits=3))\n",
    "#f1 is the harmonic mean between precision and recall \n",
    "#143,85 not well balanced dataset"
   ]
  },
  {
   "cell_type": "markdown",
   "metadata": {
    "id": "455b5167"
   },
   "source": [
    "## Log cv"
   ]
  },
  {
   "cell_type": "code",
   "execution_count": 57,
   "metadata": {
    "colab": {
     "base_uri": "https://localhost:8080/"
    },
    "id": "ae8259c1",
    "outputId": "f0346462-5441-4381-b3d5-9de076a07efe",
    "scrolled": true
   },
   "outputs": [
    {
     "name": "stdout",
     "output_type": "stream",
     "text": [
      "Accuracy: 0.94 (+/- 0.02)\n",
      "[0.92982456 0.93859649 0.95614035 0.94736842 0.94690265]\n",
      "F1-score: 0.95 (+/- 0.04)\n",
      "[0.92912838 0.90958165 0.92901849 0.92982456 0.98253659 0.96491228\n",
      " 0.92982456 0.94760977 0.96520848 0.96428571]\n"
     ]
    }
   ],
   "source": [
    "#Logistics Regression with Cross Validation\n",
    "from sklearn import metrics \n",
    "from sklearn.linear_model import LogisticRegression\n",
    "from sklearn.model_selection import cross_val_score\n",
    "\n",
    "# Fit model to all the data\n",
    "clf_lr = linear_model.LogisticRegression(multi_class='auto',C=1) \n",
    "#clf_lr = LogisticRegression(C=1e4, solver='liblinear')\n",
    "\n",
    "# Accuracy\n",
    "scores=cross_val_score(clf_lr,X,y, cv=5)\n",
    "print(\"Accuracy: %0.2f (+/- %0.2f)\" % (scores.mean(), scores.std() * 2))\n",
    "print(scores)# for each validation \n",
    "\n",
    "# F-1 scores\n",
    "scores_f1=cross_val_score(clf_lr,X,y, cv=10, scoring='f1_weighted')\n",
    "print(\"F1-score: %0.2f (+/- %0.2f)\" % (scores_f1.mean(), scores_f1.std() * 2))\n",
    "print(scores_f1)# for each validation "
   ]
  },
  {
   "cell_type": "markdown",
   "metadata": {
    "id": "6dffb12f"
   },
   "source": [
    "## The new logistic model"
   ]
  },
  {
   "cell_type": "code",
   "execution_count": null,
   "metadata": {
    "id": "5ba82cd9"
   },
   "outputs": [],
   "source": [
    "from sklearn.tree import DecisionTreeClassifier\n",
    "from sklearn.model_selection import GridSearchCV, KFold, cross_val_score\n",
    "from sklearn.linear_model import LogisticRegression \n",
    "from sklearn import neighbors, datasets\n",
    "from sklearn.preprocessing import StandardScaler\n",
    "from sklearn.pipeline import Pipeline\n",
    "\n",
    "np.random.seed(42)\n",
    "\n",
    "inner_cv = KFold(n_splits=5, shuffle=True)\n",
    "outer_cv = KFold(n_splits=5, shuffle=True)"
   ]
  },
  {
   "cell_type": "code",
   "execution_count": 69,
   "metadata": {
    "colab": {
     "base_uri": "https://localhost:8080/"
    },
    "id": "6c02cf71",
    "outputId": "bbac19c3-cdb5-4531-e7ed-2b7d4d7f8277"
   },
   "outputs": [
    {
     "name": "stdout",
     "output_type": "stream",
     "text": [
      "\n",
      " Parameter Tuning\n",
      "Non-nested CV f1:  0.9647495145272696\n",
      "Optimal Parameter:  {'C': 100000, 'penalty': 'l2'}\n",
      "Optimal Estimator:  LogisticRegression(C=100000, class_weight=None, dual=False, fit_intercept=True,\n",
      "                   intercept_scaling=1, l1_ratio=None, max_iter=100,\n",
      "                   multi_class='auto', n_jobs=None, penalty='l2',\n",
      "                   random_state=42, solver='liblinear', tol=0.0001, verbose=0,\n",
      "                   warm_start=False)\n",
      "Nested CV f1: 0.9613127467510207  +/-  0.004452417391250538\n"
     ]
    }
   ],
   "source": [
    "from  warnings import simplefilter\n",
    "from sklearn.exceptions import ConvergenceWarning\n",
    "simplefilter(\"ignore\", category=ConvergenceWarning)\n",
    "\n",
    "gs_lr2 = GridSearchCV(estimator=LogisticRegression(random_state=42, solver='liblinear'),\n",
    "                  param_grid=[{'C': [ 0.00001, 0.0001, 0.001, 0.01, 0.1 ,1 ,10 ,100, 1000, 10000, 100000, 1000000, 10000000],\n",
    "                             'penalty':['l1','l2']}],\n",
    "                  scoring='f1_weighted',\n",
    "                  cv=inner_cv)\n",
    "\n",
    "gs_lr2 = gs_lr2.fit(X,y)\n",
    "print(\"\\n Parameter Tuning\")\n",
    "print(\"Non-nested CV f1: \", gs_lr2.best_score_)\n",
    "print(\"Optimal Parameter: \", gs_lr2.best_params_)\n",
    "print(\"Optimal Estimator: \", gs_lr2.best_estimator_)\n",
    "nested_score_gs_lr2 = cross_val_score(gs_lr2, X=X, y=y, cv=outer_cv)\n",
    "print(\"Nested CV f1:\",nested_score_gs_lr2.mean(), \" +/- \", nested_score_gs_lr2.std())\n",
    " "
   ]
  },
  {
   "cell_type": "markdown",
   "metadata": {
    "id": "1c4e6e34"
   },
   "source": [
    "## Learning Curves "
   ]
  },
  {
   "cell_type": "code",
   "execution_count": 66,
   "metadata": {
    "id": "4803ff8e"
   },
   "outputs": [],
   "source": [
    "#Learning Curves \n",
    "def plot_learning_curve(estimator, title, X, y, ylim=None, cv=None,\n",
    "                        n_jobs=1, train_sizes=np.linspace(.1, 1.0, 10),score='f1_weighted'): # np.linspace(.1, 1.0, 5) will return evenly\n",
    "                                                                        # spaced 5 numbers from 0.1 to 1.0\n",
    "                        # n_jobs is the number of CPUs to use to do the computation. \n",
    "    \"\"\"\n",
    "    Generate a simple plot of the test and training learning curve.\n",
    "\n",
    "    Parameters\n",
    "    ----------\n",
    "    estimator : object type that implements the \"fit\" and \"predict\" methods\n",
    "        An object of that type which is cloned for each validation.\n",
    "\n",
    "    title : string\n",
    "        Title for the chart.\n",
    "\n",
    "    X : array-like, shape (n_samples, n_features)\n",
    "        Training vector, where n_samples is the number of samples and\n",
    "        n_features is the number of features.\n",
    "\n",
    "    y : array-like, shape (n_samples) or (n_samples, n_features), optional\n",
    "        Target relative to X for classification or regression;\n",
    "        None for unsupervised learning.\n",
    "\n",
    "    ylim : tuple, shape (ymin, ymax), optional\n",
    "        Defines minimum and maximum yvalues plotted.\n",
    "\n",
    "    cv : int, cross-validation generator or an iterable, optional\n",
    "        Determines the cross-validation splitting strategy.\n",
    "        Possible inputs for cv are:\n",
    "          - None, to use the default 3-fold cross-validation,\n",
    "          - integer, to specify the number of folds.\n",
    "          - An object to be used as a cross-validation generator.\n",
    "          - An iterable yielding train/test splits.\n",
    "\n",
    "        For integer/None inputs, if ``y`` is binary or multiclass,\n",
    "        :class:`StratifiedKFold` used. If the estimator is not a classifier\n",
    "        or if ``y`` is neither binary nor multiclass, :class:`KFold` is used.\n",
    "\n",
    "        Refer :ref:`User Guide <cross_validation>` for the various\n",
    "        cross-validators that can be used here.\n",
    "\n",
    "    n_jobs : integer, optional\n",
    "        Number of jobs to run in parallel (default 1).\n",
    "    \"\"\"\n",
    "    \n",
    "    # Visualization patamters\n",
    "    plt.figure()\n",
    "    plt.title(title)\n",
    "    if ylim is not None:\n",
    "        plt.ylim(*ylim)\n",
    "    plt.xlabel(\"Training examples\")\n",
    "    plt.ylabel(\"Score\")\n",
    "    \n",
    "    # Estimate train and test score for different training set sizes\n",
    "    train_sizes, train_scores, test_scores = learning_curve(\n",
    "        estimator, X, y, cv=cv, n_jobs=n_jobs, train_sizes=train_sizes) # learning_curve Determines cross-validated \n",
    "                                                                        # training and test scores for different \n",
    "                                                                        # training set sizes.\n",
    "\n",
    "    # Estimate statistics of train and test scores (mean, std)\n",
    "    train_scores_mean = np.mean(train_scores, axis=1)\n",
    "    train_scores_std = np.std(train_scores, axis=1)\n",
    "    test_scores_mean = np.mean(test_scores, axis=1)\n",
    "    test_scores_std = np.std(test_scores, axis=1)\n",
    "    plt.grid()\n",
    "\n",
    "    # Fill the area around the mean scores with standard deviation info\n",
    "    plt.fill_between(train_sizes, train_scores_mean - train_scores_std,\n",
    "                     train_scores_mean + train_scores_std, alpha=0.1,\n",
    "                     color=\"r\") # Fill for train set scores\n",
    "\n",
    "    plt.fill_between(train_sizes, test_scores_mean - test_scores_std,\n",
    "                     test_scores_mean + test_scores_std, alpha=0.1, color=\"g\")  # Fill for test set scores\n",
    "    \n",
    "    # Visualization parameters that will allow us to distinguish train set scores from test set scores\n",
    "    plt.plot(train_sizes, train_scores_mean, 'o-', color=\"r\",\n",
    "             label=\"Training score\")\n",
    "    plt.plot(train_sizes, test_scores_mean, 'o-', color=\"g\",\n",
    "             label=\"Cross-validation score\")\n",
    "\n",
    "    plt.legend(loc=\"best\")\n",
    "    return plt"
   ]
  },
  {
   "cell_type": "markdown",
   "metadata": {
    "id": "c2473ffb"
   },
   "source": [
    "## plot learning curve "
   ]
  },
  {
   "cell_type": "code",
   "execution_count": 70,
   "metadata": {
    "colab": {
     "base_uri": "https://localhost:8080/",
     "height": 295
    },
    "id": "eeb6edac",
    "outputId": "c9a4ad76-639d-4610-e628-c01c61874569"
   },
   "outputs": [
    {
     "data": {
      "image/png": "[encoded data removed]",
      "text/plain": [
       "<Figure size 432x288 with 1 Axes>"
      ]
     },
     "metadata": {
      "needs_background": "light"
     },
     "output_type": "display_data"
    }
   ],
   "source": [
    "from sklearn.model_selection import learning_curve\n",
    "from sklearn.model_selection import ShuffleSplit\n",
    "from sklearn.linear_model import LogisticRegression\n",
    "from sklearn import neighbors\n",
    "\n",
    "title = \"Learning Curve (LR)\"\n",
    "cv = ShuffleSplit(n_splits=10, test_size=0.3, random_state=42)\n",
    "estimator = LogisticRegression(random_state=42, solver='liblinear',C=100, penalty='l1',)\n",
    "plot_learning_curve(estimator, title, X, y, (0.8, 1.01), cv=cv, n_jobs=4)\n",
    "plt.show()"
   ]
  },
  {
   "cell_type": "markdown",
   "metadata": {
    "id": "7yccVp--j3ni"
   },
   "source": [
    "## Fitting Graph"
   ]
  },
  {
   "cell_type": "code",
   "execution_count": 74,
   "metadata": {
    "colab": {
     "base_uri": "https://localhost:8080/",
     "height": 297
    },
    "id": "nJbQlmoZj5dX",
    "outputId": "957153a7-18de-4c5c-a0d7-ab1ff50b3957"
   },
   "outputs": [
    {
     "data": {
      "image/png": "[encoded data removed]",
      "text/plain": [
       "<Figure size 432x288 with 1 Axes>"
      ]
     },
     "metadata": {
      "needs_background": "light"
     },
     "output_type": "display_data"
    }
   ],
   "source": [
    "from sklearn.model_selection import validation_curve\n",
    "from sklearn.model_selection import train_test_split\n",
    "from sklearn.linear_model import LogisticRegression \n",
    "\n",
    "np.random.seed(42)\n",
    "\n",
    "max_depth = range(2,20,1)\n",
    "param_name = \"max_depth\"\n",
    "param_range = max_depth\n",
    "\n",
    "DTmodel = tree.DecisionTreeClassifier(criterion = 'entropy', \n",
    "                                      max_depth = 4, \n",
    "                                      min_samples_leaf = 9,\n",
    "                                      min_samples_split = 2\n",
    "                                     )  \n",
    "\n",
    "# Determine training and test scores for varying parameter values.\n",
    "train_scores, test_scores = validation_curve( \n",
    "                DTmodel, \n",
    "                X = X_train, \n",
    "                y = y_train, \n",
    "                param_name = param_name, # parameter C: Inverse of regularization strength; must be a positive float. Smaller values of paramter C specify stronger regularization.\n",
    "                param_range = param_range,\n",
    "                cv = 10,     #10-fold cross-validation\n",
    "                scoring = 'f1_weighted',\n",
    "                n_jobs = 4\n",
    ") # Number of CPU cores used when parallelizing over classes if multi_class=’ovr’”. This parameter is ignored when the ``solver``is set to ‘liblinear’ regardless of whether ‘multi_class’ is specified or not. If given a value of -1, all cores are used.\n",
    "\n",
    "\n",
    "# Cross validation statistics for training and testing data (mean and standard deviation)\n",
    "train_mean = np.mean(train_scores, axis=1) # Compute the arithmetic mean along the specified axis.\n",
    "train_std = np.std(train_scores, axis=1)   # Compute the standard deviation along the specified axis.\n",
    "test_mean = np.mean(test_scores, axis=1)\n",
    "test_std = np.std(test_scores, axis=1)\n",
    "\n",
    "\n",
    "# Plot train accuracy means of cross-validation for all the parameters C in param_range\n",
    "plt.plot(param_range, train_mean, \n",
    "         color='blue', marker='o', \n",
    "         markersize=5, label='training f1')\n",
    "\n",
    "# Fill the area around the line to indicate the size of standard deviations of performance for the training data\n",
    "plt.fill_between(param_range, train_mean + train_std,\n",
    "                 train_mean - train_std, alpha=0.15,\n",
    "                 color='blue')\n",
    "\n",
    "# Plot test accuracy means of cross-validation for all the parameters C in param_range\n",
    "plt.plot(param_range, test_mean, \n",
    "         color='green', linestyle='--', \n",
    "         marker='s', markersize=5, \n",
    "         label='validation f1')\n",
    "\n",
    "# Fill the area around the line to indicate the size of standard deviations of performance for the test data\n",
    "plt.fill_between(param_range, \n",
    "                 test_mean + test_std,\n",
    "                 test_mean - test_std, \n",
    "                 alpha=0.15, color='green')\n",
    "\n",
    "# Grid and Axes Titles\n",
    "plt.grid()\n",
    "#plt.xscale('log')\n",
    "plt.legend(loc='lower right')\n",
    "plt.xlabel('max_depth')\n",
    "plt.ylabel('f1')\n",
    "plt.ylim([0.8, 1.01]) # y limits in the plot\n",
    "\n",
    "from matplotlib.ticker import MaxNLocator\n",
    "plt.gca().xaxis.set_major_locator(MaxNLocator(integer=True))\n",
    "\n",
    "plt.tight_layout()\n",
    "# plt.savefig('Fitting_graph_LR.png', dpi=300)\n",
    "plt.show()           # Display the figure\n",
    "\n"
   ]
  },
  {
   "cell_type": "code",
   "execution_count": null,
   "metadata": {
    "id": "1JNz-aL3j0d6"
   },
   "outputs": [],
   "source": []
  },
  {
   "cell_type": "markdown",
   "metadata": {
    "id": "e9e2cf49"
   },
   "source": [
    "## ROC"
   ]
  },
  {
   "cell_type": "code",
   "execution_count": 75,
   "metadata": {
    "id": "639947c1"
   },
   "outputs": [],
   "source": [
    "import numpy as np\n",
    "from sklearn.linear_model import LogisticRegression\n",
    "from sklearn.tree import DecisionTreeClassifier\n",
    "from sklearn.neighbors import KNeighborsClassifier \n",
    "from sklearn.metrics import roc_curve\n",
    "from sklearn.metrics import auc"
   ]
  },
  {
   "cell_type": "code",
   "execution_count": 77,
   "metadata": {
    "colab": {
     "base_uri": "https://localhost:8080/"
    },
    "id": "391dd274",
    "outputId": "29c5ffa3-79d6-4a24-cba8-0c90dcd569bf"
   },
   "outputs": [
    {
     "name": "stdout",
     "output_type": "stream",
     "text": [
      "10-fold cross validation:\n",
      "\n",
      "ROC AUC: 0.99 (+/- 0.01) [Logistic regression]\n",
      "ROC AUC: 0.97 (+/- 0.03) [Decision tree]\n"
     ]
    }
   ],
   "source": [
    "# Logistic Regression Classifier\n",
    "clf1 = LogisticRegression(penalty='l1', \n",
    "                          C=100,\n",
    "                          random_state=42,\n",
    "                          solver='liblinear')\n",
    "\n",
    "# Decision Tree Classifier\n",
    "clf2 = DecisionTreeClassifier(criterion = 'entropy', \n",
    "                              max_depth = 4, \n",
    "                              min_samples_leaf = 9,\n",
    "                              min_samples_split = 2,\n",
    "                              random_state=42\n",
    "                             )\n",
    "\n",
    "# Label the classifiers\n",
    "clf_labels = ['Logistic regression', 'Decision tree']\n",
    "all_clf = [clf1, clf2]\n",
    "\n",
    "#Cross - Validation\n",
    "print('10-fold cross validation:\\n')\n",
    "# Note: We are assuming here that the data is standardized. For the homework, you need to make sure the data is standardized.\n",
    "for clf, label in zip([clf1, clf2],clf_labels): #For all classifiers \n",
    "    scores = cross_val_score(estimator=clf,  #Estimate AUC based on cross validation\n",
    "                             X=X,\n",
    "                             y=y,\n",
    "                             cv=10,\n",
    "                             scoring='roc_auc')\n",
    "    print(\"ROC AUC: %0.2f (+/- %0.2f) [%s]\" #Print peformance statistics based on cross-validation\n",
    "          % (scores.mean(), scores.std(), label))"
   ]
  },
  {
   "cell_type": "code",
   "execution_count": 79,
   "metadata": {
    "colab": {
     "base_uri": "https://localhost:8080/",
     "height": 279
    },
    "id": "8aa51c94",
    "outputId": "70b2fff0-b53b-4f74-d9cd-6c8e3fccd603"
   },
   "outputs": [
    {
     "data": {
      "image/png": "[encoded data removed]",
      "text/plain": [
       "<Figure size 432x288 with 1 Axes>"
      ]
     },
     "metadata": {
      "needs_background": "light"
     },
     "output_type": "display_data"
    }
   ],
   "source": [
    "colors = [ 'orange', 'blue']      # Colors for visualization\n",
    "linestyles = [':', '--', '-.', '-']        # Line styles for visualization\n",
    "\n",
    "for clf, label, clr, ls in zip(all_clf, clf_labels, colors, linestyles):\n",
    "\n",
    "    # Assuming the label of the positive class is 1 and data is normalized\n",
    "    y_pred = clf.fit(X_train,\n",
    "                     y_train).predict_proba(X_test)[:, 1] # Make predictions based on the classifiers\n",
    "    fpr, tpr, thresholds = roc_curve(y_true=y_test, # Build ROC curve\n",
    "                                     y_score=y_pred)\n",
    "    roc_auc = auc(x=fpr, y=tpr)                # Compute Area Under the Curve (AUC) \n",
    "    plt.plot(fpr, tpr,                         # Plot ROC Curve and create label with AUC values\n",
    "             color=clr,\n",
    "             linestyle=ls,\n",
    "             label='%s (auc = %0.2f)' % (label, roc_auc))\n",
    "\n",
    "plt.legend(loc='lower right')    # Where to place the legend\n",
    "plt.plot([0, 1], [0, 1], # Visualize random classifier\n",
    "         linestyle='--',\n",
    "         color='gray',\n",
    "         linewidth=2)\n",
    "\n",
    "plt.xlim([-0.1, 1.1])   #limits for x axis\n",
    "plt.ylim([-0.1, 1.1])   #limits for y axis\n",
    "plt.grid(alpha=0.5)\n",
    "plt.xlabel('False positive rate (FPR)')\n",
    "plt.ylabel('True positive rate (TPR)')\n",
    "\n",
    "\n",
    "#plt.savefig('ROC_all_classifiers', dpi=300)\n",
    "plt.show()"
   ]
  }
 ],
 "metadata": {
  "colab": {
   "name": "Homework 3B.ipynb",
   "provenance": []
  },
  "kernelspec": {
   "display_name": "Python 3",
   "language": "python",
   "name": "python3"
  },
  "language_info": {
   "codemirror_mode": {
    "name": "ipython",
    "version": 3
   },
   "file_extension": ".py",
   "mimetype": "text/x-python",
   "name": "python",
   "nbconvert_exporter": "python",
   "pygments_lexer": "ipython3",
   "version": "3.8.3"
  },
  "toc": {
   "base_numbering": 1,
   "nav_menu": {},
   "number_sections": true,
   "sideBar": true,
   "skip_h1_title": false,
   "title_cell": "Table of Contents",
   "title_sidebar": "Contents",
   "toc_cell": false,
   "toc_position": {},
   "toc_section_display": true,
   "toc_window_display": true
  },
  "varInspector": {
   "cols": {
    "lenName": 16,
    "lenType": 16,
    "lenVar": 40
   },
   "kernels_config": {
    "python": {
     "delete_cmd_postfix": "",
     "delete_cmd_prefix": "del ",
     "library": "var_list.py",
     "varRefreshCmd": "print(var_dic_list())"
    },
    "r": {
     "delete_cmd_postfix": ") ",
     "delete_cmd_prefix": "rm(",
     "library": "var_list.r",
     "varRefreshCmd": "cat(var_dic_list()) "
    }
   },
   "types_to_exclude": [
    "module",
    "function",
    "builtin_function_or_method",
    "instance",
    "_Feature"
   ],
   "window_display": false
  }
 },
 "nbformat": 4,
 "nbformat_minor": 5
}
