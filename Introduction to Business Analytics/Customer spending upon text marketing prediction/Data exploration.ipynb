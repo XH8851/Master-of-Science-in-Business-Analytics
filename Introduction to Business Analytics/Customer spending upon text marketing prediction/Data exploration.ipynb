{
 "cells": [
  {
   "cell_type": "code",
   "execution_count": 16,
   "metadata": {},
   "outputs": [],
   "source": [
    "# Setup\n",
    "import numpy as np \n",
    "%matplotlib inline\n",
    "import matplotlib\n",
    "import matplotlib.pyplot as plt\n",
    "plt.rcParams['axes.labelsize'] = 14  \n",
    "plt.rcParams['xtick.labelsize'] = 12\n",
    "plt.rcParams['ytick.labelsize'] = 12\n",
    "PROJECT_ROOT_DIR = \".\"\n",
    "import seaborn as sns\n",
    "from scipy import stats\n",
    "import pandas as pd\n",
    "import matplotlib.pyplot as plt\n",
    "import scipy as sp "
   ]
  },
  {
   "cell_type": "code",
   "execution_count": 17,
   "metadata": {},
   "outputs": [
    {
     "data": {
      "text/html": [
       "<div>\n",
       "<style scoped>\n",
       "    .dataframe tbody tr th:only-of-type {\n",
       "        vertical-align: middle;\n",
       "    }\n",
       "\n",
       "    .dataframe tbody tr th {\n",
       "        vertical-align: top;\n",
       "    }\n",
       "\n",
       "    .dataframe thead th {\n",
       "        text-align: right;\n",
       "    }\n",
       "</style>\n",
       "<table border=\"1\" class=\"dataframe\">\n",
       "  <thead>\n",
       "    <tr style=\"text-align: right;\">\n",
       "      <th></th>\n",
       "      <th>sequence_number</th>\n",
       "      <th>US</th>\n",
       "      <th>source_a</th>\n",
       "      <th>source_c</th>\n",
       "      <th>source_b</th>\n",
       "      <th>source_d</th>\n",
       "      <th>source_e</th>\n",
       "      <th>source_m</th>\n",
       "      <th>source_o</th>\n",
       "      <th>source_h</th>\n",
       "      <th>...</th>\n",
       "      <th>source_x</th>\n",
       "      <th>source_w</th>\n",
       "      <th>Freq</th>\n",
       "      <th>last_update_days_ago</th>\n",
       "      <th>1st_update_days_ago</th>\n",
       "      <th>Web order</th>\n",
       "      <th>Gender=male</th>\n",
       "      <th>Address_is_res</th>\n",
       "      <th>Purchase</th>\n",
       "      <th>Spending</th>\n",
       "    </tr>\n",
       "  </thead>\n",
       "  <tbody>\n",
       "    <tr>\n",
       "      <th>0</th>\n",
       "      <td>1</td>\n",
       "      <td>1</td>\n",
       "      <td>0</td>\n",
       "      <td>0</td>\n",
       "      <td>1</td>\n",
       "      <td>0</td>\n",
       "      <td>0</td>\n",
       "      <td>0</td>\n",
       "      <td>0</td>\n",
       "      <td>0</td>\n",
       "      <td>...</td>\n",
       "      <td>0</td>\n",
       "      <td>0</td>\n",
       "      <td>2</td>\n",
       "      <td>3662</td>\n",
       "      <td>3662</td>\n",
       "      <td>1</td>\n",
       "      <td>0</td>\n",
       "      <td>1</td>\n",
       "      <td>1</td>\n",
       "      <td>127.87</td>\n",
       "    </tr>\n",
       "    <tr>\n",
       "      <th>1</th>\n",
       "      <td>2</td>\n",
       "      <td>1</td>\n",
       "      <td>0</td>\n",
       "      <td>0</td>\n",
       "      <td>0</td>\n",
       "      <td>0</td>\n",
       "      <td>1</td>\n",
       "      <td>0</td>\n",
       "      <td>0</td>\n",
       "      <td>0</td>\n",
       "      <td>...</td>\n",
       "      <td>0</td>\n",
       "      <td>0</td>\n",
       "      <td>0</td>\n",
       "      <td>2900</td>\n",
       "      <td>2900</td>\n",
       "      <td>1</td>\n",
       "      <td>1</td>\n",
       "      <td>0</td>\n",
       "      <td>0</td>\n",
       "      <td>0.00</td>\n",
       "    </tr>\n",
       "    <tr>\n",
       "      <th>2</th>\n",
       "      <td>3</td>\n",
       "      <td>1</td>\n",
       "      <td>0</td>\n",
       "      <td>0</td>\n",
       "      <td>0</td>\n",
       "      <td>0</td>\n",
       "      <td>0</td>\n",
       "      <td>0</td>\n",
       "      <td>0</td>\n",
       "      <td>0</td>\n",
       "      <td>...</td>\n",
       "      <td>0</td>\n",
       "      <td>0</td>\n",
       "      <td>2</td>\n",
       "      <td>3883</td>\n",
       "      <td>3914</td>\n",
       "      <td>0</td>\n",
       "      <td>0</td>\n",
       "      <td>0</td>\n",
       "      <td>1</td>\n",
       "      <td>127.48</td>\n",
       "    </tr>\n",
       "    <tr>\n",
       "      <th>3</th>\n",
       "      <td>4</td>\n",
       "      <td>1</td>\n",
       "      <td>0</td>\n",
       "      <td>1</td>\n",
       "      <td>0</td>\n",
       "      <td>0</td>\n",
       "      <td>0</td>\n",
       "      <td>0</td>\n",
       "      <td>0</td>\n",
       "      <td>0</td>\n",
       "      <td>...</td>\n",
       "      <td>0</td>\n",
       "      <td>0</td>\n",
       "      <td>1</td>\n",
       "      <td>829</td>\n",
       "      <td>829</td>\n",
       "      <td>0</td>\n",
       "      <td>1</td>\n",
       "      <td>0</td>\n",
       "      <td>0</td>\n",
       "      <td>0.00</td>\n",
       "    </tr>\n",
       "    <tr>\n",
       "      <th>4</th>\n",
       "      <td>5</td>\n",
       "      <td>1</td>\n",
       "      <td>0</td>\n",
       "      <td>1</td>\n",
       "      <td>0</td>\n",
       "      <td>0</td>\n",
       "      <td>0</td>\n",
       "      <td>0</td>\n",
       "      <td>0</td>\n",
       "      <td>0</td>\n",
       "      <td>...</td>\n",
       "      <td>0</td>\n",
       "      <td>0</td>\n",
       "      <td>1</td>\n",
       "      <td>869</td>\n",
       "      <td>869</td>\n",
       "      <td>0</td>\n",
       "      <td>0</td>\n",
       "      <td>0</td>\n",
       "      <td>0</td>\n",
       "      <td>0.00</td>\n",
       "    </tr>\n",
       "  </tbody>\n",
       "</table>\n",
       "<p>5 rows × 25 columns</p>\n",
       "</div>"
      ],
      "text/plain": [
       "   sequence_number  US  source_a  source_c  source_b  source_d  source_e  \\\n",
       "0                1   1         0         0         1         0         0   \n",
       "1                2   1         0         0         0         0         1   \n",
       "2                3   1         0         0         0         0         0   \n",
       "3                4   1         0         1         0         0         0   \n",
       "4                5   1         0         1         0         0         0   \n",
       "\n",
       "   source_m  source_o  source_h  ...  source_x  source_w  Freq  \\\n",
       "0         0         0         0  ...         0         0     2   \n",
       "1         0         0         0  ...         0         0     0   \n",
       "2         0         0         0  ...         0         0     2   \n",
       "3         0         0         0  ...         0         0     1   \n",
       "4         0         0         0  ...         0         0     1   \n",
       "\n",
       "   last_update_days_ago  1st_update_days_ago  Web order  Gender=male  \\\n",
       "0                  3662                 3662          1            0   \n",
       "1                  2900                 2900          1            1   \n",
       "2                  3883                 3914          0            0   \n",
       "3                   829                  829          0            1   \n",
       "4                   869                  869          0            0   \n",
       "\n",
       "   Address_is_res  Purchase  Spending  \n",
       "0               1         1    127.87  \n",
       "1               0         0      0.00  \n",
       "2               0         1    127.48  \n",
       "3               0         0      0.00  \n",
       "4               0         0      0.00  \n",
       "\n",
       "[5 rows x 25 columns]"
      ]
     },
     "execution_count": 17,
     "metadata": {},
     "output_type": "execute_result"
    }
   ],
   "source": [
    "HW4_data = pd.read_excel(\"C:/Users/ysyan/OneDrive/Desktop/Intro to BA/HW4.xlsx\")\n",
    "HW4_data.head()"
   ]
  },
  {
   "cell_type": "code",
   "execution_count": 34,
   "metadata": {},
   "outputs": [
    {
     "data": {
      "text/plain": [
       "(2000, 22)"
      ]
     },
     "execution_count": 34,
     "metadata": {},
     "output_type": "execute_result"
    }
   ],
   "source": [
    "HW4_data.shape"
   ]
  },
  {
   "cell_type": "code",
   "execution_count": 19,
   "metadata": {},
   "outputs": [
    {
     "data": {
      "text/html": [
       "<div>\n",
       "<style scoped>\n",
       "    .dataframe tbody tr th:only-of-type {\n",
       "        vertical-align: middle;\n",
       "    }\n",
       "\n",
       "    .dataframe tbody tr th {\n",
       "        vertical-align: top;\n",
       "    }\n",
       "\n",
       "    .dataframe thead th {\n",
       "        text-align: right;\n",
       "    }\n",
       "</style>\n",
       "<table border=\"1\" class=\"dataframe\">\n",
       "  <thead>\n",
       "    <tr style=\"text-align: right;\">\n",
       "      <th></th>\n",
       "      <th>sequence_number</th>\n",
       "      <th>US</th>\n",
       "      <th>source_a</th>\n",
       "      <th>source_c</th>\n",
       "      <th>source_b</th>\n",
       "      <th>source_d</th>\n",
       "      <th>source_e</th>\n",
       "      <th>source_m</th>\n",
       "      <th>source_o</th>\n",
       "      <th>source_h</th>\n",
       "      <th>...</th>\n",
       "      <th>source_x</th>\n",
       "      <th>source_w</th>\n",
       "      <th>Freq</th>\n",
       "      <th>last_update_days_ago</th>\n",
       "      <th>1st_update_days_ago</th>\n",
       "      <th>Web order</th>\n",
       "      <th>Gender=male</th>\n",
       "      <th>Address_is_res</th>\n",
       "      <th>Purchase</th>\n",
       "      <th>Spending</th>\n",
       "    </tr>\n",
       "  </thead>\n",
       "  <tbody>\n",
       "    <tr>\n",
       "      <th>count</th>\n",
       "      <td>2000.000000</td>\n",
       "      <td>2000.000000</td>\n",
       "      <td>2000.000000</td>\n",
       "      <td>2000.000000</td>\n",
       "      <td>2000.000000</td>\n",
       "      <td>2000.000000</td>\n",
       "      <td>2000.000000</td>\n",
       "      <td>2000.00000</td>\n",
       "      <td>2000.000000</td>\n",
       "      <td>2000.000000</td>\n",
       "      <td>...</td>\n",
       "      <td>2000.000000</td>\n",
       "      <td>2000.000000</td>\n",
       "      <td>2000.000000</td>\n",
       "      <td>2000.000000</td>\n",
       "      <td>2000.000000</td>\n",
       "      <td>2000.000000</td>\n",
       "      <td>2000.000000</td>\n",
       "      <td>2000.000000</td>\n",
       "      <td>2000.000000</td>\n",
       "      <td>2000.000000</td>\n",
       "    </tr>\n",
       "    <tr>\n",
       "      <th>mean</th>\n",
       "      <td>1000.500000</td>\n",
       "      <td>0.824500</td>\n",
       "      <td>0.126500</td>\n",
       "      <td>0.056000</td>\n",
       "      <td>0.060000</td>\n",
       "      <td>0.041500</td>\n",
       "      <td>0.151000</td>\n",
       "      <td>0.01650</td>\n",
       "      <td>0.033500</td>\n",
       "      <td>0.052500</td>\n",
       "      <td>...</td>\n",
       "      <td>0.018000</td>\n",
       "      <td>0.137500</td>\n",
       "      <td>1.417000</td>\n",
       "      <td>2155.101000</td>\n",
       "      <td>2435.601500</td>\n",
       "      <td>0.426000</td>\n",
       "      <td>0.524500</td>\n",
       "      <td>0.221000</td>\n",
       "      <td>0.500000</td>\n",
       "      <td>102.560745</td>\n",
       "    </tr>\n",
       "    <tr>\n",
       "      <th>std</th>\n",
       "      <td>577.494589</td>\n",
       "      <td>0.380489</td>\n",
       "      <td>0.332495</td>\n",
       "      <td>0.229979</td>\n",
       "      <td>0.237546</td>\n",
       "      <td>0.199493</td>\n",
       "      <td>0.358138</td>\n",
       "      <td>0.12742</td>\n",
       "      <td>0.179983</td>\n",
       "      <td>0.223089</td>\n",
       "      <td>...</td>\n",
       "      <td>0.132984</td>\n",
       "      <td>0.344461</td>\n",
       "      <td>1.405738</td>\n",
       "      <td>1141.302846</td>\n",
       "      <td>1077.872233</td>\n",
       "      <td>0.494617</td>\n",
       "      <td>0.499524</td>\n",
       "      <td>0.415024</td>\n",
       "      <td>0.500125</td>\n",
       "      <td>186.749816</td>\n",
       "    </tr>\n",
       "    <tr>\n",
       "      <th>min</th>\n",
       "      <td>1.000000</td>\n",
       "      <td>0.000000</td>\n",
       "      <td>0.000000</td>\n",
       "      <td>0.000000</td>\n",
       "      <td>0.000000</td>\n",
       "      <td>0.000000</td>\n",
       "      <td>0.000000</td>\n",
       "      <td>0.00000</td>\n",
       "      <td>0.000000</td>\n",
       "      <td>0.000000</td>\n",
       "      <td>...</td>\n",
       "      <td>0.000000</td>\n",
       "      <td>0.000000</td>\n",
       "      <td>0.000000</td>\n",
       "      <td>1.000000</td>\n",
       "      <td>1.000000</td>\n",
       "      <td>0.000000</td>\n",
       "      <td>0.000000</td>\n",
       "      <td>0.000000</td>\n",
       "      <td>0.000000</td>\n",
       "      <td>0.000000</td>\n",
       "    </tr>\n",
       "    <tr>\n",
       "      <th>25%</th>\n",
       "      <td>500.750000</td>\n",
       "      <td>1.000000</td>\n",
       "      <td>0.000000</td>\n",
       "      <td>0.000000</td>\n",
       "      <td>0.000000</td>\n",
       "      <td>0.000000</td>\n",
       "      <td>0.000000</td>\n",
       "      <td>0.00000</td>\n",
       "      <td>0.000000</td>\n",
       "      <td>0.000000</td>\n",
       "      <td>...</td>\n",
       "      <td>0.000000</td>\n",
       "      <td>0.000000</td>\n",
       "      <td>1.000000</td>\n",
       "      <td>1133.000000</td>\n",
       "      <td>1671.250000</td>\n",
       "      <td>0.000000</td>\n",
       "      <td>0.000000</td>\n",
       "      <td>0.000000</td>\n",
       "      <td>0.000000</td>\n",
       "      <td>0.000000</td>\n",
       "    </tr>\n",
       "    <tr>\n",
       "      <th>50%</th>\n",
       "      <td>1000.500000</td>\n",
       "      <td>1.000000</td>\n",
       "      <td>0.000000</td>\n",
       "      <td>0.000000</td>\n",
       "      <td>0.000000</td>\n",
       "      <td>0.000000</td>\n",
       "      <td>0.000000</td>\n",
       "      <td>0.00000</td>\n",
       "      <td>0.000000</td>\n",
       "      <td>0.000000</td>\n",
       "      <td>...</td>\n",
       "      <td>0.000000</td>\n",
       "      <td>0.000000</td>\n",
       "      <td>1.000000</td>\n",
       "      <td>2280.000000</td>\n",
       "      <td>2721.000000</td>\n",
       "      <td>0.000000</td>\n",
       "      <td>1.000000</td>\n",
       "      <td>0.000000</td>\n",
       "      <td>0.500000</td>\n",
       "      <td>1.855000</td>\n",
       "    </tr>\n",
       "    <tr>\n",
       "      <th>75%</th>\n",
       "      <td>1500.250000</td>\n",
       "      <td>1.000000</td>\n",
       "      <td>0.000000</td>\n",
       "      <td>0.000000</td>\n",
       "      <td>0.000000</td>\n",
       "      <td>0.000000</td>\n",
       "      <td>0.000000</td>\n",
       "      <td>0.00000</td>\n",
       "      <td>0.000000</td>\n",
       "      <td>0.000000</td>\n",
       "      <td>...</td>\n",
       "      <td>0.000000</td>\n",
       "      <td>0.000000</td>\n",
       "      <td>2.000000</td>\n",
       "      <td>3139.250000</td>\n",
       "      <td>3353.000000</td>\n",
       "      <td>1.000000</td>\n",
       "      <td>1.000000</td>\n",
       "      <td>0.000000</td>\n",
       "      <td>1.000000</td>\n",
       "      <td>152.532500</td>\n",
       "    </tr>\n",
       "    <tr>\n",
       "      <th>max</th>\n",
       "      <td>2000.000000</td>\n",
       "      <td>1.000000</td>\n",
       "      <td>1.000000</td>\n",
       "      <td>1.000000</td>\n",
       "      <td>1.000000</td>\n",
       "      <td>1.000000</td>\n",
       "      <td>1.000000</td>\n",
       "      <td>1.00000</td>\n",
       "      <td>1.000000</td>\n",
       "      <td>1.000000</td>\n",
       "      <td>...</td>\n",
       "      <td>1.000000</td>\n",
       "      <td>1.000000</td>\n",
       "      <td>15.000000</td>\n",
       "      <td>4188.000000</td>\n",
       "      <td>4188.000000</td>\n",
       "      <td>1.000000</td>\n",
       "      <td>1.000000</td>\n",
       "      <td>1.000000</td>\n",
       "      <td>1.000000</td>\n",
       "      <td>1500.060000</td>\n",
       "    </tr>\n",
       "  </tbody>\n",
       "</table>\n",
       "<p>8 rows × 25 columns</p>\n",
       "</div>"
      ],
      "text/plain": [
       "       sequence_number           US     source_a     source_c     source_b  \\\n",
       "count      2000.000000  2000.000000  2000.000000  2000.000000  2000.000000   \n",
       "mean       1000.500000     0.824500     0.126500     0.056000     0.060000   \n",
       "std         577.494589     0.380489     0.332495     0.229979     0.237546   \n",
       "min           1.000000     0.000000     0.000000     0.000000     0.000000   \n",
       "25%         500.750000     1.000000     0.000000     0.000000     0.000000   \n",
       "50%        1000.500000     1.000000     0.000000     0.000000     0.000000   \n",
       "75%        1500.250000     1.000000     0.000000     0.000000     0.000000   \n",
       "max        2000.000000     1.000000     1.000000     1.000000     1.000000   \n",
       "\n",
       "          source_d     source_e    source_m     source_o     source_h  ...  \\\n",
       "count  2000.000000  2000.000000  2000.00000  2000.000000  2000.000000  ...   \n",
       "mean      0.041500     0.151000     0.01650     0.033500     0.052500  ...   \n",
       "std       0.199493     0.358138     0.12742     0.179983     0.223089  ...   \n",
       "min       0.000000     0.000000     0.00000     0.000000     0.000000  ...   \n",
       "25%       0.000000     0.000000     0.00000     0.000000     0.000000  ...   \n",
       "50%       0.000000     0.000000     0.00000     0.000000     0.000000  ...   \n",
       "75%       0.000000     0.000000     0.00000     0.000000     0.000000  ...   \n",
       "max       1.000000     1.000000     1.00000     1.000000     1.000000  ...   \n",
       "\n",
       "          source_x     source_w         Freq  last_update_days_ago  \\\n",
       "count  2000.000000  2000.000000  2000.000000           2000.000000   \n",
       "mean      0.018000     0.137500     1.417000           2155.101000   \n",
       "std       0.132984     0.344461     1.405738           1141.302846   \n",
       "min       0.000000     0.000000     0.000000              1.000000   \n",
       "25%       0.000000     0.000000     1.000000           1133.000000   \n",
       "50%       0.000000     0.000000     1.000000           2280.000000   \n",
       "75%       0.000000     0.000000     2.000000           3139.250000   \n",
       "max       1.000000     1.000000    15.000000           4188.000000   \n",
       "\n",
       "       1st_update_days_ago    Web order  Gender=male  Address_is_res  \\\n",
       "count          2000.000000  2000.000000  2000.000000     2000.000000   \n",
       "mean           2435.601500     0.426000     0.524500        0.221000   \n",
       "std            1077.872233     0.494617     0.499524        0.415024   \n",
       "min               1.000000     0.000000     0.000000        0.000000   \n",
       "25%            1671.250000     0.000000     0.000000        0.000000   \n",
       "50%            2721.000000     0.000000     1.000000        0.000000   \n",
       "75%            3353.000000     1.000000     1.000000        0.000000   \n",
       "max            4188.000000     1.000000     1.000000        1.000000   \n",
       "\n",
       "          Purchase     Spending  \n",
       "count  2000.000000  2000.000000  \n",
       "mean      0.500000   102.560745  \n",
       "std       0.500125   186.749816  \n",
       "min       0.000000     0.000000  \n",
       "25%       0.000000     0.000000  \n",
       "50%       0.500000     1.855000  \n",
       "75%       1.000000   152.532500  \n",
       "max       1.000000  1500.060000  \n",
       "\n",
       "[8 rows x 25 columns]"
      ]
     },
     "execution_count": 19,
     "metadata": {},
     "output_type": "execute_result"
    }
   ],
   "source": [
    "HW4_data.describe()"
   ]
  },
  {
   "cell_type": "code",
   "execution_count": 20,
   "metadata": {},
   "outputs": [
    {
     "name": "stdout",
     "output_type": "stream",
     "text": [
      "sequence_number         0\n",
      "US                      0\n",
      "source_a                0\n",
      "source_c                0\n",
      "source_b                0\n",
      "source_d                0\n",
      "source_e                0\n",
      "source_m                0\n",
      "source_o                0\n",
      "source_h                0\n",
      "source_r                0\n",
      "source_s                0\n",
      "source_t                0\n",
      "source_u                0\n",
      "source_p                0\n",
      "source_x                0\n",
      "source_w                0\n",
      "Freq                    0\n",
      "last_update_days_ago    0\n",
      "1st_update_days_ago     0\n",
      "Web order               0\n",
      "Gender=male             0\n",
      "Address_is_res          0\n",
      "Purchase                0\n",
      "Spending                0\n",
      "dtype: int64\n"
     ]
    }
   ],
   "source": [
    "# check for null values \n",
    "print(HW4_data.isnull().sum())"
   ]
  },
  {
   "cell_type": "code",
   "execution_count": 21,
   "metadata": {},
   "outputs": [
    {
     "name": "stdout",
     "output_type": "stream",
     "text": [
      "Spending statistical results: DescribeResult(nobs=2000, minmax=(array([0.]), array([1500.06])), mean=array([102.560745]), variance=array([34875.49372826]), skewness=array([3.92549439]), kurtosis=array([20.53912844]))\n"
     ]
    },
    {
     "data": {
      "text/plain": [
       "<Figure size 576x432 with 0 Axes>"
      ]
     },
     "metadata": {},
     "output_type": "display_data"
    },
    {
     "data": {
      "image/png": "[encoded data removed]",
      "text/plain": [
       "<Figure size 443x360 with 1 Axes>"
      ]
     },
     "metadata": {
      "needs_background": "light"
     },
     "output_type": "display_data"
    }
   ],
   "source": [
    "y = HW4_data.iloc[:,-1:]\n",
    "X = HW4_data.iloc[:, 1:-1]\n",
    "del X['Purchase']\n",
    "del HW4_data['Purchase']\n",
    "del HW4_data['sequence_number']\n",
    "plt.figure(3,figsize=(8, 6))\n",
    "sns.displot(y)\n",
    "plt.xlabel(\"Spending\") \n",
    "print(\"Spending\", \"statistical results:\", sp.stats.describe(y))"
   ]
  },
  {
   "cell_type": "code",
   "execution_count": 22,
   "metadata": {},
   "outputs": [
    {
     "name": "stdout",
     "output_type": "stream",
     "text": [
      "Freq statistical results: DescribeResult(nobs=2000, minmax=(0, 15), mean=1.417, variance=1.9760990495247626, skewness=2.978831957861886, kurtosis=15.997895658160584)\n"
     ]
    },
    {
     "data": {
      "text/plain": [
       "<Figure size 576x432 with 0 Axes>"
      ]
     },
     "metadata": {},
     "output_type": "display_data"
    },
    {
     "data": {
      "image/png": "[encoded data removed]",
      "text/plain": [
       "<Figure size 360x360 with 1 Axes>"
      ]
     },
     "metadata": {
      "needs_background": "light"
     },
     "output_type": "display_data"
    }
   ],
   "source": [
    "plt.figure(3,figsize=(8, 6))\n",
    "sns.displot(X.loc[:,'Freq'])\n",
    "plt.xlabel(\"Freq\") \n",
    "print(\"Freq\", \"statistical results:\", sp.stats.describe(X.loc[:,'Freq']))"
   ]
  },
  {
   "cell_type": "code",
   "execution_count": 23,
   "metadata": {},
   "outputs": [
    {
     "name": "stdout",
     "output_type": "stream",
     "text": [
      "last_update_days_ago statistical results: DescribeResult(nobs=2000, minmax=(1, 4188), mean=2155.101, variance=1302572.1868924464, skewness=-0.1877302916019205, kurtosis=-1.191994205413851)\n"
     ]
    },
    {
     "data": {
      "text/plain": [
       "<Figure size 576x432 with 0 Axes>"
      ]
     },
     "metadata": {},
     "output_type": "display_data"
    },
    {
     "data": {
      "image/png": "[encoded data removed]",
      "text/plain": [
       "<Figure size 360x360 with 1 Axes>"
      ]
     },
     "metadata": {
      "needs_background": "light"
     },
     "output_type": "display_data"
    }
   ],
   "source": [
    "plt.figure(3,figsize=(8, 6))\n",
    "sns.displot(X.loc[:,'last_update_days_ago'])\n",
    "plt.xlabel(\"last_update_days_ago\") \n",
    "print(\"last_update_days_ago\", \"statistical results:\", sp.stats.describe(X.loc[:,'last_update_days_ago']))"
   ]
  },
  {
   "cell_type": "code",
   "execution_count": 24,
   "metadata": {},
   "outputs": [
    {
     "data": {
      "text/plain": [
       "<AxesSubplot:>"
      ]
     },
     "execution_count": 24,
     "metadata": {},
     "output_type": "execute_result"
    },
    {
     "data": {
      "image/png": "[encoded data removed]",
      "text/plain": [
       "<Figure size 792x648 with 2 Axes>"
      ]
     },
     "metadata": {},
     "output_type": "display_data"
    }
   ],
   "source": [
    "sns.set_theme(style=\"white\")\n",
    "corr = HW4_data.iloc[:, 0:].corr()\n",
    "mask = np.triu(np.ones_like(corr))\n",
    "f, ax = plt.subplots(figsize=(11, 9))\n",
    "cmap = sns.diverging_palette(230, 20, as_cmap=True)\n",
    "sns.heatmap(corr, mask=mask, cmap=cmap, vmax=.8, vmin=-.8,center=0,\n",
    "            square=True, linewidths=.5, cbar_kws={\"shrink\": .5})"
   ]
  },
  {
   "cell_type": "code",
   "execution_count": 25,
   "metadata": {},
   "outputs": [],
   "source": [
    "del X['1st_update_days_ago']\n",
    "del HW4_data['1st_update_days_ago']"
   ]
  },
  {
   "cell_type": "code",
   "execution_count": 26,
   "metadata": {},
   "outputs": [
    {
     "data": {
      "text/plain": [
       "<AxesSubplot:xlabel='Spending'>"
      ]
     },
     "execution_count": 26,
     "metadata": {},
     "output_type": "execute_result"
    },
    {
     "data": {
      "image/png": "[encoded data removed]",
      "text/plain": [
       "<Figure size 432x288 with 1 Axes>"
      ]
     },
     "metadata": {},
     "output_type": "display_data"
    }
   ],
   "source": [
    "sns.boxplot(x=HW4_data.loc[:,'Spending'])"
   ]
  },
  {
   "cell_type": "code",
   "execution_count": 27,
   "metadata": {},
   "outputs": [
    {
     "data": {
      "text/plain": [
       "<AxesSubplot:xlabel='last_update_days_ago'>"
      ]
     },
     "execution_count": 27,
     "metadata": {},
     "output_type": "execute_result"
    },
    {
     "data": {
      "image/png": "[encoded data removed]",
      "text/plain": [
       "<Figure size 432x288 with 1 Axes>"
      ]
     },
     "metadata": {},
     "output_type": "display_data"
    }
   ],
   "source": [
    "sns.boxplot(x=HW4_data.loc[:,'last_update_days_ago'])"
   ]
  },
  {
   "cell_type": "code",
   "execution_count": 28,
   "metadata": {},
   "outputs": [
    {
     "data": {
      "text/plain": [
       "<AxesSubplot:xlabel='Freq'>"
      ]
     },
     "execution_count": 28,
     "metadata": {},
     "output_type": "execute_result"
    },
    {
     "data": {
      "image/png": "[encoded data removed]",
      "text/plain": [
       "<Figure size 432x288 with 1 Axes>"
      ]
     },
     "metadata": {},
     "output_type": "display_data"
    }
   ],
   "source": [
    "sns.boxplot(x=HW4_data.loc[:,'Freq'])"
   ]
  },
  {
   "cell_type": "code",
   "execution_count": 30,
   "metadata": {},
   "outputs": [],
   "source": [
    "HW4_data1 = HW4_data.loc[:, ('Spending','last_update_days_ago','Freq')]"
   ]
  },
  {
   "cell_type": "code",
   "execution_count": 31,
   "metadata": {},
   "outputs": [
    {
     "name": "stdout",
     "output_type": "stream",
     "text": [
      "Spending                 152.5325\n",
      "last_update_days_ago    2006.2500\n",
      "Freq                       1.0000\n",
      "dtype: float64\n"
     ]
    }
   ],
   "source": [
    "Q1 = HW4_data1.quantile(0.25)\n",
    "Q3 = HW4_data1.quantile(0.75)\n",
    "IQR = Q3 - Q1\n",
    "print(IQR)"
   ]
  },
  {
   "cell_type": "code",
   "execution_count": 32,
   "metadata": {},
   "outputs": [
    {
     "data": {
      "text/plain": [
       "(1839, 3)"
      ]
     },
     "execution_count": 32,
     "metadata": {},
     "output_type": "execute_result"
    }
   ],
   "source": [
    "HW4_data2 = HW4_data1[~((HW4_data1 < (Q1 - 1.5 * IQR)) |(HW4_data1 > (Q3 + 1.5 * IQR))).any(axis=1)]\n",
    "HW4_data2.shape"
   ]
  },
  {
   "cell_type": "code",
   "execution_count": 33,
   "metadata": {},
   "outputs": [
    {
     "data": {
      "text/plain": [
       "(2000, 3)"
      ]
     },
     "execution_count": 33,
     "metadata": {},
     "output_type": "execute_result"
    }
   ],
   "source": [
    "HW4_data1.shape"
   ]
  },
  {
   "cell_type": "code",
   "execution_count": 35,
   "metadata": {},
   "outputs": [
    {
     "data": {
      "text/html": [
       "<div>\n",
       "<style scoped>\n",
       "    .dataframe tbody tr th:only-of-type {\n",
       "        vertical-align: middle;\n",
       "    }\n",
       "\n",
       "    .dataframe tbody tr th {\n",
       "        vertical-align: top;\n",
       "    }\n",
       "\n",
       "    .dataframe thead th {\n",
       "        text-align: right;\n",
       "    }\n",
       "</style>\n",
       "<table border=\"1\" class=\"dataframe\">\n",
       "  <thead>\n",
       "    <tr style=\"text-align: right;\">\n",
       "      <th></th>\n",
       "      <th>US</th>\n",
       "      <th>source_a</th>\n",
       "      <th>source_c</th>\n",
       "      <th>source_b</th>\n",
       "      <th>source_d</th>\n",
       "      <th>source_e</th>\n",
       "      <th>source_m</th>\n",
       "      <th>source_o</th>\n",
       "      <th>source_h</th>\n",
       "      <th>source_r</th>\n",
       "      <th>...</th>\n",
       "      <th>source_u</th>\n",
       "      <th>source_p</th>\n",
       "      <th>source_x</th>\n",
       "      <th>source_w</th>\n",
       "      <th>Freq</th>\n",
       "      <th>last_update_days_ago</th>\n",
       "      <th>Web order</th>\n",
       "      <th>Gender=male</th>\n",
       "      <th>Address_is_res</th>\n",
       "      <th>Spending</th>\n",
       "    </tr>\n",
       "  </thead>\n",
       "  <tbody>\n",
       "    <tr>\n",
       "      <th>count</th>\n",
       "      <td>2000.000000</td>\n",
       "      <td>2000.000000</td>\n",
       "      <td>2000.000000</td>\n",
       "      <td>2000.000000</td>\n",
       "      <td>2000.000000</td>\n",
       "      <td>2000.000000</td>\n",
       "      <td>2000.00000</td>\n",
       "      <td>2000.000000</td>\n",
       "      <td>2000.000000</td>\n",
       "      <td>2000.000000</td>\n",
       "      <td>...</td>\n",
       "      <td>2000.000000</td>\n",
       "      <td>2000.000000</td>\n",
       "      <td>2000.000000</td>\n",
       "      <td>2000.000000</td>\n",
       "      <td>2000.000000</td>\n",
       "      <td>2000.000000</td>\n",
       "      <td>2000.000000</td>\n",
       "      <td>2000.000000</td>\n",
       "      <td>2000.000000</td>\n",
       "      <td>2000.000000</td>\n",
       "    </tr>\n",
       "    <tr>\n",
       "      <th>mean</th>\n",
       "      <td>0.824500</td>\n",
       "      <td>0.126500</td>\n",
       "      <td>0.056000</td>\n",
       "      <td>0.060000</td>\n",
       "      <td>0.041500</td>\n",
       "      <td>0.151000</td>\n",
       "      <td>0.01650</td>\n",
       "      <td>0.033500</td>\n",
       "      <td>0.052500</td>\n",
       "      <td>0.068500</td>\n",
       "      <td>...</td>\n",
       "      <td>0.119000</td>\n",
       "      <td>0.006000</td>\n",
       "      <td>0.018000</td>\n",
       "      <td>0.137500</td>\n",
       "      <td>1.417000</td>\n",
       "      <td>2155.101000</td>\n",
       "      <td>0.426000</td>\n",
       "      <td>0.524500</td>\n",
       "      <td>0.221000</td>\n",
       "      <td>102.560745</td>\n",
       "    </tr>\n",
       "    <tr>\n",
       "      <th>std</th>\n",
       "      <td>0.380489</td>\n",
       "      <td>0.332495</td>\n",
       "      <td>0.229979</td>\n",
       "      <td>0.237546</td>\n",
       "      <td>0.199493</td>\n",
       "      <td>0.358138</td>\n",
       "      <td>0.12742</td>\n",
       "      <td>0.179983</td>\n",
       "      <td>0.223089</td>\n",
       "      <td>0.252665</td>\n",
       "      <td>...</td>\n",
       "      <td>0.323869</td>\n",
       "      <td>0.077246</td>\n",
       "      <td>0.132984</td>\n",
       "      <td>0.344461</td>\n",
       "      <td>1.405738</td>\n",
       "      <td>1141.302846</td>\n",
       "      <td>0.494617</td>\n",
       "      <td>0.499524</td>\n",
       "      <td>0.415024</td>\n",
       "      <td>186.749816</td>\n",
       "    </tr>\n",
       "    <tr>\n",
       "      <th>min</th>\n",
       "      <td>0.000000</td>\n",
       "      <td>0.000000</td>\n",
       "      <td>0.000000</td>\n",
       "      <td>0.000000</td>\n",
       "      <td>0.000000</td>\n",
       "      <td>0.000000</td>\n",
       "      <td>0.00000</td>\n",
       "      <td>0.000000</td>\n",
       "      <td>0.000000</td>\n",
       "      <td>0.000000</td>\n",
       "      <td>...</td>\n",
       "      <td>0.000000</td>\n",
       "      <td>0.000000</td>\n",
       "      <td>0.000000</td>\n",
       "      <td>0.000000</td>\n",
       "      <td>0.000000</td>\n",
       "      <td>1.000000</td>\n",
       "      <td>0.000000</td>\n",
       "      <td>0.000000</td>\n",
       "      <td>0.000000</td>\n",
       "      <td>0.000000</td>\n",
       "    </tr>\n",
       "    <tr>\n",
       "      <th>25%</th>\n",
       "      <td>1.000000</td>\n",
       "      <td>0.000000</td>\n",
       "      <td>0.000000</td>\n",
       "      <td>0.000000</td>\n",
       "      <td>0.000000</td>\n",
       "      <td>0.000000</td>\n",
       "      <td>0.00000</td>\n",
       "      <td>0.000000</td>\n",
       "      <td>0.000000</td>\n",
       "      <td>0.000000</td>\n",
       "      <td>...</td>\n",
       "      <td>0.000000</td>\n",
       "      <td>0.000000</td>\n",
       "      <td>0.000000</td>\n",
       "      <td>0.000000</td>\n",
       "      <td>1.000000</td>\n",
       "      <td>1133.000000</td>\n",
       "      <td>0.000000</td>\n",
       "      <td>0.000000</td>\n",
       "      <td>0.000000</td>\n",
       "      <td>0.000000</td>\n",
       "    </tr>\n",
       "    <tr>\n",
       "      <th>50%</th>\n",
       "      <td>1.000000</td>\n",
       "      <td>0.000000</td>\n",
       "      <td>0.000000</td>\n",
       "      <td>0.000000</td>\n",
       "      <td>0.000000</td>\n",
       "      <td>0.000000</td>\n",
       "      <td>0.00000</td>\n",
       "      <td>0.000000</td>\n",
       "      <td>0.000000</td>\n",
       "      <td>0.000000</td>\n",
       "      <td>...</td>\n",
       "      <td>0.000000</td>\n",
       "      <td>0.000000</td>\n",
       "      <td>0.000000</td>\n",
       "      <td>0.000000</td>\n",
       "      <td>1.000000</td>\n",
       "      <td>2280.000000</td>\n",
       "      <td>0.000000</td>\n",
       "      <td>1.000000</td>\n",
       "      <td>0.000000</td>\n",
       "      <td>1.855000</td>\n",
       "    </tr>\n",
       "    <tr>\n",
       "      <th>75%</th>\n",
       "      <td>1.000000</td>\n",
       "      <td>0.000000</td>\n",
       "      <td>0.000000</td>\n",
       "      <td>0.000000</td>\n",
       "      <td>0.000000</td>\n",
       "      <td>0.000000</td>\n",
       "      <td>0.00000</td>\n",
       "      <td>0.000000</td>\n",
       "      <td>0.000000</td>\n",
       "      <td>0.000000</td>\n",
       "      <td>...</td>\n",
       "      <td>0.000000</td>\n",
       "      <td>0.000000</td>\n",
       "      <td>0.000000</td>\n",
       "      <td>0.000000</td>\n",
       "      <td>2.000000</td>\n",
       "      <td>3139.250000</td>\n",
       "      <td>1.000000</td>\n",
       "      <td>1.000000</td>\n",
       "      <td>0.000000</td>\n",
       "      <td>152.532500</td>\n",
       "    </tr>\n",
       "    <tr>\n",
       "      <th>max</th>\n",
       "      <td>1.000000</td>\n",
       "      <td>1.000000</td>\n",
       "      <td>1.000000</td>\n",
       "      <td>1.000000</td>\n",
       "      <td>1.000000</td>\n",
       "      <td>1.000000</td>\n",
       "      <td>1.00000</td>\n",
       "      <td>1.000000</td>\n",
       "      <td>1.000000</td>\n",
       "      <td>1.000000</td>\n",
       "      <td>...</td>\n",
       "      <td>1.000000</td>\n",
       "      <td>1.000000</td>\n",
       "      <td>1.000000</td>\n",
       "      <td>1.000000</td>\n",
       "      <td>15.000000</td>\n",
       "      <td>4188.000000</td>\n",
       "      <td>1.000000</td>\n",
       "      <td>1.000000</td>\n",
       "      <td>1.000000</td>\n",
       "      <td>1500.060000</td>\n",
       "    </tr>\n",
       "  </tbody>\n",
       "</table>\n",
       "<p>8 rows × 22 columns</p>\n",
       "</div>"
      ],
      "text/plain": [
       "                US     source_a     source_c     source_b     source_d  \\\n",
       "count  2000.000000  2000.000000  2000.000000  2000.000000  2000.000000   \n",
       "mean      0.824500     0.126500     0.056000     0.060000     0.041500   \n",
       "std       0.380489     0.332495     0.229979     0.237546     0.199493   \n",
       "min       0.000000     0.000000     0.000000     0.000000     0.000000   \n",
       "25%       1.000000     0.000000     0.000000     0.000000     0.000000   \n",
       "50%       1.000000     0.000000     0.000000     0.000000     0.000000   \n",
       "75%       1.000000     0.000000     0.000000     0.000000     0.000000   \n",
       "max       1.000000     1.000000     1.000000     1.000000     1.000000   \n",
       "\n",
       "          source_e    source_m     source_o     source_h     source_r  ...  \\\n",
       "count  2000.000000  2000.00000  2000.000000  2000.000000  2000.000000  ...   \n",
       "mean      0.151000     0.01650     0.033500     0.052500     0.068500  ...   \n",
       "std       0.358138     0.12742     0.179983     0.223089     0.252665  ...   \n",
       "min       0.000000     0.00000     0.000000     0.000000     0.000000  ...   \n",
       "25%       0.000000     0.00000     0.000000     0.000000     0.000000  ...   \n",
       "50%       0.000000     0.00000     0.000000     0.000000     0.000000  ...   \n",
       "75%       0.000000     0.00000     0.000000     0.000000     0.000000  ...   \n",
       "max       1.000000     1.00000     1.000000     1.000000     1.000000  ...   \n",
       "\n",
       "          source_u     source_p     source_x     source_w         Freq  \\\n",
       "count  2000.000000  2000.000000  2000.000000  2000.000000  2000.000000   \n",
       "mean      0.119000     0.006000     0.018000     0.137500     1.417000   \n",
       "std       0.323869     0.077246     0.132984     0.344461     1.405738   \n",
       "min       0.000000     0.000000     0.000000     0.000000     0.000000   \n",
       "25%       0.000000     0.000000     0.000000     0.000000     1.000000   \n",
       "50%       0.000000     0.000000     0.000000     0.000000     1.000000   \n",
       "75%       0.000000     0.000000     0.000000     0.000000     2.000000   \n",
       "max       1.000000     1.000000     1.000000     1.000000    15.000000   \n",
       "\n",
       "       last_update_days_ago    Web order  Gender=male  Address_is_res  \\\n",
       "count           2000.000000  2000.000000  2000.000000     2000.000000   \n",
       "mean            2155.101000     0.426000     0.524500        0.221000   \n",
       "std             1141.302846     0.494617     0.499524        0.415024   \n",
       "min                1.000000     0.000000     0.000000        0.000000   \n",
       "25%             1133.000000     0.000000     0.000000        0.000000   \n",
       "50%             2280.000000     0.000000     1.000000        0.000000   \n",
       "75%             3139.250000     1.000000     1.000000        0.000000   \n",
       "max             4188.000000     1.000000     1.000000        1.000000   \n",
       "\n",
       "          Spending  \n",
       "count  2000.000000  \n",
       "mean    102.560745  \n",
       "std     186.749816  \n",
       "min       0.000000  \n",
       "25%       0.000000  \n",
       "50%       1.855000  \n",
       "75%     152.532500  \n",
       "max    1500.060000  \n",
       "\n",
       "[8 rows x 22 columns]"
      ]
     },
     "execution_count": 35,
     "metadata": {},
     "output_type": "execute_result"
    }
   ],
   "source": [
    "HW4_data.describe()"
   ]
  },
  {
   "cell_type": "code",
   "execution_count": 38,
   "metadata": {},
   "outputs": [
    {
     "data": {
      "text/html": [
       "<div>\n",
       "<style scoped>\n",
       "    .dataframe tbody tr th:only-of-type {\n",
       "        vertical-align: middle;\n",
       "    }\n",
       "\n",
       "    .dataframe tbody tr th {\n",
       "        vertical-align: top;\n",
       "    }\n",
       "\n",
       "    .dataframe thead th {\n",
       "        text-align: right;\n",
       "    }\n",
       "</style>\n",
       "<table border=\"1\" class=\"dataframe\">\n",
       "  <thead>\n",
       "    <tr style=\"text-align: right;\">\n",
       "      <th></th>\n",
       "      <th>US</th>\n",
       "      <th>source_a</th>\n",
       "      <th>source_c</th>\n",
       "      <th>source_b</th>\n",
       "      <th>source_d</th>\n",
       "      <th>source_e</th>\n",
       "      <th>source_m</th>\n",
       "      <th>source_o</th>\n",
       "      <th>source_h</th>\n",
       "      <th>source_r</th>\n",
       "      <th>...</th>\n",
       "      <th>source_t</th>\n",
       "      <th>source_u</th>\n",
       "      <th>source_p</th>\n",
       "      <th>source_x</th>\n",
       "      <th>source_w</th>\n",
       "      <th>Freq</th>\n",
       "      <th>last_update_days_ago</th>\n",
       "      <th>Web order</th>\n",
       "      <th>Gender=male</th>\n",
       "      <th>Address_is_res</th>\n",
       "    </tr>\n",
       "  </thead>\n",
       "  <tbody>\n",
       "    <tr>\n",
       "      <th>count</th>\n",
       "      <td>2000.000000</td>\n",
       "      <td>2000.000000</td>\n",
       "      <td>2000.000000</td>\n",
       "      <td>2000.000000</td>\n",
       "      <td>2000.000000</td>\n",
       "      <td>2000.000000</td>\n",
       "      <td>2000.00000</td>\n",
       "      <td>2000.000000</td>\n",
       "      <td>2000.000000</td>\n",
       "      <td>2000.000000</td>\n",
       "      <td>...</td>\n",
       "      <td>2000.00000</td>\n",
       "      <td>2000.000000</td>\n",
       "      <td>2000.000000</td>\n",
       "      <td>2000.000000</td>\n",
       "      <td>2000.000000</td>\n",
       "      <td>2000.000000</td>\n",
       "      <td>2000.000000</td>\n",
       "      <td>2000.000000</td>\n",
       "      <td>2000.000000</td>\n",
       "      <td>2000.000000</td>\n",
       "    </tr>\n",
       "    <tr>\n",
       "      <th>mean</th>\n",
       "      <td>0.824500</td>\n",
       "      <td>0.126500</td>\n",
       "      <td>0.056000</td>\n",
       "      <td>0.060000</td>\n",
       "      <td>0.041500</td>\n",
       "      <td>0.151000</td>\n",
       "      <td>0.01650</td>\n",
       "      <td>0.033500</td>\n",
       "      <td>0.052500</td>\n",
       "      <td>0.068500</td>\n",
       "      <td>...</td>\n",
       "      <td>0.02150</td>\n",
       "      <td>0.119000</td>\n",
       "      <td>0.006000</td>\n",
       "      <td>0.018000</td>\n",
       "      <td>0.137500</td>\n",
       "      <td>1.417000</td>\n",
       "      <td>2155.101000</td>\n",
       "      <td>0.426000</td>\n",
       "      <td>0.524500</td>\n",
       "      <td>0.221000</td>\n",
       "    </tr>\n",
       "    <tr>\n",
       "      <th>std</th>\n",
       "      <td>0.380489</td>\n",
       "      <td>0.332495</td>\n",
       "      <td>0.229979</td>\n",
       "      <td>0.237546</td>\n",
       "      <td>0.199493</td>\n",
       "      <td>0.358138</td>\n",
       "      <td>0.12742</td>\n",
       "      <td>0.179983</td>\n",
       "      <td>0.223089</td>\n",
       "      <td>0.252665</td>\n",
       "      <td>...</td>\n",
       "      <td>0.14508</td>\n",
       "      <td>0.323869</td>\n",
       "      <td>0.077246</td>\n",
       "      <td>0.132984</td>\n",
       "      <td>0.344461</td>\n",
       "      <td>1.405738</td>\n",
       "      <td>1141.302846</td>\n",
       "      <td>0.494617</td>\n",
       "      <td>0.499524</td>\n",
       "      <td>0.415024</td>\n",
       "    </tr>\n",
       "    <tr>\n",
       "      <th>min</th>\n",
       "      <td>0.000000</td>\n",
       "      <td>0.000000</td>\n",
       "      <td>0.000000</td>\n",
       "      <td>0.000000</td>\n",
       "      <td>0.000000</td>\n",
       "      <td>0.000000</td>\n",
       "      <td>0.00000</td>\n",
       "      <td>0.000000</td>\n",
       "      <td>0.000000</td>\n",
       "      <td>0.000000</td>\n",
       "      <td>...</td>\n",
       "      <td>0.00000</td>\n",
       "      <td>0.000000</td>\n",
       "      <td>0.000000</td>\n",
       "      <td>0.000000</td>\n",
       "      <td>0.000000</td>\n",
       "      <td>0.000000</td>\n",
       "      <td>1.000000</td>\n",
       "      <td>0.000000</td>\n",
       "      <td>0.000000</td>\n",
       "      <td>0.000000</td>\n",
       "    </tr>\n",
       "    <tr>\n",
       "      <th>25%</th>\n",
       "      <td>1.000000</td>\n",
       "      <td>0.000000</td>\n",
       "      <td>0.000000</td>\n",
       "      <td>0.000000</td>\n",
       "      <td>0.000000</td>\n",
       "      <td>0.000000</td>\n",
       "      <td>0.00000</td>\n",
       "      <td>0.000000</td>\n",
       "      <td>0.000000</td>\n",
       "      <td>0.000000</td>\n",
       "      <td>...</td>\n",
       "      <td>0.00000</td>\n",
       "      <td>0.000000</td>\n",
       "      <td>0.000000</td>\n",
       "      <td>0.000000</td>\n",
       "      <td>0.000000</td>\n",
       "      <td>1.000000</td>\n",
       "      <td>1133.000000</td>\n",
       "      <td>0.000000</td>\n",
       "      <td>0.000000</td>\n",
       "      <td>0.000000</td>\n",
       "    </tr>\n",
       "    <tr>\n",
       "      <th>50%</th>\n",
       "      <td>1.000000</td>\n",
       "      <td>0.000000</td>\n",
       "      <td>0.000000</td>\n",
       "      <td>0.000000</td>\n",
       "      <td>0.000000</td>\n",
       "      <td>0.000000</td>\n",
       "      <td>0.00000</td>\n",
       "      <td>0.000000</td>\n",
       "      <td>0.000000</td>\n",
       "      <td>0.000000</td>\n",
       "      <td>...</td>\n",
       "      <td>0.00000</td>\n",
       "      <td>0.000000</td>\n",
       "      <td>0.000000</td>\n",
       "      <td>0.000000</td>\n",
       "      <td>0.000000</td>\n",
       "      <td>1.000000</td>\n",
       "      <td>2280.000000</td>\n",
       "      <td>0.000000</td>\n",
       "      <td>1.000000</td>\n",
       "      <td>0.000000</td>\n",
       "    </tr>\n",
       "    <tr>\n",
       "      <th>75%</th>\n",
       "      <td>1.000000</td>\n",
       "      <td>0.000000</td>\n",
       "      <td>0.000000</td>\n",
       "      <td>0.000000</td>\n",
       "      <td>0.000000</td>\n",
       "      <td>0.000000</td>\n",
       "      <td>0.00000</td>\n",
       "      <td>0.000000</td>\n",
       "      <td>0.000000</td>\n",
       "      <td>0.000000</td>\n",
       "      <td>...</td>\n",
       "      <td>0.00000</td>\n",
       "      <td>0.000000</td>\n",
       "      <td>0.000000</td>\n",
       "      <td>0.000000</td>\n",
       "      <td>0.000000</td>\n",
       "      <td>2.000000</td>\n",
       "      <td>3139.250000</td>\n",
       "      <td>1.000000</td>\n",
       "      <td>1.000000</td>\n",
       "      <td>0.000000</td>\n",
       "    </tr>\n",
       "    <tr>\n",
       "      <th>max</th>\n",
       "      <td>1.000000</td>\n",
       "      <td>1.000000</td>\n",
       "      <td>1.000000</td>\n",
       "      <td>1.000000</td>\n",
       "      <td>1.000000</td>\n",
       "      <td>1.000000</td>\n",
       "      <td>1.00000</td>\n",
       "      <td>1.000000</td>\n",
       "      <td>1.000000</td>\n",
       "      <td>1.000000</td>\n",
       "      <td>...</td>\n",
       "      <td>1.00000</td>\n",
       "      <td>1.000000</td>\n",
       "      <td>1.000000</td>\n",
       "      <td>1.000000</td>\n",
       "      <td>1.000000</td>\n",
       "      <td>15.000000</td>\n",
       "      <td>4188.000000</td>\n",
       "      <td>1.000000</td>\n",
       "      <td>1.000000</td>\n",
       "      <td>1.000000</td>\n",
       "    </tr>\n",
       "  </tbody>\n",
       "</table>\n",
       "<p>8 rows × 21 columns</p>\n",
       "</div>"
      ],
      "text/plain": [
       "                US     source_a     source_c     source_b     source_d  \\\n",
       "count  2000.000000  2000.000000  2000.000000  2000.000000  2000.000000   \n",
       "mean      0.824500     0.126500     0.056000     0.060000     0.041500   \n",
       "std       0.380489     0.332495     0.229979     0.237546     0.199493   \n",
       "min       0.000000     0.000000     0.000000     0.000000     0.000000   \n",
       "25%       1.000000     0.000000     0.000000     0.000000     0.000000   \n",
       "50%       1.000000     0.000000     0.000000     0.000000     0.000000   \n",
       "75%       1.000000     0.000000     0.000000     0.000000     0.000000   \n",
       "max       1.000000     1.000000     1.000000     1.000000     1.000000   \n",
       "\n",
       "          source_e    source_m     source_o     source_h     source_r  ...  \\\n",
       "count  2000.000000  2000.00000  2000.000000  2000.000000  2000.000000  ...   \n",
       "mean      0.151000     0.01650     0.033500     0.052500     0.068500  ...   \n",
       "std       0.358138     0.12742     0.179983     0.223089     0.252665  ...   \n",
       "min       0.000000     0.00000     0.000000     0.000000     0.000000  ...   \n",
       "25%       0.000000     0.00000     0.000000     0.000000     0.000000  ...   \n",
       "50%       0.000000     0.00000     0.000000     0.000000     0.000000  ...   \n",
       "75%       0.000000     0.00000     0.000000     0.000000     0.000000  ...   \n",
       "max       1.000000     1.00000     1.000000     1.000000     1.000000  ...   \n",
       "\n",
       "         source_t     source_u     source_p     source_x     source_w  \\\n",
       "count  2000.00000  2000.000000  2000.000000  2000.000000  2000.000000   \n",
       "mean      0.02150     0.119000     0.006000     0.018000     0.137500   \n",
       "std       0.14508     0.323869     0.077246     0.132984     0.344461   \n",
       "min       0.00000     0.000000     0.000000     0.000000     0.000000   \n",
       "25%       0.00000     0.000000     0.000000     0.000000     0.000000   \n",
       "50%       0.00000     0.000000     0.000000     0.000000     0.000000   \n",
       "75%       0.00000     0.000000     0.000000     0.000000     0.000000   \n",
       "max       1.00000     1.000000     1.000000     1.000000     1.000000   \n",
       "\n",
       "              Freq  last_update_days_ago    Web order  Gender=male  \\\n",
       "count  2000.000000           2000.000000  2000.000000  2000.000000   \n",
       "mean      1.417000           2155.101000     0.426000     0.524500   \n",
       "std       1.405738           1141.302846     0.494617     0.499524   \n",
       "min       0.000000              1.000000     0.000000     0.000000   \n",
       "25%       1.000000           1133.000000     0.000000     0.000000   \n",
       "50%       1.000000           2280.000000     0.000000     1.000000   \n",
       "75%       2.000000           3139.250000     1.000000     1.000000   \n",
       "max      15.000000           4188.000000     1.000000     1.000000   \n",
       "\n",
       "       Address_is_res  \n",
       "count     2000.000000  \n",
       "mean         0.221000  \n",
       "std          0.415024  \n",
       "min          0.000000  \n",
       "25%          0.000000  \n",
       "50%          0.000000  \n",
       "75%          0.000000  \n",
       "max          1.000000  \n",
       "\n",
       "[8 rows x 21 columns]"
      ]
     },
     "execution_count": 38,
     "metadata": {},
     "output_type": "execute_result"
    }
   ],
   "source": [
    "import numpy as np \n",
    "import pandas as pd\n",
    "from sklearn.model_selection import GridSearchCV, KFold, cross_val_score\n",
    "\n",
    "y = HW4_data.iloc[:,-1:]\n",
    "X = HW4_data.iloc[:, 0:-1]\n",
    "y.describe()\n",
    "X.describe()"
   ]
  },
  {
   "cell_type": "code",
   "execution_count": 40,
   "metadata": {},
   "outputs": [
    {
     "data": {
      "text/html": [
       "<div>\n",
       "<style scoped>\n",
       "    .dataframe tbody tr th:only-of-type {\n",
       "        vertical-align: middle;\n",
       "    }\n",
       "\n",
       "    .dataframe tbody tr th {\n",
       "        vertical-align: top;\n",
       "    }\n",
       "\n",
       "    .dataframe thead th {\n",
       "        text-align: right;\n",
       "    }\n",
       "</style>\n",
       "<table border=\"1\" class=\"dataframe\">\n",
       "  <thead>\n",
       "    <tr style=\"text-align: right;\">\n",
       "      <th></th>\n",
       "      <th>US</th>\n",
       "      <th>source_a</th>\n",
       "      <th>source_c</th>\n",
       "      <th>source_b</th>\n",
       "      <th>source_d</th>\n",
       "      <th>source_e</th>\n",
       "      <th>source_m</th>\n",
       "      <th>source_o</th>\n",
       "      <th>source_h</th>\n",
       "      <th>source_r</th>\n",
       "      <th>...</th>\n",
       "      <th>source_t</th>\n",
       "      <th>source_u</th>\n",
       "      <th>source_p</th>\n",
       "      <th>source_x</th>\n",
       "      <th>source_w</th>\n",
       "      <th>Freq</th>\n",
       "      <th>last_update_days_ago</th>\n",
       "      <th>Web order</th>\n",
       "      <th>Gender=male</th>\n",
       "      <th>Address_is_res</th>\n",
       "    </tr>\n",
       "  </thead>\n",
       "  <tbody>\n",
       "    <tr>\n",
       "      <th>836</th>\n",
       "      <td>1</td>\n",
       "      <td>0</td>\n",
       "      <td>1</td>\n",
       "      <td>0</td>\n",
       "      <td>0</td>\n",
       "      <td>0</td>\n",
       "      <td>0</td>\n",
       "      <td>0</td>\n",
       "      <td>0</td>\n",
       "      <td>0</td>\n",
       "      <td>...</td>\n",
       "      <td>0</td>\n",
       "      <td>0</td>\n",
       "      <td>0</td>\n",
       "      <td>0</td>\n",
       "      <td>0</td>\n",
       "      <td>4</td>\n",
       "      <td>1240</td>\n",
       "      <td>0</td>\n",
       "      <td>1</td>\n",
       "      <td>0</td>\n",
       "    </tr>\n",
       "    <tr>\n",
       "      <th>575</th>\n",
       "      <td>1</td>\n",
       "      <td>0</td>\n",
       "      <td>0</td>\n",
       "      <td>0</td>\n",
       "      <td>0</td>\n",
       "      <td>0</td>\n",
       "      <td>0</td>\n",
       "      <td>0</td>\n",
       "      <td>0</td>\n",
       "      <td>0</td>\n",
       "      <td>...</td>\n",
       "      <td>0</td>\n",
       "      <td>1</td>\n",
       "      <td>0</td>\n",
       "      <td>0</td>\n",
       "      <td>0</td>\n",
       "      <td>1</td>\n",
       "      <td>2417</td>\n",
       "      <td>1</td>\n",
       "      <td>1</td>\n",
       "      <td>0</td>\n",
       "    </tr>\n",
       "    <tr>\n",
       "      <th>557</th>\n",
       "      <td>1</td>\n",
       "      <td>0</td>\n",
       "      <td>0</td>\n",
       "      <td>0</td>\n",
       "      <td>0</td>\n",
       "      <td>0</td>\n",
       "      <td>0</td>\n",
       "      <td>0</td>\n",
       "      <td>1</td>\n",
       "      <td>0</td>\n",
       "      <td>...</td>\n",
       "      <td>0</td>\n",
       "      <td>0</td>\n",
       "      <td>0</td>\n",
       "      <td>0</td>\n",
       "      <td>0</td>\n",
       "      <td>1</td>\n",
       "      <td>1618</td>\n",
       "      <td>1</td>\n",
       "      <td>0</td>\n",
       "      <td>1</td>\n",
       "    </tr>\n",
       "    <tr>\n",
       "      <th>1235</th>\n",
       "      <td>1</td>\n",
       "      <td>0</td>\n",
       "      <td>0</td>\n",
       "      <td>0</td>\n",
       "      <td>0</td>\n",
       "      <td>0</td>\n",
       "      <td>0</td>\n",
       "      <td>0</td>\n",
       "      <td>0</td>\n",
       "      <td>1</td>\n",
       "      <td>...</td>\n",
       "      <td>0</td>\n",
       "      <td>0</td>\n",
       "      <td>0</td>\n",
       "      <td>0</td>\n",
       "      <td>0</td>\n",
       "      <td>3</td>\n",
       "      <td>1877</td>\n",
       "      <td>1</td>\n",
       "      <td>1</td>\n",
       "      <td>0</td>\n",
       "    </tr>\n",
       "    <tr>\n",
       "      <th>1360</th>\n",
       "      <td>1</td>\n",
       "      <td>1</td>\n",
       "      <td>0</td>\n",
       "      <td>0</td>\n",
       "      <td>0</td>\n",
       "      <td>0</td>\n",
       "      <td>0</td>\n",
       "      <td>0</td>\n",
       "      <td>0</td>\n",
       "      <td>0</td>\n",
       "      <td>...</td>\n",
       "      <td>0</td>\n",
       "      <td>0</td>\n",
       "      <td>0</td>\n",
       "      <td>0</td>\n",
       "      <td>0</td>\n",
       "      <td>3</td>\n",
       "      <td>3620</td>\n",
       "      <td>1</td>\n",
       "      <td>0</td>\n",
       "      <td>0</td>\n",
       "    </tr>\n",
       "  </tbody>\n",
       "</table>\n",
       "<p>5 rows × 21 columns</p>\n",
       "</div>"
      ],
      "text/plain": [
       "      US  source_a  source_c  source_b  source_d  source_e  source_m  \\\n",
       "836    1         0         1         0         0         0         0   \n",
       "575    1         0         0         0         0         0         0   \n",
       "557    1         0         0         0         0         0         0   \n",
       "1235   1         0         0         0         0         0         0   \n",
       "1360   1         1         0         0         0         0         0   \n",
       "\n",
       "      source_o  source_h  source_r  ...  source_t  source_u  source_p  \\\n",
       "836          0         0         0  ...         0         0         0   \n",
       "575          0         0         0  ...         0         1         0   \n",
       "557          0         1         0  ...         0         0         0   \n",
       "1235         0         0         1  ...         0         0         0   \n",
       "1360         0         0         0  ...         0         0         0   \n",
       "\n",
       "      source_x  source_w  Freq  last_update_days_ago  Web order  Gender=male  \\\n",
       "836          0         0     4                  1240          0            1   \n",
       "575          0         0     1                  2417          1            1   \n",
       "557          0         0     1                  1618          1            0   \n",
       "1235         0         0     3                  1877          1            1   \n",
       "1360         0         0     3                  3620          1            0   \n",
       "\n",
       "      Address_is_res  \n",
       "836                0  \n",
       "575                0  \n",
       "557                1  \n",
       "1235               0  \n",
       "1360               0  \n",
       "\n",
       "[5 rows x 21 columns]"
      ]
     },
     "execution_count": 40,
     "metadata": {},
     "output_type": "execute_result"
    }
   ],
   "source": [
    "from sklearn.model_selection import train_test_split # Split validation class\n",
    "X_train, X_test, y_train, y_test = train_test_split(X,y,test_size=0.3, random_state=42)\n",
    "X_train.head()"
   ]
  },
  {
   "cell_type": "markdown",
   "metadata": {},
   "source": [
    "## kNN"
   ]
  },
  {
   "cell_type": "code",
   "execution_count": 41,
   "metadata": {},
   "outputs": [],
   "source": [
    "#normalization\n",
    "from sklearn.metrics import mean_absolute_error\n",
    "from sklearn.metrics import mean_squared_error\n",
    "from sklearn.preprocessing import StandardScaler\n",
    "from sklearn import neighbors\n",
    "sc = StandardScaler()\n",
    "sc.fit(X_train)\n",
    "\n",
    "X_train_std = sc.transform(X_train)\n",
    "X_test_std = sc.transform(X_test)\n",
    "\n",
    "#train the model \n",
    "\n",
    "knn = neighbors.KNeighborsRegressor(n_neighbors=5,\n",
    "                                    weights='distance',\n",
    "                                    p=3, \n",
    "                                    metric='minkowski')\n",
    "knn = knn.fit(X_train_std, y_train)  \n",
    "#predict\n",
    "y_train_pred = knn.predict(X_train)\n",
    "y_test_pred = knn.predict(X_test)"
   ]
  },
  {
   "cell_type": "code",
   "execution_count": 43,
   "metadata": {},
   "outputs": [
    {
     "name": "stdout",
     "output_type": "stream",
     "text": [
      "RMSE train: 190.177, test: 181.839\n",
      "MAE train: 123.961, test: 119.626\n"
     ]
    }
   ],
   "source": [
    "#RMSE\n",
    "print('RMSE train: %.3f, test: %.3f' % (  \n",
    "        mean_squared_error(y_train, y_train_pred,squared=False),\n",
    "        mean_squared_error(y_test, y_test_pred,squared=False))) \n",
    "#MAE\n",
    "print('MAE train: %.3f, test: %.3f' % (\n",
    "        mean_absolute_error(y_train, y_train_pred),\n",
    "        mean_absolute_error(y_test, y_test_pred))) "
   ]
  },
  {
   "cell_type": "code",
   "execution_count": 44,
   "metadata": {},
   "outputs": [
    {
     "name": "stdout",
     "output_type": "stream",
     "text": [
      "Mean RMSE: 170.715 (+/- 27.266)\n",
      "[-182.25176585 -204.01683174 -150.87290618 -113.98124523 -168.77267593\n",
      " -180.08675324 -192.51373723 -135.000637   -191.67760276 -187.97972377]\n"
     ]
    }
   ],
   "source": [
    "cv=KFold(n_splits=10,shuffle=True,random_state=42)\n",
    "scores=cross_val_score(knn,X,y,scoring='neg_root_mean_squared_error',cv=cv)\n",
    "scores1=cross_val_score(knn,X,y,scoring='neg_mean_absolute_error',cv=cv)\n",
    "print(\"Mean RMSE: %0.3f (+/- %0.3f)\" % (abs(np.mean(scores)),np.std(scores)))\n",
    "print(scores)"
   ]
  },
  {
   "cell_type": "markdown",
   "metadata": {},
   "source": [
    "# Tree Regression "
   ]
  },
  {
   "cell_type": "code",
   "execution_count": 45,
   "metadata": {},
   "outputs": [],
   "source": [
    "from sklearn.tree import DecisionTreeRegressor\n",
    "from sklearn.model_selection import cross_val_score\n",
    "tree = DecisionTreeRegressor(max_depth=5)\n",
    "tree.fit(X_train, y_train)\n",
    "y_train_pred = tree.predict(X_train)\n",
    "y_test_pred = tree.predict(X_test) "
   ]
  },
  {
   "cell_type": "code",
   "execution_count": 46,
   "metadata": {},
   "outputs": [
    {
     "name": "stdout",
     "output_type": "stream",
     "text": [
      "RMSE train: 111.031, test: 149.426\n",
      "MAE train: 63.197, test: 74.963\n"
     ]
    }
   ],
   "source": [
    "#RMSE\n",
    "print('RMSE train: %.3f, test: %.3f' % (  \n",
    "        mean_squared_error(y_train, y_train_pred,squared=False),\n",
    "        mean_squared_error(y_test, y_test_pred,squared=False))) \n",
    "print('MAE train: %.3f, test: %.3f' % ( \n",
    "        mean_absolute_error(y_train, y_train_pred),\n",
    "        mean_absolute_error(y_test, y_test_pred)))"
   ]
  },
  {
   "cell_type": "code",
   "execution_count": 47,
   "metadata": {},
   "outputs": [
    {
     "name": "stdout",
     "output_type": "stream",
     "text": [
      "Mean RMSE: 136.890 (+/- 29.733)\n",
      "[-117.57007427 -162.84953953 -129.31542872 -107.90514885 -134.39019933\n",
      " -113.41275462 -178.20465379  -86.61204741 -169.58136532 -169.05995912]\n"
     ]
    }
   ],
   "source": [
    "cv=KFold(n_splits=10,shuffle=True,random_state=42)\n",
    "scores=cross_val_score(tree,X,y,scoring='neg_root_mean_squared_error',cv=cv)\n",
    "print(\"Mean RMSE: %0.3f (+/- %0.3f)\" % (abs(np.mean(scores)),np.std(scores)))\n",
    "print(scores)"
   ]
  },
  {
   "cell_type": "markdown",
   "metadata": {},
   "source": [
    "# Linear  Regression"
   ]
  },
  {
   "cell_type": "code",
   "execution_count": 48,
   "metadata": {},
   "outputs": [],
   "source": [
    "from sklearn.linear_model import LinearRegression\n",
    "\n",
    "slr = LinearRegression() \n",
    "slr.fit(X_train, y_train)  \n",
    "y_train_pred = slr.predict(X_train) \n",
    "y_test_pred = slr.predict(X_test)   "
   ]
  },
  {
   "cell_type": "code",
   "execution_count": 49,
   "metadata": {},
   "outputs": [
    {
     "name": "stdout",
     "output_type": "stream",
     "text": [
      "RMSE train: 125.344, test: 128.776\n",
      "MAE train: 76.498, test: 74.241\n"
     ]
    }
   ],
   "source": [
    "#RMSE\n",
    "print('RMSE train: %.3f, test: %.3f' % (  \n",
    "        mean_squared_error(y_train, y_train_pred,squared=False),\n",
    "        mean_squared_error(y_test, y_test_pred,squared=False))) \n",
    "print('MAE train: %.3f, test: %.3f' % (\n",
    "        mean_absolute_error(y_train, y_train_pred),\n",
    "        mean_absolute_error(y_test, y_test_pred)))"
   ]
  },
  {
   "cell_type": "code",
   "execution_count": 50,
   "metadata": {
    "scrolled": true
   },
   "outputs": [
    {
     "name": "stdout",
     "output_type": "stream",
     "text": [
      "Mean RMSE: 125.914 (+/- 20.779)\n",
      "[-119.1227696  -138.74211123 -129.41703573 -100.12653614 -122.93429188\n",
      " -120.32750097 -160.27332999  -85.59902639 -133.8609901  -148.73375198]\n"
     ]
    }
   ],
   "source": [
    "scores=cross_val_score(slr,X,y,scoring='neg_root_mean_squared_error',cv=cv)\n",
    "print(\"Mean RMSE: %0.3f (+/- %0.3f)\" % (abs(np.mean(scores)),np.std(scores)))\n",
    "print(scores)"
   ]
  },
  {
   "cell_type": "markdown",
   "metadata": {},
   "source": [
    "# Lasso Regression "
   ]
  },
  {
   "cell_type": "code",
   "execution_count": 51,
   "metadata": {},
   "outputs": [],
   "source": [
    "from sklearn.linear_model import Lasso\n",
    "lasso = Lasso(alpha=0.3)  \n",
    "lasso.fit(X_train, y_train) \n",
    "y_train_pred_Lasso = lasso.predict(X_train) \n",
    "y_test_pred_Lasso = lasso.predict(X_test) "
   ]
  },
  {
   "cell_type": "code",
   "execution_count": 52,
   "metadata": {
    "scrolled": true
   },
   "outputs": [
    {
     "name": "stdout",
     "output_type": "stream",
     "text": [
      "RMSE train: 125.344, test: 128.776\n",
      "MAE train: 76.526, test: 74.157\n"
     ]
    }
   ],
   "source": [
    "#RMSE\n",
    "print('RMSE train: %.3f, test: %.3f' % (  \n",
    "        mean_squared_error(y_train, y_train_pred,squared=False),\n",
    "        mean_squared_error(y_test, y_test_pred,squared=False))) \n",
    "print('MAE train: %.3f, test: %.3f' % ( \n",
    "        mean_absolute_error(y_train, y_train_pred_Lasso),\n",
    "        mean_absolute_error(y_test, y_test_pred_Lasso)))"
   ]
  },
  {
   "cell_type": "code",
   "execution_count": 53,
   "metadata": {},
   "outputs": [
    {
     "name": "stdout",
     "output_type": "stream",
     "text": [
      "Mean RMSE: 125.705 (+/- 20.915)\n",
      "[-118.94625574 -138.75947891 -129.07186926 -100.09956979 -122.27286051\n",
      " -120.11653972 -160.18298166  -84.99236623 -133.70461584 -148.89881901]\n"
     ]
    }
   ],
   "source": [
    "cv=KFold(n_splits=10,shuffle=True,random_state=42)\n",
    "scores=cross_val_score(lasso,X,y,scoring='neg_root_mean_squared_error',cv=cv)\n",
    "print(\"Mean RMSE: %0.3f (+/- %0.3f)\" % (abs(np.mean(scores)),np.std(scores)))\n",
    "print(scores)"
   ]
  },
  {
   "cell_type": "markdown",
   "metadata": {},
   "source": [
    "# Ridge Regression"
   ]
  },
  {
   "cell_type": "code",
   "execution_count": 54,
   "metadata": {},
   "outputs": [],
   "source": [
    "from sklearn.linear_model import Ridge \n",
    "ridge = Ridge(alpha=0.3,random_state=42) \n",
    "ridge.fit(X_train, y_train)\n",
    "y_train_pred_ridge = ridge.predict(X_train) \n",
    "y_test_pred_ridge = ridge.predict(X_test)"
   ]
  },
  {
   "cell_type": "code",
   "execution_count": 56,
   "metadata": {},
   "outputs": [
    {
     "name": "stdout",
     "output_type": "stream",
     "text": [
      "RMSE train: 125.344, test: 128.776\n",
      "MAE train: 76.505, test: 74.235\n"
     ]
    }
   ],
   "source": [
    "#RMSE\n",
    "print('RMSE train: %.3f, test: %.3f' % (  \n",
    "        mean_squared_error(y_train, y_train_pred,squared=False),\n",
    "        mean_squared_error(y_test, y_test_pred,squared=False))) \n",
    "print('MAE train: %.3f, test: %.3f' % (\n",
    "        mean_absolute_error(y_train, y_train_pred_ridge),\n",
    "        mean_absolute_error(y_test, y_test_pred_ridge))) "
   ]
  },
  {
   "cell_type": "code",
   "execution_count": 58,
   "metadata": {},
   "outputs": [
    {
     "name": "stdout",
     "output_type": "stream",
     "text": [
      "Mean RMSE: 125.908 (+/- 20.784)\n",
      "[-119.12647559 -138.73217017 -129.40320702 -100.11982527 -122.92150883\n",
      " -120.32628823 -160.27210312  -85.57370639 -133.86572974 -148.73521123]\n"
     ]
    }
   ],
   "source": [
    "scores=cross_val_score(ridge,X,y,scoring='neg_root_mean_squared_error',cv=cv)\n",
    "print(\"Mean RMSE: %0.3f (+/- %0.3f)\" % (abs(np.mean(scores)),np.std(scores)))\n",
    "print(scores)"
   ]
  }
 ],
 "metadata": {
  "kernelspec": {
   "display_name": "Python 3",
   "language": "python",
   "name": "python3"
  },
  "language_info": {
   "codemirror_mode": {
    "name": "ipython",
    "version": 3
   },
   "file_extension": ".py",
   "mimetype": "text/x-python",
   "name": "python",
   "nbconvert_exporter": "python",
   "pygments_lexer": "ipython3",
   "version": "3.8.3"
  },
  "toc": {
   "base_numbering": 1,
   "nav_menu": {},
   "number_sections": true,
   "sideBar": true,
   "skip_h1_title": false,
   "title_cell": "Table of Contents",
   "title_sidebar": "Contents",
   "toc_cell": false,
   "toc_position": {},
   "toc_section_display": true,
   "toc_window_display": true
  },
  "varInspector": {
   "cols": {
    "lenName": 16,
    "lenType": 16,
    "lenVar": 40
   },
   "kernels_config": {
    "python": {
     "delete_cmd_postfix": "",
     "delete_cmd_prefix": "del ",
     "library": "var_list.py",
     "varRefreshCmd": "print(var_dic_list())"
    },
    "r": {
     "delete_cmd_postfix": ") ",
     "delete_cmd_prefix": "rm(",
     "library": "var_list.r",
     "varRefreshCmd": "cat(var_dic_list()) "
    }
   },
   "types_to_exclude": [
    "module",
    "function",
    "builtin_function_or_method",
    "instance",
    "_Feature"
   ],
   "window_display": false
  }
 },
 "nbformat": 4,
 "nbformat_minor": 5
}
