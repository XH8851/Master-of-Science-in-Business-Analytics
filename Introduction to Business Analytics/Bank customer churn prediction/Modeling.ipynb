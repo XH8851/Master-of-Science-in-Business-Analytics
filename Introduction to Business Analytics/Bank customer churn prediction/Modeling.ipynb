{
 "cells": [
  {
   "cell_type": "markdown",
   "metadata": {},
   "source": [
    "# Data Exploration"
   ]
  },
  {
   "cell_type": "code",
   "execution_count": 3,
   "metadata": {
    "ExecuteTime": {
     "end_time": "2021-10-04T03:39:30.040900Z",
     "start_time": "2021-10-04T03:39:29.924381Z"
    }
   },
   "outputs": [],
   "source": [
    "import os\n",
    "import pydot\n",
    "import pandas as pd\n",
    "import numpy as np\n",
    "import math\n",
    "from sklearn.tree import export_graphviz\n",
    "from IPython.display import Image\n",
    "from sklearn import tree\n",
    "import graphviz\n",
    "from __future__ import division, print_function, unicode_literals\n",
    "%matplotlib inline\n",
    "from sklearn import linear_model\n",
    "import numpy as np\n",
    "from sklearn.model_selection import learning_curve \n",
    "from sklearn.model_selection import ShuffleSplit\n",
    "from sklearn.linear_model import LogisticRegression\n",
    "from sklearn import neighbors\n",
    "import matplotlib.pyplot as plt\n",
    "from sklearn.tree import DecisionTreeClassifier, export_graphviz\n",
    "from sklearn.model_selection import GridSearchCV, KFold, cross_val_score\n",
    "from sklearn import neighbors, datasets\n",
    "from sklearn.preprocessing import StandardScaler\n",
    "from sklearn.pipeline import Pipeline\n",
    "from sklearn.model_selection import validation_curve\n",
    "from sklearn.model_selection import train_test_split\n",
    "import pandas as pd \n",
    "from sklearn.preprocessing import LabelEncoder\n",
    "from sklearn.neighbors import KNeighborsClassifier\n",
    "from sklearn.metrics import roc_curve\n",
    "from sklearn.metrics import auc\n",
    "from matplotlib import pyplot\n",
    "import matplotlib.pyplot as plt\n",
    "import requests as rq\n",
    "import pandas as pd\n",
    "import numpy as np\n",
    "from io import BytesIO\n",
    "import matplotlib.pyplot as plt\n",
    "from scipy import stats\n",
    "import scipy\n",
    "import statsmodels.api as sm\n",
    "from scipy.stats import boxcox\n",
    "from sklearn.compose import ColumnTransformer\n",
    "from sklearn.preprocessing import StandardScaler\n",
    "from sklearn.utils import resample\n",
    "from sklearn.feature_selection import RFE\n",
    "from sklearn.linear_model import LinearRegression\n",
    "from sklearn.datasets import load_boston\n",
    "import seaborn as sns\n",
    "import matplotlib.pyplot as plt\n",
    "import squarify"
   ]
  },
  {
   "cell_type": "code",
   "execution_count": 5,
   "metadata": {
    "ExecuteTime": {
     "end_time": "2021-10-04T03:40:01.692819Z",
     "start_time": "2021-10-04T03:40:01.651932Z"
    }
   },
   "outputs": [],
   "source": [
    "bankdata = pd.read_csv('/Users/hanxiao/Downloads/EmoryU/Fall/Intro to BA/Group_Project/BankChurners.csv')"
   ]
  },
  {
   "cell_type": "code",
   "execution_count": 9,
   "metadata": {
    "ExecuteTime": {
     "end_time": "2021-10-04T03:40:49.032855Z",
     "start_time": "2021-10-04T03:40:49.009373Z"
    }
   },
   "outputs": [
    {
     "ename": "AttributeError",
     "evalue": "'DataFrame' object has no attribute 'treemap'",
     "output_type": "error",
     "traceback": [
      "\u001b[0;31m---------------------------------------------------------------------------\u001b[0m",
      "\u001b[0;31mAttributeError\u001b[0m                            Traceback (most recent call last)",
      "\u001b[0;32m<ipython-input-9-509cb8bfb764>\u001b[0m in \u001b[0;36m<module>\u001b[0;34m\u001b[0m\n\u001b[0;32m----> 1\u001b[0;31m \u001b[0mbankdata\u001b[0m\u001b[0;34m.\u001b[0m\u001b[0mtreemap\u001b[0m\u001b[0;34m.\u001b[0m\u001b[0mshape\u001b[0m\u001b[0;34m\u001b[0m\u001b[0;34m\u001b[0m\u001b[0m\n\u001b[0m",
      "\u001b[0;32m~/opt/anaconda3/lib/python3.8/site-packages/pandas/core/generic.py\u001b[0m in \u001b[0;36m__getattr__\u001b[0;34m(self, name)\u001b[0m\n\u001b[1;32m   5272\u001b[0m             \u001b[0;32mif\u001b[0m \u001b[0mself\u001b[0m\u001b[0;34m.\u001b[0m\u001b[0m_info_axis\u001b[0m\u001b[0;34m.\u001b[0m\u001b[0m_can_hold_identifiers_and_holds_name\u001b[0m\u001b[0;34m(\u001b[0m\u001b[0mname\u001b[0m\u001b[0;34m)\u001b[0m\u001b[0;34m:\u001b[0m\u001b[0;34m\u001b[0m\u001b[0;34m\u001b[0m\u001b[0m\n\u001b[1;32m   5273\u001b[0m                 \u001b[0;32mreturn\u001b[0m \u001b[0mself\u001b[0m\u001b[0;34m[\u001b[0m\u001b[0mname\u001b[0m\u001b[0;34m]\u001b[0m\u001b[0;34m\u001b[0m\u001b[0;34m\u001b[0m\u001b[0m\n\u001b[0;32m-> 5274\u001b[0;31m             \u001b[0;32mreturn\u001b[0m \u001b[0mobject\u001b[0m\u001b[0;34m.\u001b[0m\u001b[0m__getattribute__\u001b[0m\u001b[0;34m(\u001b[0m\u001b[0mself\u001b[0m\u001b[0;34m,\u001b[0m \u001b[0mname\u001b[0m\u001b[0;34m)\u001b[0m\u001b[0;34m\u001b[0m\u001b[0;34m\u001b[0m\u001b[0m\n\u001b[0m\u001b[1;32m   5275\u001b[0m \u001b[0;34m\u001b[0m\u001b[0m\n\u001b[1;32m   5276\u001b[0m     \u001b[0;32mdef\u001b[0m \u001b[0m__setattr__\u001b[0m\u001b[0;34m(\u001b[0m\u001b[0mself\u001b[0m\u001b[0;34m,\u001b[0m \u001b[0mname\u001b[0m\u001b[0;34m:\u001b[0m \u001b[0mstr\u001b[0m\u001b[0;34m,\u001b[0m \u001b[0mvalue\u001b[0m\u001b[0;34m)\u001b[0m \u001b[0;34m->\u001b[0m \u001b[0;32mNone\u001b[0m\u001b[0;34m:\u001b[0m\u001b[0;34m\u001b[0m\u001b[0;34m\u001b[0m\u001b[0m\n",
      "\u001b[0;31mAttributeError\u001b[0m: 'DataFrame' object has no attribute 'treemap'"
     ]
    }
   ],
   "source": [
    "bankdata.shape"
   ]
  },
  {
   "cell_type": "code",
   "execution_count": null,
   "metadata": {},
   "outputs": [],
   "source": []
  },
  {
   "cell_type": "code",
   "execution_count": 8,
   "metadata": {
    "ExecuteTime": {
     "end_time": "2021-10-04T03:40:35.993576Z",
     "start_time": "2021-10-04T03:40:35.951131Z"
    }
   },
   "outputs": [
    {
     "data": {
      "text/html": [
       "<div>\n",
       "<style scoped>\n",
       "    .dataframe tbody tr th:only-of-type {\n",
       "        vertical-align: middle;\n",
       "    }\n",
       "\n",
       "    .dataframe tbody tr th {\n",
       "        vertical-align: top;\n",
       "    }\n",
       "\n",
       "    .dataframe thead th {\n",
       "        text-align: right;\n",
       "    }\n",
       "</style>\n",
       "<table border=\"1\" class=\"dataframe\">\n",
       "  <thead>\n",
       "    <tr style=\"text-align: right;\">\n",
       "      <th></th>\n",
       "      <th>CLIENTNUM;\"Attrition_Flag\";\"Customer_Age\";\"Gender\";\"Dependent_count\";\"Education_Level\";\"Marital_Status\";\"Income_Category\";\"Card_Category\";\"Months_on_book\";\"Total_Relationship_Count\";\"Months_Inactive_12_mon\";\"Contacts_Count_12_mon\";\"Credit_Limit\";\"Total_Revolving_Bal\";\"Avg_Open_To_Buy\";\"Total_Amt_Chng_Q4_Q1\";\"Total_Trans_Amt\";\"Total_Trans_Ct\";\"Total_Ct_Chng_Q4_Q1\";\"Avg_Utilization_Ratio\";\"Naive_Bayes_Classifier_Attrition_Flag_Card_Category_Contacts_Count_12_mon_Dependent_count_Education_Level_Months_Inactive_12_mon_1\";\"Naive_Bayes_Classifier_Attrition_Flag_Card_Category_Contacts_Count_12_mon_Dependent_count_Education_Level_Months_Inactive_12_mon_2\"</th>\n",
       "    </tr>\n",
       "  </thead>\n",
       "  <tbody>\n",
       "    <tr>\n",
       "      <th>count</th>\n",
       "      <td>10127</td>\n",
       "    </tr>\n",
       "    <tr>\n",
       "      <th>unique</th>\n",
       "      <td>10127</td>\n",
       "    </tr>\n",
       "    <tr>\n",
       "      <th>top</th>\n",
       "      <td>716292033;\"Existing Customer\";37;\"F\";4;\"High S...</td>\n",
       "    </tr>\n",
       "    <tr>\n",
       "      <th>freq</th>\n",
       "      <td>1</td>\n",
       "    </tr>\n",
       "  </tbody>\n",
       "</table>\n",
       "</div>"
      ],
      "text/plain": [
       "       CLIENTNUM;\"Attrition_Flag\";\"Customer_Age\";\"Gender\";\"Dependent_count\";\"Education_Level\";\"Marital_Status\";\"Income_Category\";\"Card_Category\";\"Months_on_book\";\"Total_Relationship_Count\";\"Months_Inactive_12_mon\";\"Contacts_Count_12_mon\";\"Credit_Limit\";\"Total_Revolving_Bal\";\"Avg_Open_To_Buy\";\"Total_Amt_Chng_Q4_Q1\";\"Total_Trans_Amt\";\"Total_Trans_Ct\";\"Total_Ct_Chng_Q4_Q1\";\"Avg_Utilization_Ratio\";\"Naive_Bayes_Classifier_Attrition_Flag_Card_Category_Contacts_Count_12_mon_Dependent_count_Education_Level_Months_Inactive_12_mon_1\";\"Naive_Bayes_Classifier_Attrition_Flag_Card_Category_Contacts_Count_12_mon_Dependent_count_Education_Level_Months_Inactive_12_mon_2\"\n",
       "count                                               10127                                                                                                                                                                                                                                                                                                                                                                                                                                                                                                                                                                                                                             \n",
       "unique                                              10127                                                                                                                                                                                                                                                                                                                                                                                                                                                                                                                                                                                                                             \n",
       "top     716292033;\"Existing Customer\";37;\"F\";4;\"High S...                                                                                                                                                                                                                                                                                                                                                                                                                                                                                                                                                                                                                             \n",
       "freq                                                    1                                                                                                                                                                                                                                                                                                                                                                                                                                                                                                                                                                                                                             "
      ]
     },
     "execution_count": 8,
     "metadata": {},
     "output_type": "execute_result"
    }
   ],
   "source": [
    "bankdata.describe()"
   ]
  },
  {
   "cell_type": "code",
   "execution_count": null,
   "metadata": {},
   "outputs": [],
   "source": []
  },
  {
   "cell_type": "code",
   "execution_count": null,
   "metadata": {},
   "outputs": [],
   "source": []
  },
  {
   "cell_type": "markdown",
   "metadata": {},
   "source": [
    "# Splitting Data"
   ]
  },
  {
   "cell_type": "code",
   "execution_count": 157,
   "metadata": {
    "ExecuteTime": {
     "end_time": "2021-10-02T01:47:12.093743Z",
     "start_time": "2021-10-02T01:47:12.034388Z"
    }
   },
   "outputs": [],
   "source": [
    "import os\n",
    "import pydot\n",
    "import pandas as pd\n",
    "import numpy as np\n",
    "import math\n",
    "from sklearn.tree import export_graphviz\n",
    "from IPython.display import Image\n",
    "from sklearn import tree\n",
    "import graphviz\n",
    "from __future__ import division, print_function, unicode_literals\n",
    "%matplotlib inline\n",
    "from sklearn import linear_model\n",
    "import numpy as np\n",
    "from sklearn.model_selection import learning_curve \n",
    "from sklearn.model_selection import ShuffleSplit\n",
    "from sklearn.linear_model import LogisticRegression\n",
    "from sklearn import neighbors\n",
    "import matplotlib.pyplot as plt\n",
    "from sklearn.tree import DecisionTreeClassifier, export_graphviz\n",
    "from sklearn.model_selection import GridSearchCV, KFold, cross_val_score\n",
    "from sklearn import neighbors, datasets\n",
    "from sklearn.preprocessing import StandardScaler\n",
    "from sklearn.pipeline import Pipeline\n",
    "from sklearn.model_selection import validation_curve\n",
    "from sklearn.model_selection import train_test_split\n",
    "import pandas as pd \n",
    "from sklearn.preprocessing import LabelEncoder\n",
    "from sklearn.neighbors import KNeighborsClassifier\n",
    "from sklearn.metrics import roc_curve\n",
    "from sklearn.metrics import auc\n",
    "from matplotlib import pyplot\n",
    "import matplotlib.pyplot as plt"
   ]
  },
  {
   "cell_type": "code",
   "execution_count": 67,
   "metadata": {
    "ExecuteTime": {
     "end_time": "2021-10-01T21:27:28.139124Z",
     "start_time": "2021-10-01T21:27:27.888412Z"
    }
   },
   "outputs": [
    {
     "data": {
      "text/html": [
       "<div>\n",
       "<style scoped>\n",
       "    .dataframe tbody tr th:only-of-type {\n",
       "        vertical-align: middle;\n",
       "    }\n",
       "\n",
       "    .dataframe tbody tr th {\n",
       "        vertical-align: top;\n",
       "    }\n",
       "\n",
       "    .dataframe thead th {\n",
       "        text-align: right;\n",
       "    }\n",
       "</style>\n",
       "<table border=\"1\" class=\"dataframe\">\n",
       "  <thead>\n",
       "    <tr style=\"text-align: right;\">\n",
       "      <th></th>\n",
       "      <th>Unnamed: 0</th>\n",
       "      <th>Customer_Age</th>\n",
       "      <th>Gender</th>\n",
       "      <th>Dependent_count</th>\n",
       "      <th>Education_Level</th>\n",
       "      <th>Income_Category</th>\n",
       "      <th>Months_on_book</th>\n",
       "      <th>Total_Relationship_Count</th>\n",
       "      <th>Months_Inactive_12_mon</th>\n",
       "      <th>Contacts_Count_12_mon</th>\n",
       "      <th>...</th>\n",
       "      <th>Divorced</th>\n",
       "      <th>Married</th>\n",
       "      <th>Single</th>\n",
       "      <th>Unknown</th>\n",
       "      <th>Blue</th>\n",
       "      <th>Gold</th>\n",
       "      <th>Platinum</th>\n",
       "      <th>Silver</th>\n",
       "      <th>High_Risk</th>\n",
       "      <th>Attrition_Flag</th>\n",
       "    </tr>\n",
       "  </thead>\n",
       "  <tbody>\n",
       "    <tr>\n",
       "      <th>0</th>\n",
       "      <td>0</td>\n",
       "      <td>-0.165406</td>\n",
       "      <td>-1.059956</td>\n",
       "      <td>0.503368</td>\n",
       "      <td>-0.354022</td>\n",
       "      <td>0.620039</td>\n",
       "      <td>0.384621</td>\n",
       "      <td>0.763943</td>\n",
       "      <td>-1.327136</td>\n",
       "      <td>0.492404</td>\n",
       "      <td>...</td>\n",
       "      <td>-0.282405</td>\n",
       "      <td>1.077338</td>\n",
       "      <td>-0.798507</td>\n",
       "      <td>-0.282609</td>\n",
       "      <td>0.270611</td>\n",
       "      <td>-0.107644</td>\n",
       "      <td>-0.044484</td>\n",
       "      <td>-0.240794</td>\n",
       "      <td>-0.460373</td>\n",
       "      <td>0</td>\n",
       "    </tr>\n",
       "    <tr>\n",
       "      <th>1</th>\n",
       "      <td>1</td>\n",
       "      <td>0.333570</td>\n",
       "      <td>0.943436</td>\n",
       "      <td>2.043199</td>\n",
       "      <td>0.822218</td>\n",
       "      <td>-0.736292</td>\n",
       "      <td>1.010715</td>\n",
       "      <td>1.407306</td>\n",
       "      <td>-1.327136</td>\n",
       "      <td>-0.411616</td>\n",
       "      <td>...</td>\n",
       "      <td>-0.282405</td>\n",
       "      <td>-0.928214</td>\n",
       "      <td>1.252337</td>\n",
       "      <td>-0.282609</td>\n",
       "      <td>0.270611</td>\n",
       "      <td>-0.107644</td>\n",
       "      <td>-0.044484</td>\n",
       "      <td>-0.240794</td>\n",
       "      <td>-0.460373</td>\n",
       "      <td>0</td>\n",
       "    </tr>\n",
       "    <tr>\n",
       "      <th>2</th>\n",
       "      <td>2</td>\n",
       "      <td>0.583058</td>\n",
       "      <td>-1.059956</td>\n",
       "      <td>0.503368</td>\n",
       "      <td>0.822218</td>\n",
       "      <td>1.298204</td>\n",
       "      <td>0.008965</td>\n",
       "      <td>0.120579</td>\n",
       "      <td>-1.327136</td>\n",
       "      <td>-2.219655</td>\n",
       "      <td>...</td>\n",
       "      <td>-0.282405</td>\n",
       "      <td>1.077338</td>\n",
       "      <td>-0.798507</td>\n",
       "      <td>-0.282609</td>\n",
       "      <td>0.270611</td>\n",
       "      <td>-0.107644</td>\n",
       "      <td>-0.044484</td>\n",
       "      <td>-0.240794</td>\n",
       "      <td>-0.460373</td>\n",
       "      <td>0</td>\n",
       "    </tr>\n",
       "    <tr>\n",
       "      <th>3</th>\n",
       "      <td>3</td>\n",
       "      <td>-0.789126</td>\n",
       "      <td>0.943436</td>\n",
       "      <td>1.273283</td>\n",
       "      <td>-0.354022</td>\n",
       "      <td>-0.736292</td>\n",
       "      <td>-0.241473</td>\n",
       "      <td>-0.522785</td>\n",
       "      <td>1.641478</td>\n",
       "      <td>-1.315636</td>\n",
       "      <td>...</td>\n",
       "      <td>-0.282405</td>\n",
       "      <td>-0.928214</td>\n",
       "      <td>-0.798507</td>\n",
       "      <td>3.538459</td>\n",
       "      <td>0.270611</td>\n",
       "      <td>-0.107644</td>\n",
       "      <td>-0.044484</td>\n",
       "      <td>-0.240794</td>\n",
       "      <td>-0.460373</td>\n",
       "      <td>0</td>\n",
       "    </tr>\n",
       "    <tr>\n",
       "      <th>4</th>\n",
       "      <td>4</td>\n",
       "      <td>-0.789126</td>\n",
       "      <td>-1.059956</td>\n",
       "      <td>0.503368</td>\n",
       "      <td>-0.942142</td>\n",
       "      <td>0.620039</td>\n",
       "      <td>-1.869317</td>\n",
       "      <td>0.763943</td>\n",
       "      <td>-1.327136</td>\n",
       "      <td>-2.219655</td>\n",
       "      <td>...</td>\n",
       "      <td>-0.282405</td>\n",
       "      <td>1.077338</td>\n",
       "      <td>-0.798507</td>\n",
       "      <td>-0.282609</td>\n",
       "      <td>0.270611</td>\n",
       "      <td>-0.107644</td>\n",
       "      <td>-0.044484</td>\n",
       "      <td>-0.240794</td>\n",
       "      <td>-0.460373</td>\n",
       "      <td>0</td>\n",
       "    </tr>\n",
       "  </tbody>\n",
       "</table>\n",
       "<p>5 rows × 28 columns</p>\n",
       "</div>"
      ],
      "text/plain": [
       "   Unnamed: 0  Customer_Age    Gender  Dependent_count  Education_Level  \\\n",
       "0           0     -0.165406 -1.059956         0.503368        -0.354022   \n",
       "1           1      0.333570  0.943436         2.043199         0.822218   \n",
       "2           2      0.583058 -1.059956         0.503368         0.822218   \n",
       "3           3     -0.789126  0.943436         1.273283        -0.354022   \n",
       "4           4     -0.789126 -1.059956         0.503368        -0.942142   \n",
       "\n",
       "   Income_Category  Months_on_book  Total_Relationship_Count  \\\n",
       "0         0.620039        0.384621                  0.763943   \n",
       "1        -0.736292        1.010715                  1.407306   \n",
       "2         1.298204        0.008965                  0.120579   \n",
       "3        -0.736292       -0.241473                 -0.522785   \n",
       "4         0.620039       -1.869317                  0.763943   \n",
       "\n",
       "   Months_Inactive_12_mon  Contacts_Count_12_mon  ...  Divorced   Married  \\\n",
       "0               -1.327136               0.492404  ... -0.282405  1.077338   \n",
       "1               -1.327136              -0.411616  ... -0.282405 -0.928214   \n",
       "2               -1.327136              -2.219655  ... -0.282405  1.077338   \n",
       "3                1.641478              -1.315636  ... -0.282405 -0.928214   \n",
       "4               -1.327136              -2.219655  ... -0.282405  1.077338   \n",
       "\n",
       "     Single   Unknown      Blue      Gold  Platinum    Silver  High_Risk  \\\n",
       "0 -0.798507 -0.282609  0.270611 -0.107644 -0.044484 -0.240794  -0.460373   \n",
       "1  1.252337 -0.282609  0.270611 -0.107644 -0.044484 -0.240794  -0.460373   \n",
       "2 -0.798507 -0.282609  0.270611 -0.107644 -0.044484 -0.240794  -0.460373   \n",
       "3 -0.798507  3.538459  0.270611 -0.107644 -0.044484 -0.240794  -0.460373   \n",
       "4 -0.798507 -0.282609  0.270611 -0.107644 -0.044484 -0.240794  -0.460373   \n",
       "\n",
       "   Attrition_Flag  \n",
       "0               0  \n",
       "1               0  \n",
       "2               0  \n",
       "3               0  \n",
       "4               0  \n",
       "\n",
       "[5 rows x 28 columns]"
      ]
     },
     "execution_count": 67,
     "metadata": {},
     "output_type": "execute_result"
    }
   ],
   "source": [
    "bankdata = pd.read_csv('/Users/hanxiao/Downloads/bank_data.csv')\n",
    "bankdata.head()"
   ]
  },
  {
   "cell_type": "code",
   "execution_count": 60,
   "metadata": {
    "ExecuteTime": {
     "end_time": "2021-10-01T21:24:02.675567Z",
     "start_time": "2021-10-01T21:24:02.648162Z"
    }
   },
   "outputs": [
    {
     "name": "stdout",
     "output_type": "stream",
     "text": [
      "The size of training set is  (7500, 26) (7500,)\n",
      "The size of testing set is  (2500, 26) (2500,)\n"
     ]
    }
   ],
   "source": [
    "# Retrieving Attributes\n",
    "X = bankdata.iloc[:, 1:27] # keep specific attributes \n",
    "\n",
    "# Retriving Target Variable\n",
    "y = bankdata.loc[:, 'Attrition_Flag'] \n",
    "\n",
    "X_train, X_test, y_train, y_test = train_test_split(X, y, \n",
    "                                                    test_size = 0.25, \n",
    "                                                    random_state = 42,\n",
    "                                                    stratify = y)\n",
    "print('The size of training set is ',X_train.shape,y_train.shape)  \n",
    "print('The size of testing set is ',X_test.shape,y_test.shape) "
   ]
  },
  {
   "cell_type": "code",
   "execution_count": 61,
   "metadata": {
    "ExecuteTime": {
     "end_time": "2021-10-01T21:24:03.197048Z",
     "start_time": "2021-10-01T21:24:03.190404Z"
    }
   },
   "outputs": [],
   "source": [
    "np.random.seed(42) # tuning parameters\n",
    "inner_cv = KFold(n_splits=5, shuffle=True)\n",
    "outer_cv = KFold(n_splits=5, shuffle=True) # cross validation"
   ]
  },
  {
   "cell_type": "markdown",
   "metadata": {},
   "source": [
    "# Logistic Regression Model"
   ]
  },
  {
   "cell_type": "code",
   "execution_count": 201,
   "metadata": {
    "ExecuteTime": {
     "end_time": "2021-10-02T16:13:50.882399Z",
     "start_time": "2021-10-02T16:13:50.826452Z"
    }
   },
   "outputs": [],
   "source": [
    "from sklearn.metrics import accuracy_score,precision_score, recall_score, f1_score\n",
    "from sklearn.metrics import confusion_matrix  \n",
    "from sklearn.metrics import classification_report\n",
    "\n",
    "def evaluate_model(predictions, train_predictions, train_labels, test_labels):\n",
    "\n",
    "    # the predictive accuracy, precision, recall, and f1_score. \n",
    "    \n",
    "    results = {}\n",
    "    results['accuracy'] = accuracy_score(test_labels.astype(int), predictions)\n",
    "    results['recall'] = recall_score(test_labels.astype(int), predictions)\n",
    "    results['precision'] = precision_score(test_labels.astype(int), predictions)\n",
    "    results['f1'] = f1_score(test_labels.astype(int), predictions)\n",
    "    print('Accuracy (out of sample):',results['accuracy'])\n",
    "    print('Recall (out of sample):',results['recall'])\n",
    "    print('Precision (out of sample):',results['precision'])\n",
    "    print('f1_score (out of sample):',results['f1'])\n",
    "    \n",
    "    print('\\n')\n",
    "    \n",
    "    # the accuracy, precision, recall and f1_score of training set\n",
    "    \n",
    "    results = {}\n",
    "    results['accuracy'] = accuracy_score(train_labels.astype(int), train_predictions)\n",
    "    results['recall'] = recall_score(train_labels.astype(int), train_predictions)\n",
    "    results['precision'] = precision_score(train_labels.astype(int), train_predictions)\n",
    "    results['f1'] = f1_score(train_labels.astype(int), train_predictions)\n",
    "    print('Accuracy (in sample):',results['accuracy'])\n",
    "    print('Recall (in sample):',results['recall'])\n",
    "    print('Precision (in sample):',results['precision'])\n",
    "    print('f1_score (in sample):',results['f1'])\n",
    "    \n",
    "    cm = confusion_matrix(test_labels.astype('int'), predictions)\n",
    "    print('\\n')\n",
    "    print('Confusion Matrix:\\n',cm)    \n",
    "    \n",
    "    print('\\n\\nClassification Metrix:\\n', classification_report(y_test, y_test_pred, target_names = [\"No Attrition\", \"Attrition\"]))"
   ]
  },
  {
   "cell_type": "markdown",
   "metadata": {},
   "source": [
    "## Hyperparameter: Grid Search"
   ]
  },
  {
   "cell_type": "code",
   "execution_count": 65,
   "metadata": {
    "ExecuteTime": {
     "end_time": "2021-10-01T21:26:14.454787Z",
     "start_time": "2021-10-01T21:25:29.017001Z"
    }
   },
   "outputs": [
    {
     "name": "stdout",
     "output_type": "stream",
     "text": [
      "\n",
      " Parameter Tuning Logistic Regression\n",
      "Non-nested CV f1:  0.857908216563055\n",
      "Optimal Parameter:  {'C': 0.1, 'penalty': 'l1'}\n",
      "Optimal Estimator:  LogisticRegression(C=0.1, penalty='l1', random_state=42, solver='liblinear')\n",
      "Nested CV f1: 0.8585907272545956  +/-  0.00352905037843219\n"
     ]
    }
   ],
   "source": [
    "gs_LR = GridSearchCV(estimator=LogisticRegression(random_state=42, solver='liblinear'),\n",
    "                  param_grid=[{'C': [ 0.00001, 0.0001, 0.001, 0.01, 0.1 ,1 ,10 ,100, 1000],\n",
    "                             'penalty':['l1','l2']}],\n",
    "                  scoring='f1_weighted',\n",
    "                  cv=inner_cv)\n",
    "\n",
    "gs_LR = gs_LR.fit(X,y)\n",
    "print(\"\\n Parameter Tuning Logistic Regression\")\n",
    "print(\"Non-nested CV f1: \", gs_LR.best_score_)\n",
    "print(\"Optimal Parameter: \", gs_LR.best_params_)\n",
    "print(\"Optimal Estimator: \", gs_LR.best_estimator_)\n",
    "nested_score_gs = cross_val_score(gs_LR, X=X, y=y, cv=outer_cv)\n",
    "print(\"Nested CV f1:\",nested_score_gs.mean(), \" +/- \", nested_score_gs.std())"
   ]
  },
  {
   "cell_type": "markdown",
   "metadata": {},
   "source": [
    "## Intercept and Coefficients"
   ]
  },
  {
   "cell_type": "code",
   "execution_count": 70,
   "metadata": {
    "ExecuteTime": {
     "end_time": "2021-10-01T21:33:29.349093Z",
     "start_time": "2021-10-01T21:33:29.206719Z"
    }
   },
   "outputs": [
    {
     "name": "stdout",
     "output_type": "stream",
     "text": [
      "The intercept of logictic regression model is:  [-1.32675681]\n",
      "\n",
      "The coefficients of logictic regression model is:  [-0.07951504  0.25490342  0.06889247 -0.00620546  0.0810358   0.\n",
      " -0.4142332   0.43393178  0.55266676  0.16068499 -0.47497319 -0.36654304\n",
      " -0.22138843  2.18888999 -3.49089695 -0.61992013 -0.3923973   0.\n",
      " -0.18116145  0.0109624   0.         -0.0054469   0.02480959  0.\n",
      "  0.          0.21953888]\n"
     ]
    }
   ],
   "source": [
    "clf1 = LogisticRegression(penalty='l1', \n",
    "                          C=0.1,\n",
    "                          random_state=42,\n",
    "                          solver='liblinear')\n",
    "clf1.fit(X_train, y_train)\n",
    "LR_intercept = clf1.intercept_\n",
    "LR_coefficients = clf1.coef_[0]\n",
    "print(\"The intercept of logictic regression model is: \", LR_intercept)\n",
    "print(\"\\nThe coefficients of logictic regression model is: \", LR_coefficients)"
   ]
  },
  {
   "cell_type": "markdown",
   "metadata": {},
   "source": [
    "## Confusion Matrix"
   ]
  },
  {
   "cell_type": "code",
   "execution_count": 198,
   "metadata": {
    "ExecuteTime": {
     "end_time": "2021-10-02T16:10:33.018865Z",
     "start_time": "2021-10-02T16:10:32.916647Z"
    }
   },
   "outputs": [
    {
     "name": "stdout",
     "output_type": "stream",
     "text": [
      "Accuracy (out of sample): 0.8676\n",
      "Recall (out of sample): 0.87390263367917\n",
      "Precision (out of sample): 0.863564668769716\n",
      "f1_score (out of sample): 0.868702895676319\n",
      "\n",
      "\n",
      "Accuracy (in sample): 0.8581333333333333\n",
      "Recall (in sample): 0.8585106382978723\n",
      "Precision (in sample): 0.8585106382978723\n",
      "f1_score (in sample): 0.8585106382978723\n",
      "\n",
      "\n",
      "Confusion Matrix:\n",
      " [[1074  173]\n",
      " [ 158 1095]]\n",
      "\n",
      "\n",
      "Classification Metrix:\n",
      "               precision    recall  f1-score   support\n",
      "\n",
      "No Attrition       0.87      0.86      0.87      1247\n",
      "   Attrition       0.86      0.87      0.87      1253\n",
      "\n",
      "    accuracy                           0.87      2500\n",
      "   macro avg       0.87      0.87      0.87      2500\n",
      "weighted avg       0.87      0.87      0.87      2500\n",
      "\n"
     ]
    }
   ],
   "source": [
    "y_test_pred = clf1.predict(X_test)\n",
    "y_train_pred = clf1.predict(X_train)\n",
    "evaluate_model(y_test_pred, y_train_pred, y_train, y_test)"
   ]
  },
  {
   "cell_type": "markdown",
   "metadata": {},
   "source": [
    "## Important Features: Top 10"
   ]
  },
  {
   "cell_type": "code",
   "execution_count": 122,
   "metadata": {
    "ExecuteTime": {
     "end_time": "2021-10-02T01:16:36.934318Z",
     "start_time": "2021-10-02T01:16:36.274843Z"
    }
   },
   "outputs": [
    {
     "data": {
      "image/png": "[encoded data removed]",
      "text/plain": [
       "<Figure size 432x288 with 1 Axes>"
      ]
     },
     "metadata": {
      "needs_background": "light"
     },
     "output_type": "display_data"
    }
   ],
   "source": [
    "# match odds to column name\n",
    "feature_importance = pd.DataFrame(X.columns, columns = [\"feature\"])\n",
    "feature_importance[\"odds\"] = pow(math.e, LR_coefficients)  # e raised to the power x\n",
    "feature_importance = feature_importance.sort_values(by = [\"odds\"], ascending=False)\n",
    "# draw feature importance graph\n",
    "ax = feature_importance.plot.barh(x='feature', y='odds')"
   ]
  },
  {
   "cell_type": "code",
   "execution_count": 76,
   "metadata": {
    "ExecuteTime": {
     "end_time": "2021-10-01T21:35:01.671156Z",
     "start_time": "2021-10-01T21:35:01.404482Z"
    }
   },
   "outputs": [
    {
     "data": {
      "text/html": [
       "<div>\n",
       "<style scoped>\n",
       "    .dataframe tbody tr th:only-of-type {\n",
       "        vertical-align: middle;\n",
       "    }\n",
       "\n",
       "    .dataframe tbody tr th {\n",
       "        vertical-align: top;\n",
       "    }\n",
       "\n",
       "    .dataframe thead th {\n",
       "        text-align: right;\n",
       "    }\n",
       "</style>\n",
       "<table border=\"1\" class=\"dataframe\">\n",
       "  <thead>\n",
       "    <tr style=\"text-align: right;\">\n",
       "      <th></th>\n",
       "      <th>feature</th>\n",
       "      <th>odds</th>\n",
       "    </tr>\n",
       "  </thead>\n",
       "  <tbody>\n",
       "    <tr>\n",
       "      <th>13</th>\n",
       "      <td>Total_Trans_Amt</td>\n",
       "      <td>8.925300</td>\n",
       "    </tr>\n",
       "    <tr>\n",
       "      <th>8</th>\n",
       "      <td>Contacts_Count_12_mon</td>\n",
       "      <td>1.737881</td>\n",
       "    </tr>\n",
       "    <tr>\n",
       "      <th>7</th>\n",
       "      <td>Months_Inactive_12_mon</td>\n",
       "      <td>1.543314</td>\n",
       "    </tr>\n",
       "    <tr>\n",
       "      <th>1</th>\n",
       "      <td>Gender</td>\n",
       "      <td>1.290337</td>\n",
       "    </tr>\n",
       "    <tr>\n",
       "      <th>25</th>\n",
       "      <td>High_Risk</td>\n",
       "      <td>1.245502</td>\n",
       "    </tr>\n",
       "    <tr>\n",
       "      <th>9</th>\n",
       "      <td>Credit_Limit</td>\n",
       "      <td>1.174315</td>\n",
       "    </tr>\n",
       "    <tr>\n",
       "      <th>4</th>\n",
       "      <td>Income_Category</td>\n",
       "      <td>1.084410</td>\n",
       "    </tr>\n",
       "    <tr>\n",
       "      <th>2</th>\n",
       "      <td>Dependent_count</td>\n",
       "      <td>1.071321</td>\n",
       "    </tr>\n",
       "    <tr>\n",
       "      <th>22</th>\n",
       "      <td>Gold</td>\n",
       "      <td>1.025120</td>\n",
       "    </tr>\n",
       "    <tr>\n",
       "      <th>19</th>\n",
       "      <td>Single</td>\n",
       "      <td>1.011023</td>\n",
       "    </tr>\n",
       "  </tbody>\n",
       "</table>\n",
       "</div>"
      ],
      "text/plain": [
       "                   feature      odds\n",
       "13         Total_Trans_Amt  8.925300\n",
       "8    Contacts_Count_12_mon  1.737881\n",
       "7   Months_Inactive_12_mon  1.543314\n",
       "1                   Gender  1.290337\n",
       "25               High_Risk  1.245502\n",
       "9             Credit_Limit  1.174315\n",
       "4          Income_Category  1.084410\n",
       "2          Dependent_count  1.071321\n",
       "22                    Gold  1.025120\n",
       "19                  Single  1.011023"
      ]
     },
     "execution_count": 76,
     "metadata": {},
     "output_type": "execute_result"
    },
    {
     "data": {
      "image/png": "[encoded data removed]",
      "text/plain": [
       "<Figure size 432x288 with 1 Axes>"
      ]
     },
     "metadata": {
      "needs_background": "light"
     },
     "output_type": "display_data"
    }
   ],
   "source": [
    "# draw a graph for top 10 features\n",
    "ax2 = feature_importance.head(10).plot.barh(x='feature', y='odds')\n",
    "feature_importance.head(10)"
   ]
  },
  {
   "cell_type": "markdown",
   "metadata": {},
   "source": [
    "# kNN Model"
   ]
  },
  {
   "cell_type": "markdown",
   "metadata": {},
   "source": [
    "## Hyperparameter: Grid Search"
   ]
  },
  {
   "cell_type": "code",
   "execution_count": 81,
   "metadata": {
    "ExecuteTime": {
     "end_time": "2021-10-01T21:48:17.691710Z",
     "start_time": "2021-10-01T21:40:00.964731Z"
    }
   },
   "outputs": [
    {
     "name": "stdout",
     "output_type": "stream",
     "text": [
      "\n",
      " Parameter Tuning kNN\n",
      "Non-nested CV f1:  0.9344894112295543\n",
      "Optimal Parameter:  {'n_neighbors': 21, 'p': 1, 'weights': 'distance'}\n",
      "Optimal Estimator:  KNeighborsClassifier(n_neighbors=21, p=1, weights='distance')\n",
      "Nested CV f1:  0.9318761292318118  +/-  0.0065716534847087334\n"
     ]
    }
   ],
   "source": [
    "gs_kNN = GridSearchCV(estimator=KNeighborsClassifier(metric='minkowski'),\n",
    "                      param_grid=[{\n",
    "                          'n_neighbors': [3,5,7,9,11,13,15,17,19,21],\n",
    "                          'weights': ['uniform', 'distance'],\n",
    "                          'p': [1,2]\n",
    "                      }],\n",
    "                      scoring='f1_weighted',\n",
    "                      cv=inner_cv,\n",
    "                      n_jobs=4)\n",
    "\n",
    "gs_kNN = gs_kNN.fit(X,y) \n",
    "print(\"\\n Parameter Tuning kNN\")\n",
    "print(\"Non-nested CV f1: \", gs_kNN.best_score_)\n",
    "print(\"Optimal Parameter: \", gs_kNN.best_params_)\n",
    "print(\"Optimal Estimator: \", gs_kNN.best_estimator_)\n",
    "nested_score_gs = cross_val_score(gs_kNN, X=X, y=y, cv=outer_cv)\n",
    "print(\"Nested CV f1: \",nested_score_gs.mean(), \" +/- \", nested_score_gs.std())"
   ]
  },
  {
   "cell_type": "code",
   "execution_count": 89,
   "metadata": {
    "ExecuteTime": {
     "end_time": "2021-10-01T22:49:37.024148Z",
     "start_time": "2021-10-01T22:49:36.888223Z"
    }
   },
   "outputs": [
    {
     "data": {
      "text/plain": [
       "KNeighborsClassifier(n_neighbors=21, p=1, weights='distance')"
      ]
     },
     "execution_count": 89,
     "metadata": {},
     "output_type": "execute_result"
    }
   ],
   "source": [
    "clf2 = KNeighborsClassifier(n_neighbors=21,\n",
    "                            p=1,\n",
    "                            metric='minkowski',\n",
    "                            weights='distance')\n",
    "clf2.fit(X_train, y_train)"
   ]
  },
  {
   "cell_type": "markdown",
   "metadata": {},
   "source": [
    "## Confusion Matrix"
   ]
  },
  {
   "cell_type": "code",
   "execution_count": 199,
   "metadata": {
    "ExecuteTime": {
     "end_time": "2021-10-02T16:11:15.167238Z",
     "start_time": "2021-10-02T16:11:09.174271Z"
    }
   },
   "outputs": [
    {
     "name": "stdout",
     "output_type": "stream",
     "text": [
      "Accuracy (out of sample): 0.9288\n",
      "Recall (out of sample): 0.9896249002394254\n",
      "Precision (out of sample): 0.8825622775800712\n",
      "f1_score (out of sample): 0.9330323551542513\n",
      "\n",
      "\n",
      "Accuracy (in sample): 1.0\n",
      "Recall (in sample): 1.0\n",
      "Precision (in sample): 1.0\n",
      "f1_score (in sample): 1.0\n",
      "\n",
      "\n",
      "Confusion Matrix:\n",
      " [[1082  165]\n",
      " [  13 1240]]\n",
      "\n",
      "\n",
      "Classification Metrix:\n",
      "               precision    recall  f1-score   support\n",
      "\n",
      "No Attrition       0.99      0.87      0.92      1247\n",
      "   Attrition       0.88      0.99      0.93      1253\n",
      "\n",
      "    accuracy                           0.93      2500\n",
      "   macro avg       0.94      0.93      0.93      2500\n",
      "weighted avg       0.94      0.93      0.93      2500\n",
      "\n"
     ]
    }
   ],
   "source": [
    "y_test_pred = clf2.predict(X_test)\n",
    "y_train_pred = clf2.predict(X_train)\n",
    "evaluate_model(y_test_pred, y_train_pred, y_train, y_test)"
   ]
  },
  {
   "cell_type": "markdown",
   "metadata": {},
   "source": [
    "# Decision Tree Model"
   ]
  },
  {
   "cell_type": "markdown",
   "metadata": {},
   "source": [
    "## Hyperparameter: Grid Search"
   ]
  },
  {
   "cell_type": "code",
   "execution_count": 83,
   "metadata": {
    "ExecuteTime": {
     "end_time": "2021-10-01T22:08:32.250665Z",
     "start_time": "2021-10-01T21:50:54.025725Z"
    }
   },
   "outputs": [
    {
     "name": "stdout",
     "output_type": "stream",
     "text": [
      "Non-nested CV f1:  0.9686890582171787\n",
      "Optimal Parameter:  {'criterion': 'entropy', 'max_depth': 12, 'min_samples_leaf': 1, 'min_samples_split': 2}\n",
      "Optimal Estimator:  DecisionTreeClassifier(criterion='entropy', max_depth=12, random_state=42)\n",
      "Nested CV f1:  0.9670909950379961  +/-  0.003851624336568264\n"
     ]
    }
   ],
   "source": [
    "gs_DT = GridSearchCV(estimator = DecisionTreeClassifier(random_state=42),\n",
    "                     param_grid = [{'criterion' : ['gini', 'entropy'],\n",
    "                                    'max_depth' : range(4,15,1),\n",
    "                                    'min_samples_leaf' : [1,2,3,4,5,6,7,8],\n",
    "                                    'min_samples_split' : [2,3,4,5,6,7,8,9]\n",
    "                                   }],\n",
    "                     scoring = 'f1_weighted', \n",
    "                     cv = inner_cv,\n",
    "                     n_jobs = 4)\n",
    "\n",
    "gs_DT = gs_DT.fit(X,y)\n",
    "print(\"Non-nested CV f1: \", gs_DT.best_score_)\n",
    "# Parameter setting that gave the best results on the hold out data.\n",
    "print(\"Optimal Parameter: \", gs_DT.best_params_)    \n",
    "# Estimator that was chosen by the search, i.e. estimator which gave highest score\n",
    "print(\"Optimal Estimator: \", gs_DT.best_estimator_) \n",
    "nested_score_gs = cross_val_score(gs_DT, X = X, y = y, cv = outer_cv)\n",
    "print(\"Nested CV f1: \",nested_score_gs.mean(), \" +/- \", nested_score_gs.std())"
   ]
  },
  {
   "cell_type": "code",
   "execution_count": 126,
   "metadata": {
    "ExecuteTime": {
     "end_time": "2021-10-02T01:19:03.974342Z",
     "start_time": "2021-10-02T01:19:03.836398Z"
    }
   },
   "outputs": [
    {
     "data": {
      "text/plain": [
       "DecisionTreeClassifier(criterion='entropy', max_depth=12, random_state=42)"
      ]
     },
     "execution_count": 126,
     "metadata": {},
     "output_type": "execute_result"
    }
   ],
   "source": [
    "clf3 = DecisionTreeClassifier(criterion = 'entropy', \n",
    "                              max_depth = 12, \n",
    "                              min_samples_leaf = 1,\n",
    "                              min_samples_split = 2,\n",
    "                              random_state=42\n",
    "                             )\n",
    "clf3.fit(X_train, y_train)"
   ]
  },
  {
   "cell_type": "markdown",
   "metadata": {},
   "source": [
    "## Confusion Matrix"
   ]
  },
  {
   "cell_type": "code",
   "execution_count": 212,
   "metadata": {
    "ExecuteTime": {
     "end_time": "2021-10-03T22:04:27.464954Z",
     "start_time": "2021-10-03T22:04:26.613334Z"
    }
   },
   "outputs": [
    {
     "name": "stdout",
     "output_type": "stream",
     "text": [
      "Accuracy (out of sample): 0.9648\n",
      "Recall (out of sample): 0.9744612928970471\n",
      "Precision (out of sample): 0.9561472200469852\n",
      "f1_score (out of sample): 0.9652173913043478\n",
      "\n",
      "\n",
      "Accuracy (in sample): 0.9982666666666666\n",
      "Recall (in sample): 0.9989361702127659\n",
      "Precision (in sample): 0.9976095617529881\n",
      "f1_score (in sample): 0.9982724252491695\n",
      "\n",
      "\n",
      "Confusion Matrix:\n",
      " [[1191   56]\n",
      " [  32 1221]]\n",
      "\n",
      "\n",
      "Classification Metrix:\n",
      "               precision    recall  f1-score   support\n",
      "\n",
      "No Attrition       0.97      0.96      0.96      1247\n",
      "   Attrition       0.96      0.97      0.97      1253\n",
      "\n",
      "    accuracy                           0.96      2500\n",
      "   macro avg       0.96      0.96      0.96      2500\n",
      "weighted avg       0.96      0.96      0.96      2500\n",
      "\n"
     ]
    }
   ],
   "source": [
    "y_test_pred = clf3.predict(X_test)\n",
    "y_train_pred = clf3.predict(X_train)\n",
    "evaluate_model(y_test_pred, y_train_pred, y_train, y_test)"
   ]
  },
  {
   "cell_type": "code",
   "execution_count": 142,
   "metadata": {
    "ExecuteTime": {
     "end_time": "2021-10-02T01:39:57.735205Z",
     "start_time": "2021-10-02T01:39:57.705235Z"
    }
   },
   "outputs": [],
   "source": [
    "# Define path of an image\n",
    "# Function that takes as input fig_id and returns back the image path\n",
    "PROJECT_ROOT_DIR = \".\"\n",
    "\n",
    "def image_path(fig_id):\n",
    "    return os.path.join(PROJECT_ROOT_DIR, fig_id)\n",
    "\n",
    "def save_fig(fig_id, tight_layout=True):\n",
    "    print(\"Saving figure\", fig_id)\n",
    "    if tight_layout:\n",
    "        plt.tight_layout()\n",
    "    plt.savefig(image_path(fig_id) + \".png\", format='png', dpi=2400)\n",
    "\n",
    "def export_dot(tree_classifier, file_name):\n",
    "    try:\n",
    "        export_graphviz(\n",
    "            tree_classifier,\n",
    "            out_file=image_path(file_name),\n",
    "            feature_names=main.columns[0:-1],\n",
    "            class_names=y.name,\n",
    "            rounded=True,\n",
    "            filled=True\n",
    "        )\n",
    "        print(\"Successfully exported .dot file.\")\n",
    "    except:\n",
    "        print(\"Error in exporting .dot file.\")"
   ]
  },
  {
   "cell_type": "markdown",
   "metadata": {},
   "source": [
    "## Important Features: Top 10"
   ]
  },
  {
   "cell_type": "code",
   "execution_count": 153,
   "metadata": {
    "ExecuteTime": {
     "end_time": "2021-10-02T01:46:16.616409Z",
     "start_time": "2021-10-02T01:46:16.587553Z"
    }
   },
   "outputs": [],
   "source": [
    "# Where to save the figures\n",
    "PROJECT_ROOT_DIR = \".\"\n",
    "CHAPTER_ID = \"decision_trees\"\n",
    "\n",
    "# Define path of an image\n",
    "# Function that takes as input fig_id and returns back the image path (.images/decision_trees/fig_id) \n",
    "def image_path(fig_id):\n",
    "    return os.path.join(PROJECT_ROOT_DIR, \"images\", CHAPTER_ID, fig_id)\n",
    "\n",
    "\n",
    "# Save image in a specific path\n",
    "# Function that takes as input fig_id and saves the image in a specific format (i.e., png, 300 dpi)\n",
    "def save_fig(fig_id, tight_layout=True):\n",
    "    print(\"Saving figure\", fig_id)\n",
    "    if tight_layout:\n",
    "        plt.tight_layout()\n",
    "    plt.savefig(image_path(fig_id) + \".png\", format='png', dpi=300)"
   ]
  },
  {
   "cell_type": "code",
   "execution_count": 154,
   "metadata": {
    "ExecuteTime": {
     "end_time": "2021-10-02T01:46:23.888110Z",
     "start_time": "2021-10-02T01:46:23.867233Z"
    }
   },
   "outputs": [],
   "source": [
    "X_names = X.columns\n",
    "y_names = ['attrition', 'no attrition']"
   ]
  },
  {
   "cell_type": "code",
   "execution_count": 90,
   "metadata": {
    "ExecuteTime": {
     "end_time": "2021-10-01T22:49:42.729117Z",
     "start_time": "2021-10-01T22:49:42.712282Z"
    }
   },
   "outputs": [],
   "source": [
    "importance = clf3.feature_importances_\n",
    "\n",
    "important_features_dict = dict()\n",
    "for i,v in enumerate(importance):\n",
    "    important_features_dict[i] = v"
   ]
  },
  {
   "cell_type": "code",
   "execution_count": 189,
   "metadata": {
    "ExecuteTime": {
     "end_time": "2021-10-02T15:58:15.954431Z",
     "start_time": "2021-10-02T15:58:15.432341Z"
    }
   },
   "outputs": [
    {
     "data": {
      "image/png": "[encoded data removed]",
      "text/plain": [
       "<Figure size 432x288 with 1 Axes>"
      ]
     },
     "metadata": {
      "needs_background": "light"
     },
     "output_type": "display_data"
    }
   ],
   "source": [
    "# match importance to column name\n",
    "feature_importance = pd.DataFrame(X.columns, columns = [\"feature\"])\n",
    "feature_importance[\"importance_value\"] = clf3.feature_importances_  # e raised to the power x\n",
    "feature_importance = feature_importance.sort_values(by = [\"importance_value\"], ascending=False)\n",
    "# draw feature importance graph\n",
    "ax = feature_importance.plot.barh(x='feature', y='importance_value')"
   ]
  },
  {
   "cell_type": "code",
   "execution_count": 190,
   "metadata": {
    "ExecuteTime": {
     "end_time": "2021-10-02T15:59:28.055775Z",
     "start_time": "2021-10-02T15:59:27.246958Z"
    }
   },
   "outputs": [
    {
     "data": {
      "text/html": [
       "<div>\n",
       "<style scoped>\n",
       "    .dataframe tbody tr th:only-of-type {\n",
       "        vertical-align: middle;\n",
       "    }\n",
       "\n",
       "    .dataframe tbody tr th {\n",
       "        vertical-align: top;\n",
       "    }\n",
       "\n",
       "    .dataframe thead th {\n",
       "        text-align: right;\n",
       "    }\n",
       "</style>\n",
       "<table border=\"1\" class=\"dataframe\">\n",
       "  <thead>\n",
       "    <tr style=\"text-align: right;\">\n",
       "      <th></th>\n",
       "      <th>feature</th>\n",
       "      <th>importance_value</th>\n",
       "    </tr>\n",
       "  </thead>\n",
       "  <tbody>\n",
       "    <tr>\n",
       "      <th>14</th>\n",
       "      <td>Total_Trans_Ct</td>\n",
       "      <td>0.381492</td>\n",
       "    </tr>\n",
       "    <tr>\n",
       "      <th>13</th>\n",
       "      <td>Total_Trans_Amt</td>\n",
       "      <td>0.213455</td>\n",
       "    </tr>\n",
       "    <tr>\n",
       "      <th>10</th>\n",
       "      <td>Total_Revolving_Bal</td>\n",
       "      <td>0.118183</td>\n",
       "    </tr>\n",
       "    <tr>\n",
       "      <th>15</th>\n",
       "      <td>Total_Ct_Chng_Q4_Q1</td>\n",
       "      <td>0.079276</td>\n",
       "    </tr>\n",
       "    <tr>\n",
       "      <th>6</th>\n",
       "      <td>Total_Relationship_Count</td>\n",
       "      <td>0.052104</td>\n",
       "    </tr>\n",
       "    <tr>\n",
       "      <th>12</th>\n",
       "      <td>Total_Amt_Chng_Q4_Q1</td>\n",
       "      <td>0.041971</td>\n",
       "    </tr>\n",
       "    <tr>\n",
       "      <th>0</th>\n",
       "      <td>Customer_Age</td>\n",
       "      <td>0.029928</td>\n",
       "    </tr>\n",
       "    <tr>\n",
       "      <th>3</th>\n",
       "      <td>Education_Level</td>\n",
       "      <td>0.012114</td>\n",
       "    </tr>\n",
       "    <tr>\n",
       "      <th>11</th>\n",
       "      <td>Avg_Open_To_Buy</td>\n",
       "      <td>0.011581</td>\n",
       "    </tr>\n",
       "    <tr>\n",
       "      <th>8</th>\n",
       "      <td>Contacts_Count_12_mon</td>\n",
       "      <td>0.010270</td>\n",
       "    </tr>\n",
       "  </tbody>\n",
       "</table>\n",
       "</div>"
      ],
      "text/plain": [
       "                     feature  importance_value\n",
       "14            Total_Trans_Ct          0.381492\n",
       "13           Total_Trans_Amt          0.213455\n",
       "10       Total_Revolving_Bal          0.118183\n",
       "15       Total_Ct_Chng_Q4_Q1          0.079276\n",
       "6   Total_Relationship_Count          0.052104\n",
       "12      Total_Amt_Chng_Q4_Q1          0.041971\n",
       "0               Customer_Age          0.029928\n",
       "3            Education_Level          0.012114\n",
       "11           Avg_Open_To_Buy          0.011581\n",
       "8      Contacts_Count_12_mon          0.010270"
      ]
     },
     "execution_count": 190,
     "metadata": {},
     "output_type": "execute_result"
    },
    {
     "data": {
      "image/png": "[encoded data removed]",
      "text/plain": [
       "<Figure size 432x288 with 1 Axes>"
      ]
     },
     "metadata": {
      "needs_background": "light"
     },
     "output_type": "display_data"
    }
   ],
   "source": [
    "# draw a graph for top 10 features\n",
    "ax2 = feature_importance.head(10).plot.barh(x='feature', y='importance_value')\n",
    "feature_importance.head(10)"
   ]
  },
  {
   "cell_type": "markdown",
   "metadata": {},
   "source": [
    "# Evaluation"
   ]
  },
  {
   "cell_type": "code",
   "execution_count": 100,
   "metadata": {
    "ExecuteTime": {
     "end_time": "2021-10-01T22:55:33.338133Z",
     "start_time": "2021-10-01T22:55:33.306843Z"
    }
   },
   "outputs": [],
   "source": [
    "cv = ShuffleSplit(n_splits=10, test_size=0.25, random_state=42)"
   ]
  },
  {
   "cell_type": "markdown",
   "metadata": {},
   "source": [
    "## Learning Curve"
   ]
  },
  {
   "cell_type": "code",
   "execution_count": 85,
   "metadata": {
    "ExecuteTime": {
     "end_time": "2021-10-01T22:30:15.071284Z",
     "start_time": "2021-10-01T22:30:15.035435Z"
    }
   },
   "outputs": [],
   "source": [
    "### Function for Learning Curves \n",
    "def plot_learning_curve(estimator, title, X, y, scoring_method, ylim=None, cv=None,\n",
    "                        n_jobs=1, train_sizes=np.linspace(.1, 1.0, 10)):\n",
    "    plt.figure()                    #display figure\n",
    "    plt.title(title)\n",
    "    if ylim is not None:\n",
    "        plt.ylim(*ylim)\n",
    "    plt.xlabel(\"Training examples\") #y label title\n",
    "    plt.ylabel(scoring_method)             #x label title\n",
    "    \n",
    "    # Class learning_curve determines cross-validated training and test scores for different training set sizes\n",
    "    train_sizes, train_scores, test_scores = learning_curve(\n",
    "        estimator, X, y, scoring = scoring_method, cv=cv, n_jobs=n_jobs, train_sizes=train_sizes,random_state =42)\n",
    "    \n",
    "    # Cross validation statistics for training and testing data (mean and standard deviation)\n",
    "    train_scores_mean = np.mean(train_scores, axis=1) # Compute the arithmetic mean along the specified axis.\n",
    "    train_scores_std = np.std(train_scores, axis=1)   # Compute the standard deviation along the specified axis.\n",
    "    test_scores_mean = np.mean(test_scores, axis=1)   # Compute the arithmetic mean along the specified axis.\n",
    "    test_scores_std = np.std(test_scores, axis=1)     # Compute the standard deviation along the specified axis.\n",
    "\n",
    "    plt.grid() # Configure the grid lines\n",
    "\n",
    "    # Fill the area around the line to indicate the size of standard deviations for the training data\n",
    "    # and the test data\n",
    "    plt.fill_between(train_sizes, train_scores_mean - train_scores_std,\n",
    "                     train_scores_mean + train_scores_std, alpha=0.1,\n",
    "                     color=\"r\") # train data performance indicated with red\n",
    "    plt.fill_between(train_sizes, test_scores_mean - test_scores_std,\n",
    "                     test_scores_mean + test_scores_std, alpha=0.1, color=\"g\") # test data performance indicated with green\n",
    "    \n",
    "    # Cross-validation means indicated by dots\n",
    "    # Train data performance indicated with red\n",
    "    plt.plot(train_sizes, train_scores_mean, 'o-', color=\"r\",\n",
    "             label=\"Training score\")\n",
    "    # Test data performance indicated with green\n",
    "    plt.plot(train_sizes, test_scores_mean, 'o-', color=\"g\",\n",
    "             label=\"Cross-validation score\")\n",
    "\n",
    "    plt.legend(loc=\"best\") # Show legend of the plot at the best location possible\n",
    "    return plt             # Function that returns the plot as an output"
   ]
  },
  {
   "cell_type": "markdown",
   "metadata": {},
   "source": [
    "### Logistic Regression"
   ]
  },
  {
   "cell_type": "code",
   "execution_count": 209,
   "metadata": {
    "ExecuteTime": {
     "end_time": "2021-10-02T17:34:15.464619Z",
     "start_time": "2021-10-02T17:34:08.451843Z"
    }
   },
   "outputs": [
    {
     "data": {
      "image/png": "[encoded data removed]",
      "text/plain": [
       "<Figure size 432x288 with 1 Axes>"
      ]
     },
     "metadata": {
      "needs_background": "light"
     },
     "output_type": "display_data"
    }
   ],
   "source": [
    "plot_learning_curve(clf1, \n",
    "                    \"Learning Curve for Logistic Regression Classifier\", \n",
    "                    X, y, \n",
    "                    'f1_weighted',\n",
    "                    ylim=(0.60, 1.01), \n",
    "                    cv=cv, \n",
    "                    n_jobs=4)\n",
    "plt.show()"
   ]
  },
  {
   "cell_type": "markdown",
   "metadata": {},
   "source": [
    "### kNN"
   ]
  },
  {
   "cell_type": "code",
   "execution_count": 210,
   "metadata": {
    "ExecuteTime": {
     "end_time": "2021-10-02T17:36:26.812540Z",
     "start_time": "2021-10-02T17:34:20.509736Z"
    }
   },
   "outputs": [
    {
     "data": {
      "image/png": "[encoded data removed]",
      "text/plain": [
       "<Figure size 432x288 with 1 Axes>"
      ]
     },
     "metadata": {
      "needs_background": "light"
     },
     "output_type": "display_data"
    }
   ],
   "source": [
    "plot_learning_curve(clf2, \n",
    "                    \"Learning Curve for kNN Classifier\", \n",
    "                    X, y, \n",
    "                    'f1_weighted',\n",
    "                    ylim=(0.60, 1.01), \n",
    "                    cv=cv, \n",
    "                    n_jobs=4)\n",
    "plt.show()"
   ]
  },
  {
   "cell_type": "markdown",
   "metadata": {},
   "source": [
    "### Decision Tree"
   ]
  },
  {
   "cell_type": "code",
   "execution_count": 211,
   "metadata": {
    "ExecuteTime": {
     "end_time": "2021-10-02T17:36:32.971323Z",
     "start_time": "2021-10-02T17:36:27.822072Z"
    }
   },
   "outputs": [
    {
     "data": {
      "image/png": "[encoded data removed]",
      "text/plain": [
       "<Figure size 432x288 with 1 Axes>"
      ]
     },
     "metadata": {
      "needs_background": "light"
     },
     "output_type": "display_data"
    }
   ],
   "source": [
    "plot_learning_curve(clf3, \n",
    "                    \"Learning Curve for Decision Tree Classifier\", \n",
    "                    X, y, \n",
    "                    'f1_weighted',\n",
    "                    ylim=(0.60, 1.01), \n",
    "                    cv=cv, \n",
    "                    n_jobs=4)\n",
    "plt.show()"
   ]
  },
  {
   "cell_type": "markdown",
   "metadata": {},
   "source": [
    "## Fitting Graph"
   ]
  },
  {
   "cell_type": "code",
   "execution_count": 108,
   "metadata": {
    "ExecuteTime": {
     "end_time": "2021-10-01T23:01:33.062774Z",
     "start_time": "2021-10-01T23:01:33.042864Z"
    }
   },
   "outputs": [],
   "source": [
    "# Function for fitting graphs\n",
    "def plot_fitting_curve(estimator, title, X, y,param_name,param_range,scoring_method, ylim=None, cv=None,\n",
    "                        n_jobs=1):\n",
    "   \n",
    "    plt.figure() \n",
    "    plt.grid()\n",
    "    plt.title(title)\n",
    "    if ylim is not None:\n",
    "        plt.ylim(*ylim)\n",
    "    plt.xlabel(\"Parameter \"+param_name) \n",
    "    plt.ylabel(scoring_method)\n",
    "    \n",
    "    train_scores, test_scores = validation_curve(estimator=estimator, X=X,y=y,param_name=param_name, param_range=param_range,cv=cv,scoring=scoring_method,n_jobs=4)\n",
    "    train_mean = np.mean(train_scores, axis=1)\n",
    "    train_std = np.std(train_scores, axis=1)\n",
    "    test_mean = np.mean(test_scores, axis=1)\n",
    "    test_std = np.std(test_scores, axis=1)\n",
    "    \n",
    "    plt.plot(param_range, train_mean, color='blue', marker='o',markersize=5, label='training f1-score')\n",
    "    plt.fill_between(param_range, train_mean + train_std, train_mean - train_std, alpha=0.15, color='blue')\n",
    "    \n",
    "    plt.plot(param_range, test_mean,color='green', linestyle='--', marker='s', markersize=5, label='validation f1-score')\n",
    "    plt.fill_between(param_range,test_mean + test_std, test_mean - test_std, alpha=0.15, color='green')\n",
    "    \n",
    "    plt.legend(loc='best')\n",
    "    plt.tight_layout()\n",
    "    return plt"
   ]
  },
  {
   "cell_type": "markdown",
   "metadata": {},
   "source": [
    "### Logistic Regression"
   ]
  },
  {
   "cell_type": "code",
   "execution_count": 111,
   "metadata": {
    "ExecuteTime": {
     "end_time": "2021-10-01T23:02:50.828673Z",
     "start_time": "2021-10-01T23:02:40.043437Z"
    }
   },
   "outputs": [
    {
     "data": {
      "image/png": "[encoded data removed]",
      "text/plain": [
       "<Figure size 432x288 with 1 Axes>"
      ]
     },
     "metadata": {
      "needs_background": "light"
     },
     "output_type": "display_data"
    }
   ],
   "source": [
    "param_range = [0.00001, 0.0001, 0.001, 0.01, 0.1 ,1 ,10 ,100, 1000, 10000, 100000, 1000000, 10000000, 100000000, 1000000000]\n",
    "plot_fitting_curve(clf1, \"Fitting Curve for Logistic Regression Classifier\", X_train, y_train,\n",
    "                   'C', param_range,'f1_weighted', ylim=[0.3,1], cv=cv, n_jobs=4)\n",
    "plt.xscale('log')\n",
    "plt.show()"
   ]
  },
  {
   "cell_type": "markdown",
   "metadata": {},
   "source": [
    "### kNN"
   ]
  },
  {
   "cell_type": "code",
   "execution_count": 120,
   "metadata": {
    "ExecuteTime": {
     "end_time": "2021-10-02T00:41:11.634178Z",
     "start_time": "2021-10-02T00:34:50.080839Z"
    }
   },
   "outputs": [
    {
     "data": {
      "image/png": "[encoded data removed]",
      "text/plain": [
       "<Figure size 432x288 with 1 Axes>"
      ]
     },
     "metadata": {
      "needs_background": "light"
     },
     "output_type": "display_data"
    }
   ],
   "source": [
    "param_range = [i for i in range(1,25)]\n",
    "plot_fitting_curve(clf2, \"Fitting Curve for kNN Classifier\", X_train, y_train,\n",
    "                   'n_neighbors', param_range,'f1_weighted', ylim=[0.3,1.02], cv=cv, n_jobs=4)\n",
    "plt.show()"
   ]
  },
  {
   "cell_type": "markdown",
   "metadata": {},
   "source": [
    "### Decision Tree"
   ]
  },
  {
   "cell_type": "code",
   "execution_count": 121,
   "metadata": {
    "ExecuteTime": {
     "end_time": "2021-10-02T00:46:15.835687Z",
     "start_time": "2021-10-02T00:46:03.301159Z"
    }
   },
   "outputs": [
    {
     "data": {
      "image/png": "[encoded data removed]",
      "text/plain": [
       "<Figure size 432x288 with 1 Axes>"
      ]
     },
     "metadata": {
      "needs_background": "light"
     },
     "output_type": "display_data"
    }
   ],
   "source": [
    "param_range = [i for i in range(1,50)]\n",
    "plot_fitting_curve(clf3, \"Fitting Curve for Decision Tree Classifier\", X_train, y_train,\n",
    "                   'max_depth',param_range,'f1_weighted', ylim=[0.3,1.02], cv=cv, n_jobs=4)\n",
    "plt.show()"
   ]
  },
  {
   "cell_type": "markdown",
   "metadata": {},
   "source": [
    "## ROC"
   ]
  },
  {
   "cell_type": "code",
   "execution_count": 115,
   "metadata": {
    "ExecuteTime": {
     "end_time": "2021-10-01T23:09:55.371022Z",
     "start_time": "2021-10-01T23:09:55.361545Z"
    }
   },
   "outputs": [],
   "source": [
    "def plot_ROC_curve(clf, label, clr, ls, X_train, X_test, y_train, y_test):\n",
    "    y_pred = clf.fit(X_train, y_train).predict_proba(X_test)[:, 1] # Make predictions based on the classifiers\n",
    "    fpr, tpr, thresholds = roc_curve(y_true=y_test, # Build ROC curve\n",
    "                                     y_score=y_pred)\n",
    "    roc_auc = auc(x=fpr, y=tpr)                # Compute Area Under the Curve (AUC) \n",
    "    plt.plot(fpr, tpr,                         # Plot ROC Curve and create label with AUC values\n",
    "             color=clr,\n",
    "             linestyle=ls,\n",
    "             label='%s (auc = %0.2f)' % (label, roc_auc))\n",
    "    \n",
    "    return plt"
   ]
  },
  {
   "cell_type": "markdown",
   "metadata": {},
   "source": [
    "### ROC AUC"
   ]
  },
  {
   "cell_type": "code",
   "execution_count": 164,
   "metadata": {
    "ExecuteTime": {
     "end_time": "2021-10-02T13:54:15.425435Z",
     "start_time": "2021-10-02T13:54:05.578160Z"
    }
   },
   "outputs": [
    {
     "name": "stdout",
     "output_type": "stream",
     "text": [
      "Logictic regression model: ROC AUC: 0.93 (+/- 0.00)\n",
      "kNN model: ROC AUC: 0.99 (+/- 0.00)\n",
      "Decision Tree model: ROC AUC: 0.97 (+/- 0.00)\n"
     ]
    }
   ],
   "source": [
    "from sklearn.metrics import roc_curve\n",
    "from sklearn.metrics import auc\n",
    "from sklearn.model_selection import GridSearchCV, KFold, cross_val_score\n",
    "\n",
    "\n",
    "scores = cross_val_score(estimator = clf1,  #Estimate AUC based on cross validation\n",
    "                         X = X,\n",
    "                         y = y,\n",
    "                         cv = cv,\n",
    "                         scoring='roc_auc',\n",
    "                         n_jobs = 4)\n",
    "\n",
    "print(\"Logictic regression model: ROC AUC: %0.2f (+/- %0.2f)\" #Print peformance statistics based on cross-validation\n",
    "      % (scores.mean(), scores.std()))\n",
    "\n",
    "scores = cross_val_score(estimator = clf2,  #Estimate AUC based on cross validation\n",
    "                         X = X,\n",
    "                         y = y,\n",
    "                         cv = cv,\n",
    "                         scoring='roc_auc',\n",
    "                         n_jobs = 4)\n",
    "\n",
    "print(\"kNN model: ROC AUC: %0.2f (+/- %0.2f)\" #Print peformance statistics based on cross-validation\n",
    "      % (scores.mean(), scores.std()))\n",
    "\n",
    "scores = cross_val_score(estimator = clf3,  #Estimate AUC based on cross validation\n",
    "                         X = X,\n",
    "                         y = y,\n",
    "                         cv = cv,\n",
    "                         scoring='roc_auc',\n",
    "                         n_jobs = 4)\n",
    "\n",
    "print(\"Decision Tree model: ROC AUC: %0.2f (+/- %0.2f)\" #Print peformance statistics based on cross-validation\n",
    "      % (scores.mean(), scores.std()))"
   ]
  },
  {
   "cell_type": "markdown",
   "metadata": {},
   "source": [
    "### ROC Curve"
   ]
  },
  {
   "cell_type": "code",
   "execution_count": 163,
   "metadata": {
    "ExecuteTime": {
     "end_time": "2021-10-02T13:51:38.385561Z",
     "start_time": "2021-10-02T13:51:37.202898Z"
    }
   },
   "outputs": [
    {
     "data": {
      "image/png": "[encoded data removed]",
      "text/plain": [
       "<Figure size 432x288 with 1 Axes>"
      ]
     },
     "metadata": {
      "needs_background": "light"
     },
     "output_type": "display_data"
    }
   ],
   "source": [
    "#LR\n",
    "plot_ROC_curve(clf1, label='Logistic regression', clr='orange', ls=':', X_train=X_train, X_test=X_test, y_train=y_train, y_test=y_test)\n",
    "#DT\n",
    "plot_ROC_curve(clf2, label='kNN', clr='blue', ls='-', X_train=X_train, X_test=X_test, y_train=y_train, y_test=y_test)\n",
    "#kNN\n",
    "plot_ROC_curve(clf3, label='Decision tree', clr='green', ls='-.', X_train=X_train, X_test=X_test, y_train=y_train, y_test=y_test)\n",
    "\n",
    "plt.legend(loc='lower right')    # Where to place the legend\n",
    "plt.plot([0, 1], [0, 1], # Visualize random classifier\n",
    "         linestyle='--',\n",
    "         color='gray',\n",
    "         linewidth=2)\n",
    "\n",
    "plt.xlim([-0.1, 1.1])   #limits for x axis\n",
    "plt.ylim([-0.1, 1.1])   #limits for y axis\n",
    "plt.grid(alpha=0.5)\n",
    "plt.xlabel('False positive rate (FPR)')\n",
    "plt.ylabel('True positive rate (TPR)')\n",
    "\n",
    "#plt.savefig('ROC_all_classifiers', dpi=300)\n",
    "plt.show()"
   ]
  },
  {
   "cell_type": "code",
   "execution_count": null,
   "metadata": {},
   "outputs": [],
   "source": []
  }
 ],
 "metadata": {
  "kernelspec": {
   "display_name": "Python 3",
   "language": "python",
   "name": "python3"
  },
  "language_info": {
   "codemirror_mode": {
    "name": "ipython",
    "version": 3
   },
   "file_extension": ".py",
   "mimetype": "text/x-python",
   "name": "python",
   "nbconvert_exporter": "python",
   "pygments_lexer": "ipython3",
   "version": "3.8.3"
  },
  "toc": {
   "base_numbering": 1,
   "nav_menu": {},
   "number_sections": true,
   "sideBar": true,
   "skip_h1_title": false,
   "title_cell": "Table of Contents",
   "title_sidebar": "Contents",
   "toc_cell": false,
   "toc_position": {
    "height": "calc(100% - 180px)",
    "left": "10px",
    "top": "150px",
    "width": "262.1875px"
   },
   "toc_section_display": true,
   "toc_window_display": true
  },
  "varInspector": {
   "cols": {
    "lenName": 16,
    "lenType": 16,
    "lenVar": 40
   },
   "kernels_config": {
    "python": {
     "delete_cmd_postfix": "",
     "delete_cmd_prefix": "del ",
     "library": "var_list.py",
     "varRefreshCmd": "print(var_dic_list())"
    },
    "r": {
     "delete_cmd_postfix": ") ",
     "delete_cmd_prefix": "rm(",
     "library": "var_list.r",
     "varRefreshCmd": "cat(var_dic_list()) "
    }
   },
   "oldHeight": 122,
   "position": {
    "height": "40px",
    "left": "781px",
    "right": "20px",
    "top": "120px",
    "width": "250px"
   },
   "types_to_exclude": [
    "module",
    "function",
    "builtin_function_or_method",
    "instance",
    "_Feature"
   ],
   "varInspector_section_display": "none",
   "window_display": false
  }
 },
 "nbformat": 4,
 "nbformat_minor": 4
}
