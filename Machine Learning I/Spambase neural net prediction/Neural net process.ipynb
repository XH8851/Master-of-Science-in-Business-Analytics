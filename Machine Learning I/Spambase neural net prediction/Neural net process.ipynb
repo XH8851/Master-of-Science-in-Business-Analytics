{
 "cells": [
  {
   "cell_type": "markdown",
   "metadata": {},
   "source": [
    "# Get Data"
   ]
  },
  {
   "cell_type": "code",
   "execution_count": 1,
   "metadata": {
    "ExecuteTime": {
     "end_time": "2021-11-18T17:18:10.655353Z",
     "start_time": "2021-11-18T17:18:04.177648Z"
    }
   },
   "outputs": [],
   "source": [
    "import numpy as np\n",
    "import pandas as pd\n",
    "from keras.models import Sequential\n",
    "from keras.layers import Dense, Activation\n",
    "from keras import optimizers"
   ]
  },
  {
   "cell_type": "code",
   "execution_count": 2,
   "metadata": {
    "ExecuteTime": {
     "end_time": "2021-11-18T17:18:12.928446Z",
     "start_time": "2021-11-18T17:18:12.919012Z"
    }
   },
   "outputs": [],
   "source": [
    "NEpochs = 10000\n",
    "BatchSize=250\n",
    "#Optimizer=optimizers.SGD(lr=0.01)\n",
    "Optimizer=optimizers.RMSprop(lr=0.001)"
   ]
  },
  {
   "cell_type": "code",
   "execution_count": 3,
   "metadata": {
    "ExecuteTime": {
     "end_time": "2021-11-18T17:18:14.043214Z",
     "start_time": "2021-11-18T17:18:13.963343Z"
    }
   },
   "outputs": [],
   "source": [
    "# Read in the data\n",
    "\n",
    "TrainDF = pd.read_csv('/Users/hanxiao/Downloads/EmoryU/Fall/Machine Learning I/Homework/HM3_ML1/NNHWTrain.csv',sep=',',header=0,quotechar='\"')\n",
    "ValDF = pd.read_csv('/Users/hanxiao/Downloads/EmoryU/Fall/Machine Learning I/Homework/HM3_ML1/NNHWVal.csv',sep=',',header=0,quotechar='\"')\n",
    "TestDF = pd.read_csv('/Users/hanxiao/Downloads/EmoryU/Fall/Machine Learning I/Homework/HM3_ML1/NNHWTest.csv',sep=',',header=0,quotechar='\"')"
   ]
  },
  {
   "cell_type": "code",
   "execution_count": 4,
   "metadata": {
    "ExecuteTime": {
     "end_time": "2021-11-18T17:18:14.683231Z",
     "start_time": "2021-11-18T17:18:14.670068Z"
    }
   },
   "outputs": [],
   "source": [
    "TrIsSpam = np.array(TrainDF['IsSpam'])\n",
    "\n",
    "TrX = np.array(TrainDF.iloc[:,:-1])"
   ]
  },
  {
   "cell_type": "markdown",
   "metadata": {},
   "source": [
    "## Rescale the training X data"
   ]
  },
  {
   "cell_type": "code",
   "execution_count": 5,
   "metadata": {
    "ExecuteTime": {
     "end_time": "2021-11-18T17:18:18.357247Z",
     "start_time": "2021-11-18T17:18:18.348929Z"
    }
   },
   "outputs": [],
   "source": [
    "TrXrsc = (TrX - TrX.min(axis=0))/TrX.ptp(axis=0)"
   ]
  },
  {
   "cell_type": "code",
   "execution_count": 6,
   "metadata": {
    "ExecuteTime": {
     "end_time": "2021-11-18T17:18:18.919075Z",
     "start_time": "2021-11-18T17:18:18.912346Z"
    }
   },
   "outputs": [
    {
     "name": "stdout",
     "output_type": "stream",
     "text": [
      "0\n",
      "1\n"
     ]
    }
   ],
   "source": [
    "# No need to rescale the Y because it is already 0 and 1. But check\n",
    "\n",
    "print(TrIsSpam.min())\n",
    "print(TrIsSpam.max())"
   ]
  },
  {
   "cell_type": "markdown",
   "metadata": {},
   "source": [
    "## Rescale the validation data"
   ]
  },
  {
   "cell_type": "code",
   "execution_count": 7,
   "metadata": {
    "ExecuteTime": {
     "end_time": "2021-11-18T17:18:21.402067Z",
     "start_time": "2021-11-18T17:18:21.392383Z"
    }
   },
   "outputs": [],
   "source": [
    "ValIsSpam = np.array(ValDF['IsSpam'])\n",
    "\n",
    "ValX = np.array(ValDF.iloc[:,:-1])\n",
    "\n",
    "ValXrsc = (ValX - TrX.min(axis=0))/TrX.ptp(axis=0)"
   ]
  },
  {
   "cell_type": "markdown",
   "metadata": {},
   "source": [
    "## Rescale the test data"
   ]
  },
  {
   "cell_type": "code",
   "execution_count": 8,
   "metadata": {
    "ExecuteTime": {
     "end_time": "2021-11-18T17:18:23.817792Z",
     "start_time": "2021-11-18T17:18:23.805607Z"
    }
   },
   "outputs": [],
   "source": [
    "TestIsSpam = np.array(TestDF['IsSpam'])\n",
    "\n",
    "TestX = np.array(TestDF.iloc[:,:-1])\n",
    "\n",
    "TestXrsc = (TestX - TrX.min(axis=0))/TrX.ptp(axis=0)"
   ]
  },
  {
   "cell_type": "markdown",
   "metadata": {},
   "source": [
    "# Set up Neural Net Model"
   ]
  },
  {
   "cell_type": "code",
   "execution_count": 26,
   "metadata": {
    "ExecuteTime": {
     "end_time": "2021-11-18T22:30:04.970637Z",
     "start_time": "2021-11-18T22:30:04.660654Z"
    }
   },
   "outputs": [
    {
     "name": "stdout",
     "output_type": "stream",
     "text": [
      "Model: \"sequential_2\"\n",
      "_________________________________________________________________\n",
      "Layer (type)                 Output Shape              Param #   \n",
      "=================================================================\n",
      "dense_8 (Dense)              (None, 20)                1160      \n",
      "_________________________________________________________________\n",
      "dense_9 (Dense)              (None, 1)                 21        \n",
      "=================================================================\n",
      "Total params: 1,181\n",
      "Trainable params: 1,181\n",
      "Non-trainable params: 0\n",
      "_________________________________________________________________\n",
      "None\n"
     ]
    }
   ],
   "source": [
    "SpiralNN = Sequential()\n",
    "\n",
    "SpiralNN.add(Dense(units=20,input_shape=(TrXrsc.shape[1],),activation=\"relu\",use_bias=True))\n",
    "SpiralNN.add(Dense(units=1,activation=\"sigmoid\",use_bias=True))\n",
    "\n",
    "SpiralNN.compile(loss='binary_crossentropy', optimizer=Optimizer,metrics=['binary_crossentropy','accuracy'])\n",
    "print(SpiralNN.summary())"
   ]
  },
  {
   "cell_type": "markdown",
   "metadata": {},
   "source": [
    "# Fit NN Model"
   ]
  },
  {
   "cell_type": "code",
   "execution_count": 27,
   "metadata": {
    "ExecuteTime": {
     "end_time": "2021-11-18T22:30:45.604929Z",
     "start_time": "2021-11-18T22:30:11.093528Z"
    }
   },
   "outputs": [],
   "source": [
    "from keras.callbacks import EarlyStopping\n",
    "\n",
    "StopRule = EarlyStopping(monitor='val_loss',mode='min',verbose=0,patience=100,min_delta=0.0)\n",
    "FitHist = SpiralNN.fit(TrXrsc,TrIsSpam,validation_data=(ValXrsc,ValIsSpam), \\\n",
    "                    epochs=NEpochs,batch_size=BatchSize,verbose=0, \\\n",
    "                    callbacks=[StopRule])"
   ]
  },
  {
   "cell_type": "code",
   "execution_count": 28,
   "metadata": {
    "ExecuteTime": {
     "end_time": "2021-11-18T22:30:45.692963Z",
     "start_time": "2021-11-18T22:30:45.685141Z"
    }
   },
   "outputs": [
    {
     "name": "stdout",
     "output_type": "stream",
     "text": [
      "Number of Epochs = 1075\n",
      "Final training accuracy: 0.9764578342437744\n",
      "Recent history for training accuracy: [0.9757334589958191, 0.9764578342437744, 0.9764578342437744, 0.9764578342437744, 0.9757334589958191, 0.9760956168174744, 0.9771822094917297, 0.9768199920654297, 0.9771822094917297]\n",
      "Final validation accuracy: 0.9413043260574341\n",
      "Recent history for validation accuracy: [0.9434782862663269, 0.9434782862663269, 0.9423912763595581, 0.9413043260574341, 0.9402173757553101, 0.9423912763595581, 0.9423912763595581, 0.9423912763595581, 0.9413043260574341]\n"
     ]
    }
   ],
   "source": [
    "print(\"Number of Epochs = \"+str(len(FitHist.history['accuracy'])))\n",
    "print(\"Final training accuracy: \"+str(FitHist.history['accuracy'][-1]))\n",
    "print(\"Recent history for training accuracy: \"+str(FitHist.history['accuracy'][-10:-1]))\n",
    "print(\"Final validation accuracy: \"+str(FitHist.history['val_accuracy'][-1]))\n",
    "print(\"Recent history for validation accuracy: \"+str(FitHist.history['val_accuracy'][-10:-1]))"
   ]
  },
  {
   "cell_type": "markdown",
   "metadata": {},
   "source": [
    "# Predictions"
   ]
  },
  {
   "cell_type": "code",
   "execution_count": 29,
   "metadata": {
    "ExecuteTime": {
     "end_time": "2021-11-18T22:30:45.953611Z",
     "start_time": "2021-11-18T22:30:45.784612Z"
    }
   },
   "outputs": [
    {
     "name": "stdout",
     "output_type": "stream",
     "text": [
      "WARNING:tensorflow:5 out of the last 7 calls to <function Model.make_predict_function.<locals>.predict_function at 0x14475d160> triggered tf.function retracing. Tracing is expensive and the excessive number of tracings could be due to (1) creating @tf.function repeatedly in a loop, (2) passing tensors with different shapes, (3) passing Python objects instead of tensors. For (1), please define your @tf.function outside of the loop. For (2), @tf.function has experimental_relax_shapes=True option that relaxes argument shapes that can avoid unnecessary retracing. For (3), please refer to https://www.tensorflow.org/tutorials/customization/performance#python_or_tensor_args and https://www.tensorflow.org/api_docs/python/tf/function for  more details.\n",
      "WARNING:tensorflow:6 out of the last 8 calls to <function Model.make_predict_function.<locals>.predict_function at 0x14475d160> triggered tf.function retracing. Tracing is expensive and the excessive number of tracings could be due to (1) creating @tf.function repeatedly in a loop, (2) passing tensors with different shapes, (3) passing Python objects instead of tensors. For (1), please define your @tf.function outside of the loop. For (2), @tf.function has experimental_relax_shapes=True option that relaxes argument shapes that can avoid unnecessary retracing. For (3), please refer to https://www.tensorflow.org/tutorials/customization/performance#python_or_tensor_args and https://www.tensorflow.org/api_docs/python/tf/function for  more details.\n"
     ]
    }
   ],
   "source": [
    "TrP = SpiralNN.predict(TrXrsc,batch_size=TrXrsc.shape[0])\n",
    "ValP = SpiralNN.predict(ValXrsc,batch_size=ValXrsc.shape[0])\n",
    "TestP = SpiralNN.predict(TestXrsc,batch_size=TestXrsc.shape[0])"
   ]
  },
  {
   "cell_type": "code",
   "execution_count": 30,
   "metadata": {
    "ExecuteTime": {
     "end_time": "2021-11-18T22:30:46.045039Z",
     "start_time": "2021-11-18T22:30:46.036403Z"
    }
   },
   "outputs": [],
   "source": [
    "TrainDF['TrP'] = TrP.reshape(-1)\n",
    "ValDF['ValP'] = ValP.reshape(-1)\n",
    "TestDF['TestP'] = TestP.reshape(-1)"
   ]
  },
  {
   "cell_type": "code",
   "execution_count": 31,
   "metadata": {
    "ExecuteTime": {
     "end_time": "2021-11-18T22:30:46.373542Z",
     "start_time": "2021-11-18T22:30:46.129916Z"
    }
   },
   "outputs": [],
   "source": [
    "TrainDF.to_csv('SpamNNWideTrainDFOutput.csv',sep=',',na_rep=\"NA\",header=True,index=False)\n",
    "ValDF.to_csv('SpamNNWideValDFOutput.csv',sep=',',na_rep=\"NA\",header=True,index=False)\n",
    "TestDF.to_csv('SpamNNWideTestDFOutput.csv',sep=',',na_rep=\"NA\",header=True,index=False)"
   ]
  },
  {
   "cell_type": "code",
   "execution_count": 32,
   "metadata": {
    "ExecuteTime": {
     "end_time": "2021-11-18T22:30:46.490329Z",
     "start_time": "2021-11-18T22:30:46.443521Z"
    }
   },
   "outputs": [
    {
     "name": "stdout",
     "output_type": "stream",
     "text": [
      "loss :  0.17839404940605164\n",
      "binary_crossentropy :  0.17839404940605164\n",
      "accuracy :  0.9413043260574341\n",
      "\n"
     ]
    }
   ],
   "source": [
    "results = SpiralNN.evaluate(ValXrsc, ValIsSpam,\n",
    "                                           batch_size=BatchSize, verbose=0)\n",
    "\n",
    "for name, value in zip(SpiralNN.metrics_names, results):\n",
    "  print(name, ': ', value)\n",
    "print()"
   ]
  },
  {
   "cell_type": "code",
   "execution_count": 34,
   "metadata": {
    "ExecuteTime": {
     "end_time": "2021-11-18T22:40:39.798845Z",
     "start_time": "2021-11-18T22:40:39.790030Z"
    }
   },
   "outputs": [
    {
     "data": {
      "text/plain": [
       "<tensorflow.python.keras.engine.sequential.Sequential at 0x144c8bd60>"
      ]
     },
     "execution_count": 34,
     "metadata": {},
     "output_type": "execute_result"
    }
   ],
   "source": []
  },
  {
   "cell_type": "code",
   "execution_count": 33,
   "metadata": {
    "ExecuteTime": {
     "end_time": "2021-11-18T22:38:40.859628Z",
     "start_time": "2021-11-18T22:38:40.832929Z"
    }
   },
   "outputs": [
    {
     "data": {
      "text/plain": [
       "['_TF_MODULE_IGNORED_PROPERTIES',\n",
       " '__call__',\n",
       " '__class__',\n",
       " '__delattr__',\n",
       " '__dict__',\n",
       " '__dir__',\n",
       " '__doc__',\n",
       " '__eq__',\n",
       " '__format__',\n",
       " '__ge__',\n",
       " '__getattribute__',\n",
       " '__getstate__',\n",
       " '__gt__',\n",
       " '__hash__',\n",
       " '__init__',\n",
       " '__init_subclass__',\n",
       " '__le__',\n",
       " '__lt__',\n",
       " '__module__',\n",
       " '__ne__',\n",
       " '__new__',\n",
       " '__reduce__',\n",
       " '__reduce_ex__',\n",
       " '__repr__',\n",
       " '__setattr__',\n",
       " '__setstate__',\n",
       " '__sizeof__',\n",
       " '__str__',\n",
       " '__subclasshook__',\n",
       " '__weakref__',\n",
       " '_activity_regularizer',\n",
       " '_add_trackable',\n",
       " '_add_variable_with_custom_getter',\n",
       " '_assert_compile_was_called',\n",
       " '_assert_weights_created',\n",
       " '_auto_track_sub_layers',\n",
       " '_autocast',\n",
       " '_autographed_call',\n",
       " '_base_model_initialized',\n",
       " '_build_graph_network_for_inferred_shape',\n",
       " '_build_input_shape',\n",
       " '_call_accepts_kwargs',\n",
       " '_call_arg_was_passed',\n",
       " '_call_fn_arg_defaults',\n",
       " '_call_fn_arg_positions',\n",
       " '_call_fn_args',\n",
       " '_call_full_argspec',\n",
       " '_callable_losses',\n",
       " '_cast_single_input',\n",
       " '_check_call_args',\n",
       " '_checkpoint_dependencies',\n",
       " '_clear_losses',\n",
       " '_compile_was_called',\n",
       " '_compiled_trainable_state',\n",
       " '_compute_dtype',\n",
       " '_compute_dtype_object',\n",
       " '_compute_output_and_mask_jointly',\n",
       " '_compute_tensor_usage_count',\n",
       " '_configure_steps_per_execution',\n",
       " '_conform_to_reference_input',\n",
       " '_created_nodes',\n",
       " '_dedup_weights',\n",
       " '_default_training_arg',\n",
       " '_deferred_dependencies',\n",
       " '_distribution_strategy',\n",
       " '_dtype',\n",
       " '_dtype_defaulted_to_floatx',\n",
       " '_dtype_policy',\n",
       " '_dynamic',\n",
       " '_eager_losses',\n",
       " '_enable_dict_to_input_mapping',\n",
       " '_expects_mask_arg',\n",
       " '_expects_training_arg',\n",
       " '_feed_input_names',\n",
       " '_feed_input_shapes',\n",
       " '_feed_inputs',\n",
       " '_flatten',\n",
       " '_flatten_layers',\n",
       " '_flatten_to_reference_inputs',\n",
       " '_functional_construction_call',\n",
       " '_gather_children_attribute',\n",
       " '_gather_saveables_for_checkpoint',\n",
       " '_get_call_arg_value',\n",
       " '_get_callback_model',\n",
       " '_get_compile_args',\n",
       " '_get_distribution_strategy',\n",
       " '_get_existing_metric',\n",
       " '_get_input_masks',\n",
       " '_get_node_attribute_at_index',\n",
       " '_get_optimizer',\n",
       " '_get_save_spec',\n",
       " '_get_trainable_state',\n",
       " '_graph_initialized',\n",
       " '_graph_network_add_loss',\n",
       " '_graph_network_add_metric',\n",
       " '_handle_activity_regularization',\n",
       " '_handle_deferred_dependencies',\n",
       " '_handle_deferred_layer_dependencies',\n",
       " '_handle_weight_regularization',\n",
       " '_has_explicit_input_shape',\n",
       " '_in_multi_worker_mode',\n",
       " '_inbound_nodes',\n",
       " '_infer_output_signature',\n",
       " '_inferred_input_shape',\n",
       " '_init_batch_counters',\n",
       " '_init_call_fn_args',\n",
       " '_init_graph_network',\n",
       " '_init_set_name',\n",
       " '_initial_weights',\n",
       " '_input_coordinates',\n",
       " '_input_dtype',\n",
       " '_input_layers',\n",
       " '_input_spec',\n",
       " '_insert_layers',\n",
       " '_is_compiled',\n",
       " '_is_graph_network',\n",
       " '_is_layer',\n",
       " '_is_layer_name_unique',\n",
       " '_keras_api_names',\n",
       " '_keras_api_names_v1',\n",
       " '_keras_tensor_symbolic_call',\n",
       " '_layer_call_argspecs',\n",
       " '_layer_checkpoint_dependencies',\n",
       " '_layers',\n",
       " '_list_extra_dependencies_for_serialization',\n",
       " '_list_functions_for_serialization',\n",
       " '_lookup_dependency',\n",
       " '_losses',\n",
       " '_map_resources',\n",
       " '_maybe_build',\n",
       " '_maybe_cast_inputs',\n",
       " '_maybe_create_attribute',\n",
       " '_maybe_initialize_trackable',\n",
       " '_maybe_load_initial_epoch_from_ckpt',\n",
       " '_metrics',\n",
       " '_metrics_lock',\n",
       " '_must_restore_from_config',\n",
       " '_name',\n",
       " '_name_based_attribute_restore',\n",
       " '_name_based_restores',\n",
       " '_name_scope',\n",
       " '_nested_inputs',\n",
       " '_nested_outputs',\n",
       " '_network_nodes',\n",
       " '_no_dependency',\n",
       " '_nodes_by_depth',\n",
       " '_non_trainable_weights',\n",
       " '_obj_reference_counts',\n",
       " '_obj_reference_counts_dict',\n",
       " '_object_identifier',\n",
       " '_outbound_nodes',\n",
       " '_output_coordinates',\n",
       " '_output_layers',\n",
       " '_output_mask_cache',\n",
       " '_output_shape_cache',\n",
       " '_output_tensor_cache',\n",
       " '_predict_counter',\n",
       " '_preload_simple_restoration',\n",
       " '_reset_compile_cache',\n",
       " '_restore_from_checkpoint_position',\n",
       " '_run_eagerly',\n",
       " '_run_internal_graph',\n",
       " '_saved_model_inputs_spec',\n",
       " '_self_name_based_restores',\n",
       " '_self_saveable_object_factories',\n",
       " '_self_setattr_tracking',\n",
       " '_self_unconditional_checkpoint_dependencies',\n",
       " '_self_unconditional_deferred_dependencies',\n",
       " '_self_unconditional_dependency_names',\n",
       " '_self_update_uid',\n",
       " '_set_call_arg_value',\n",
       " '_set_connectivity_metadata',\n",
       " '_set_dtype_policy',\n",
       " '_set_inputs',\n",
       " '_set_mask_keras_history_checked',\n",
       " '_set_mask_metadata',\n",
       " '_set_output_names',\n",
       " '_set_save_spec',\n",
       " '_set_trainable_state',\n",
       " '_set_training_mode',\n",
       " '_setattr_tracking',\n",
       " '_should_cast_single_input',\n",
       " '_should_compute_mask',\n",
       " '_should_eval',\n",
       " '_single_restoration_from_checkpoint_position',\n",
       " '_split_out_first_arg',\n",
       " '_stateful',\n",
       " '_steps_per_execution',\n",
       " '_supports_masking',\n",
       " '_symbolic_call',\n",
       " '_tensor_usage_count',\n",
       " '_test_counter',\n",
       " '_tf_api_names',\n",
       " '_tf_api_names_v1',\n",
       " '_thread_local',\n",
       " '_track_trackable',\n",
       " '_trackable_saved_model_saver',\n",
       " '_trackable_saver',\n",
       " '_tracking_metadata',\n",
       " '_train_counter',\n",
       " '_trainable',\n",
       " '_trainable_weights',\n",
       " '_training_state',\n",
       " '_unconditional_checkpoint_dependencies',\n",
       " '_unconditional_dependency_names',\n",
       " '_undeduplicated_weights',\n",
       " '_update_uid',\n",
       " '_updated_config',\n",
       " '_updates',\n",
       " '_use_legacy_deferred_behavior',\n",
       " '_validate_compile',\n",
       " '_validate_graph_inputs_and_outputs',\n",
       " '_warn_about_input_casting',\n",
       " 'activity_regularizer',\n",
       " 'add',\n",
       " 'add_loss',\n",
       " 'add_metric',\n",
       " 'add_update',\n",
       " 'add_variable',\n",
       " 'add_weight',\n",
       " 'apply',\n",
       " 'build',\n",
       " 'built',\n",
       " 'call',\n",
       " 'compile',\n",
       " 'compiled_loss',\n",
       " 'compiled_metrics',\n",
       " 'compute_mask',\n",
       " 'compute_output_shape',\n",
       " 'compute_output_signature',\n",
       " 'count_params',\n",
       " 'distribute_strategy',\n",
       " 'dtype',\n",
       " 'dynamic',\n",
       " 'evaluate',\n",
       " 'evaluate_generator',\n",
       " 'fit',\n",
       " 'fit_generator',\n",
       " 'from_config',\n",
       " 'get_config',\n",
       " 'get_input_at',\n",
       " 'get_input_mask_at',\n",
       " 'get_input_shape_at',\n",
       " 'get_layer',\n",
       " 'get_losses_for',\n",
       " 'get_output_at',\n",
       " 'get_output_mask_at',\n",
       " 'get_output_shape_at',\n",
       " 'get_updates_for',\n",
       " 'get_weights',\n",
       " 'history',\n",
       " 'inbound_nodes',\n",
       " 'input',\n",
       " 'input_mask',\n",
       " 'input_names',\n",
       " 'input_shape',\n",
       " 'input_spec',\n",
       " 'inputs',\n",
       " 'layers',\n",
       " 'load_weights',\n",
       " 'loss',\n",
       " 'losses',\n",
       " 'make_predict_function',\n",
       " 'make_test_function',\n",
       " 'make_train_function',\n",
       " 'metrics',\n",
       " 'metrics_names',\n",
       " 'name',\n",
       " 'name_scope',\n",
       " 'non_trainable_variables',\n",
       " 'non_trainable_weights',\n",
       " 'optimizer',\n",
       " 'outbound_nodes',\n",
       " 'output',\n",
       " 'output_mask',\n",
       " 'output_names',\n",
       " 'output_shape',\n",
       " 'outputs',\n",
       " 'pop',\n",
       " 'predict',\n",
       " 'predict_classes',\n",
       " 'predict_function',\n",
       " 'predict_generator',\n",
       " 'predict_on_batch',\n",
       " 'predict_proba',\n",
       " 'predict_step',\n",
       " 'reset_metrics',\n",
       " 'reset_states',\n",
       " 'run_eagerly',\n",
       " 'save',\n",
       " 'save_weights',\n",
       " 'set_weights',\n",
       " 'state_updates',\n",
       " 'stateful',\n",
       " 'stop_training',\n",
       " 'submodules',\n",
       " 'summary',\n",
       " 'supports_masking',\n",
       " 'test_function',\n",
       " 'test_on_batch',\n",
       " 'test_step',\n",
       " 'to_json',\n",
       " 'to_yaml',\n",
       " 'train_function',\n",
       " 'train_on_batch',\n",
       " 'train_step',\n",
       " 'trainable',\n",
       " 'trainable_variables',\n",
       " 'trainable_weights',\n",
       " 'updates',\n",
       " 'variables',\n",
       " 'weights',\n",
       " 'with_name_scope']"
      ]
     },
     "execution_count": 33,
     "metadata": {},
     "output_type": "execute_result"
    }
   ],
   "source": [
    "dir(SpiralNN)"
   ]
  },
  {
   "cell_type": "markdown",
   "metadata": {},
   "source": [
    "# Narrow NN"
   ]
  },
  {
   "cell_type": "code",
   "execution_count": 35,
   "metadata": {
    "ExecuteTime": {
     "end_time": "2021-11-18T22:49:48.539885Z",
     "start_time": "2021-11-18T22:49:48.422112Z"
    }
   },
   "outputs": [
    {
     "name": "stdout",
     "output_type": "stream",
     "text": [
      "Model: \"sequential_3\"\n",
      "_________________________________________________________________\n",
      "Layer (type)                 Output Shape              Param #   \n",
      "=================================================================\n",
      "dense_10 (Dense)             (None, 4)                 232       \n",
      "_________________________________________________________________\n",
      "dense_11 (Dense)             (None, 4)                 20        \n",
      "_________________________________________________________________\n",
      "dense_12 (Dense)             (None, 4)                 20        \n",
      "_________________________________________________________________\n",
      "dense_13 (Dense)             (None, 4)                 20        \n",
      "_________________________________________________________________\n",
      "dense_14 (Dense)             (None, 4)                 20        \n",
      "_________________________________________________________________\n",
      "dense_15 (Dense)             (None, 1)                 5         \n",
      "=================================================================\n",
      "Total params: 317\n",
      "Trainable params: 317\n",
      "Non-trainable params: 0\n",
      "_________________________________________________________________\n",
      "None\n"
     ]
    }
   ],
   "source": [
    "SpiralNN = Sequential()\n",
    "\n",
    "SpiralNN.add(Dense(units=4,input_shape=(TrXrsc.shape[1],),activation=\"relu\",use_bias=True))\n",
    "SpiralNN.add(Dense(units=4,activation=\"relu\",use_bias=True))\n",
    "SpiralNN.add(Dense(units=4,activation=\"relu\",use_bias=True))\n",
    "SpiralNN.add(Dense(units=4,activation=\"relu\",use_bias=True))\n",
    "SpiralNN.add(Dense(units=4,activation=\"relu\",use_bias=True))\n",
    "SpiralNN.add(Dense(units=1,activation=\"sigmoid\",use_bias=True))\n",
    "\n",
    "SpiralNN.compile(loss='binary_crossentropy', optimizer=Optimizer,metrics=['binary_crossentropy','accuracy'])\n",
    "print(SpiralNN.summary())"
   ]
  },
  {
   "cell_type": "code",
   "execution_count": 36,
   "metadata": {
    "ExecuteTime": {
     "end_time": "2021-11-18T22:50:11.266045Z",
     "start_time": "2021-11-18T22:49:48.545302Z"
    }
   },
   "outputs": [],
   "source": [
    "from keras.callbacks import EarlyStopping\n",
    "\n",
    "StopRule = EarlyStopping(monitor='val_loss',mode='min',verbose=0,patience=100,min_delta=0.0)\n",
    "FitHist = SpiralNN.fit(TrXrsc,TrIsSpam,validation_data=(ValXrsc,ValIsSpam), \\\n",
    "                    epochs=NEpochs,batch_size=BatchSize,verbose=0, \\\n",
    "                    callbacks=[StopRule])"
   ]
  },
  {
   "cell_type": "code",
   "execution_count": 37,
   "metadata": {
    "ExecuteTime": {
     "end_time": "2021-11-18T22:50:11.282883Z",
     "start_time": "2021-11-18T22:50:11.271386Z"
    }
   },
   "outputs": [
    {
     "name": "stdout",
     "output_type": "stream",
     "text": [
      "Number of Epochs = 658\n",
      "Final training accuracy: 0.9637812376022339\n",
      "Recent history for training accuracy: [0.9608837366104126, 0.9630568623542786, 0.9616081118583679, 0.9630568623542786, 0.9623324871063232, 0.9641434550285339, 0.9637812376022339, 0.9612459540367126, 0.9626947045326233]\n",
      "Final validation accuracy: 0.9336956739425659\n",
      "Recent history for validation accuracy: [0.935869574546814, 0.936956524848938, 0.935869574546814, 0.938043475151062, 0.935869574546814, 0.935869574546814, 0.936956524848938, 0.9347826242446899, 0.929347813129425]\n"
     ]
    }
   ],
   "source": [
    "print(\"Number of Epochs = \"+str(len(FitHist.history['accuracy'])))\n",
    "print(\"Final training accuracy: \"+str(FitHist.history['accuracy'][-1]))\n",
    "print(\"Recent history for training accuracy: \"+str(FitHist.history['accuracy'][-10:-1]))\n",
    "print(\"Final validation accuracy: \"+str(FitHist.history['val_accuracy'][-1]))\n",
    "print(\"Recent history for validation accuracy: \"+str(FitHist.history['val_accuracy'][-10:-1]))"
   ]
  },
  {
   "cell_type": "code",
   "execution_count": 38,
   "metadata": {
    "ExecuteTime": {
     "end_time": "2021-11-18T22:50:11.829005Z",
     "start_time": "2021-11-18T22:50:11.291727Z"
    }
   },
   "outputs": [
    {
     "name": "stdout",
     "output_type": "stream",
     "text": [
      "WARNING:tensorflow:7 out of the last 10 calls to <function Model.make_predict_function.<locals>.predict_function at 0x14284d1f0> triggered tf.function retracing. Tracing is expensive and the excessive number of tracings could be due to (1) creating @tf.function repeatedly in a loop, (2) passing tensors with different shapes, (3) passing Python objects instead of tensors. For (1), please define your @tf.function outside of the loop. For (2), @tf.function has experimental_relax_shapes=True option that relaxes argument shapes that can avoid unnecessary retracing. For (3), please refer to https://www.tensorflow.org/tutorials/customization/performance#python_or_tensor_args and https://www.tensorflow.org/api_docs/python/tf/function for  more details.\n",
      "WARNING:tensorflow:8 out of the last 11 calls to <function Model.make_predict_function.<locals>.predict_function at 0x14284d1f0> triggered tf.function retracing. Tracing is expensive and the excessive number of tracings could be due to (1) creating @tf.function repeatedly in a loop, (2) passing tensors with different shapes, (3) passing Python objects instead of tensors. For (1), please define your @tf.function outside of the loop. For (2), @tf.function has experimental_relax_shapes=True option that relaxes argument shapes that can avoid unnecessary retracing. For (3), please refer to https://www.tensorflow.org/tutorials/customization/performance#python_or_tensor_args and https://www.tensorflow.org/api_docs/python/tf/function for  more details.\n"
     ]
    }
   ],
   "source": [
    "TrP = SpiralNN.predict(TrXrsc,batch_size=TrXrsc.shape[0])\n",
    "ValP = SpiralNN.predict(ValXrsc,batch_size=ValXrsc.shape[0])\n",
    "TestP = SpiralNN.predict(TestXrsc,batch_size=TestXrsc.shape[0])\n",
    "\n",
    "TrainDF['TrP'] = TrP.reshape(-1)\n",
    "ValDF['ValP'] = ValP.reshape(-1)\n",
    "TestDF['TestP'] = TestP.reshape(-1)\n",
    "\n",
    "TrainDF.to_csv('SpamNNWideTrainDFOutput.csv',sep=',',na_rep=\"NA\",header=True,index=False)\n",
    "ValDF.to_csv('SpamNNWideValDFOutput.csv',sep=',',na_rep=\"NA\",header=True,index=False)\n",
    "TestDF.to_csv('SpamNNWideTestDFOutput.csv',sep=',',na_rep=\"NA\",header=True,index=False)"
   ]
  },
  {
   "cell_type": "code",
   "execution_count": 39,
   "metadata": {
    "ExecuteTime": {
     "end_time": "2021-11-18T22:50:11.895492Z",
     "start_time": "2021-11-18T22:50:11.832520Z"
    }
   },
   "outputs": [
    {
     "name": "stdout",
     "output_type": "stream",
     "text": [
      "loss :  0.20155967772006989\n",
      "binary_crossentropy :  0.20155967772006989\n",
      "accuracy :  0.9336956739425659\n",
      "\n"
     ]
    }
   ],
   "source": [
    "results = SpiralNN.evaluate(ValXrsc, ValIsSpam,\n",
    "                                           batch_size=BatchSize, verbose=0)\n",
    "\n",
    "for name, value in zip(SpiralNN.metrics_names, results):\n",
    "  print(name, ': ', value)\n",
    "print()"
   ]
  },
  {
   "cell_type": "code",
   "execution_count": null,
   "metadata": {},
   "outputs": [],
   "source": []
  }
 ],
 "metadata": {
  "kernelspec": {
   "display_name": "Python 3",
   "language": "python",
   "name": "python3"
  },
  "language_info": {
   "codemirror_mode": {
    "name": "ipython",
    "version": 3
   },
   "file_extension": ".py",
   "mimetype": "text/x-python",
   "name": "python",
   "nbconvert_exporter": "python",
   "pygments_lexer": "ipython3",
   "version": "3.8.3"
  },
  "toc": {
   "base_numbering": 1,
   "nav_menu": {},
   "number_sections": true,
   "sideBar": true,
   "skip_h1_title": false,
   "title_cell": "Table of Contents",
   "title_sidebar": "Contents",
   "toc_cell": false,
   "toc_position": {},
   "toc_section_display": true,
   "toc_window_display": false
  },
  "varInspector": {
   "cols": {
    "lenName": 16,
    "lenType": 16,
    "lenVar": 40
   },
   "kernels_config": {
    "python": {
     "delete_cmd_postfix": "",
     "delete_cmd_prefix": "del ",
     "library": "var_list.py",
     "varRefreshCmd": "print(var_dic_list())"
    },
    "r": {
     "delete_cmd_postfix": ") ",
     "delete_cmd_prefix": "rm(",
     "library": "var_list.r",
     "varRefreshCmd": "cat(var_dic_list()) "
    }
   },
   "types_to_exclude": [
    "module",
    "function",
    "builtin_function_or_method",
    "instance",
    "_Feature"
   ],
   "window_display": false
  }
 },
 "nbformat": 4,
 "nbformat_minor": 4
}
